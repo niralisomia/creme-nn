{
 "cells": [
  {
   "cell_type": "code",
   "execution_count": 105,
   "id": "f75f21f5-6987-4872-8b5f-4280b1c0bca9",
   "metadata": {},
   "outputs": [
    {
     "name": "stdout",
     "output_type": "stream",
     "text": [
      "The autoreload extension is already loaded. To reload it, use:\n",
      "  %reload_ext autoreload\n"
     ]
    }
   ],
   "source": [
    "%load_ext autoreload\n",
    "%autoreload 2\n",
    "import pandas as pd\n",
    "import numpy as np\n",
    "import sys\n",
    "sys.path.append('../creme/')\n",
    "import custom_model\n",
    "import shuffle\n",
    "import creme\n",
    "import utils\n",
    "import glob\n",
    "from tqdm import tqdm\n",
    "import matplotlib.pyplot as plt\n",
    "import seaborn as sns\n",
    "import pyranges as pr\n",
    "import shutil\n",
    "import pickle\n",
    "import kipoiseq\n",
    "from itertools import combinations\n",
    "import scipy\n",
    "import os\n",
    "import gene as bgene\n",
    "import shuffle\n",
    "from scipy.stats import pearsonr\n",
    "import tensorflow_hub as hub\n",
    "\n",
    "import copy\n",
    "from pymemesuite.fimo import FIMO\n",
    "from pymemesuite.common import MotifFile\n",
    "import Bio.SeqIO\n",
    "from pymemesuite.common import Sequence"
   ]
  },
  {
   "cell_type": "code",
   "execution_count": 132,
   "id": "2bd71d45-6aff-40e6-8d14-46058dd501cb",
   "metadata": {},
   "outputs": [],
   "source": [
    "model = custom_model.Enformer(track_index=[4824, 5110, 5111], bin_index=[447, 448])"
   ]
  },
  {
   "cell_type": "code",
   "execution_count": 72,
   "id": "4402b9fb-dea1-40ef-af3a-a3d276d3a3f8",
   "metadata": {},
   "outputs": [],
   "source": [
    "data_dir = '../data/'\n",
    "genome_path = f'{data_dir}/GRCh38.primary_assembly.genome.fa'\n",
    "seq_parser = utils.SequenceParser(genome_path)\n",
    "model_name = 'enformer'\n",
    "\n",
    "result_dir = utils.make_dir(f\"{utils.make_dir(f'../results/XSTREME/')}/FIMO/\")\n",
    "csv_dir = f'../results/summary_csvs/{model_name}/'\n",
    "cre_df_path = f'{csv_dir}/sufficient_CREs.csv'\n",
    "cre_set = pd.read_csv(cre_df_path)"
   ]
  },
  {
   "cell_type": "code",
   "execution_count": 173,
   "id": "63f94bc7-c521-42ca-be23-3d7255a500e2",
   "metadata": {},
   "outputs": [],
   "source": [
    "cre_set = cre_set[cre_set['cell_line']=='K562']"
   ]
  },
  {
   "cell_type": "code",
   "execution_count": 203,
   "id": "8317e2e2-db14-4f99-b351-fa110ed5e686",
   "metadata": {},
   "outputs": [
    {
     "data": {
      "text/plain": [
       "[]"
      ]
     },
     "execution_count": 203,
     "metadata": {},
     "output_type": "execute_result"
    }
   ],
   "source": [
    "[g for g in cre_set['seq_id'].values if 'KAT6A' in g]"
   ]
  },
  {
   "cell_type": "code",
   "execution_count": 207,
   "id": "6283d403-36a7-4d30-a168-69566152ef90",
   "metadata": {},
   "outputs": [
    {
     "data": {
      "text/plain": [
       "array(['ABO', 'ACSL6', 'ACSL6', 'ADGRG1', 'ADGRG1', 'ADGRG1', 'AK7',\n",
       "       'AK7', 'AK7', 'AKAP13', 'ALDOC', 'ALKBH2', 'ATG101', 'BBS5',\n",
       "       'CA13', 'CA13', 'CA13', 'CCDC80', 'CCDC88C', 'CCPG1', 'CFAP20DC',\n",
       "       'CHAF1B', 'CHAF1B', 'CHST11', 'CHST11', 'CLUAP1', 'CNTLN', 'CNTLN',\n",
       "       'COMMD6', 'CPNE3', 'CREG1', 'CXCL2', 'CXXC5', 'CXXC5', 'CYB5D1',\n",
       "       'DAB2', 'DNASE1L1', 'DYSF', 'DYSF', 'DYSF', 'EEF1A2', 'EEF1A2',\n",
       "       'ENSG00000257355', 'ENSG00000268133', 'ENSG00000269026',\n",
       "       'ENSG00000269533', 'ENSG00000269533', 'ENSG00000273734',\n",
       "       'ENSG00000276302', 'ENSG00000284931', 'ENSG00000288208',\n",
       "       'ENSG00000288208', 'ENSG00000288208', 'ENSG00000288208',\n",
       "       'ENSG00000288208', 'ENSG00000288796', 'ENSG00000290263',\n",
       "       'ENSG00000290263', 'ETV3', 'FAN1', 'FMNL1', 'FOXO3B', 'FZD6',\n",
       "       'G0S2', 'G0S2', 'G0S2', 'G0S2', 'G0S2', 'G0S2', 'GABRE', 'GABRE',\n",
       "       'GAD1', 'GADD45B', 'GADD45B', 'GADD45GIP1', 'GATA2', 'GEMIN7',\n",
       "       'GFI1B', 'GFI1B', 'GPR146', 'HACD1', 'HEY1', 'HEY1', 'IL20RB',\n",
       "       'IL20RB', 'IL20RB', 'IL20RB', 'IL20RB', 'IL20RB', 'IL20RB',\n",
       "       'IL20RB', 'IL20RB', 'IL20RB', 'IL20RB', 'KBTBD8', 'KIR3DL1',\n",
       "       'KISS1R', 'KIT', 'KLF10', 'LACTB', 'LACTB', 'LDOC1', 'LDOC1',\n",
       "       'LDOC1', 'LDOC1', 'LDOC1', 'LDOC1', 'LGALS9', 'LGALS9', 'LRP3',\n",
       "       'MACC1', 'MAT2A', 'MATCAP2', 'MATCAP2', 'MATCAP2', 'MATCAP2',\n",
       "       'MBD3L1', 'MFF', 'MINPP1', 'MINPP1', 'MLLT11', 'MR1', 'MR1',\n",
       "       'MYADM', 'MYBL1', 'MYEOV', 'MYL9', 'MYO1G', 'MYO1G', 'MYO1G',\n",
       "       'MYO1G', 'N6AMT1', 'N6AMT1', 'NAT10', 'NEK9', 'NFIL3', 'NME6',\n",
       "       'NUP85', 'NXF2', 'NXF2', 'OAZ1', 'OTUD1', 'PHYH', 'PLBD1',\n",
       "       'PLEKHH3', 'PLEKHH3', 'PLEKHH3', 'PLPPR2', 'PNP', 'PPP1R3B',\n",
       "       'PROSER1', 'PROSER1', 'PTPN22', 'RAB33B', 'RAB40B', 'RAB40B',\n",
       "       'RAB40B', 'RAB40B', 'RBAK', 'RPUSD2', 'RPUSD2', 'SEC24B', 'SEMA7A',\n",
       "       'SF3B3', 'SLAMF6', 'SMG8', 'SNN', 'SNN', 'SNN', 'SNN', 'SOCS5',\n",
       "       'SOCS5', 'SOCS5', 'SOCS5', 'SOCS5', 'SOCS5', 'STARD5', 'STARD5',\n",
       "       'STX1A', 'STX1A', 'STX1A', 'STX1A', 'TCF7L2', 'TCL1A', 'TESPA1',\n",
       "       'THPO', 'TM6SF1', 'TMEM160', 'TMEM273', 'TMEM86B', 'TOP3B',\n",
       "       'TP53I3', 'TRAPPC2B', 'TREML2', 'USP7', 'VAMP1', 'VARS1', 'VOPP1',\n",
       "       'VOPP1', 'VOPP1', 'ZFP30', 'ZFP30', 'ZFP69', 'ZFP69', 'ZFP90',\n",
       "       'ZIK1', 'ZIK1', 'ZNF12', 'ZNF124', 'ZNF134', 'ZNF134', 'ZNF14',\n",
       "       'ZNF14', 'ZNF17', 'ZNF181', 'ZNF189', 'ZNF197', 'ZNF20', 'ZNF222',\n",
       "       'ZNF222', 'ZNF225', 'ZNF253', 'ZNF256', 'ZNF256', 'ZNF256',\n",
       "       'ZNF256', 'ZNF26', 'ZNF260', 'ZNF264', 'ZNF266', 'ZNF275',\n",
       "       'ZNF286A', 'ZNF286A-TBC1D26', 'ZNF302', 'ZNF304', 'ZNF304',\n",
       "       'ZNF324', 'ZNF324B', 'ZNF324B', 'ZNF33B', 'ZNF33B', 'ZNF354A',\n",
       "       'ZNF397', 'ZNF416', 'ZNF443', 'ZNF460', 'ZNF479', 'ZNF479',\n",
       "       'ZNF479', 'ZNF479', 'ZNF479', 'ZNF506', 'ZNF506', 'ZNF506',\n",
       "       'ZNF506', 'ZNF547', 'ZNF548', 'ZNF548', 'ZNF549', 'ZNF549',\n",
       "       'ZNF550', 'ZNF550', 'ZNF551', 'ZNF552', 'ZNF555', 'ZNF559-ZNF177',\n",
       "       'ZNF560', 'ZNF567', 'ZNF567', 'ZNF57', 'ZNF570', 'ZNF599',\n",
       "       'ZNF606', 'ZNF627', 'ZNF665', 'ZNF671', 'ZNF71', 'ZNF71', 'ZNF717',\n",
       "       'ZNF723', 'ZNF723', 'ZNF749', 'ZNF790', 'ZNF790', 'ZNF799',\n",
       "       'ZNF799', 'ZNF814', 'ZNF814', 'ZNF814', 'ZNF892', 'ZNF892',\n",
       "       'ZNF93', 'ZNF93', 'ZNF93', 'ZNF93', 'ZSCAN31'], dtype='<U15')"
      ]
     },
     "execution_count": 207,
     "metadata": {},
     "output_type": "execute_result"
    }
   ],
   "source": [
    "np.sort([g.split('_')[0] for g in cre_set['seq_id'].values])"
   ]
  },
  {
   "cell_type": "code",
   "execution_count": 174,
   "id": "4d417744-db01-4f48-a7fb-8faab26d8d0f",
   "metadata": {},
   "outputs": [
    {
     "data": {
      "text/plain": [
       "Unnamed: 0                                         19\n",
       "(MUT - CONTROL) / WT                         0.333129\n",
       "(MUT - CONTROL) / CONTROL                   15.364138\n",
       "seq_id                       CHST11_chr12_104456947_+\n",
       "control                                      3.605964\n",
       "wt                                          166.30945\n",
       "mut                                          59.00849\n",
       "tile_start                                     100804\n",
       "tile_end                                       105804\n",
       "context                                     enhancing\n",
       "cell_line                                        K562\n",
       "Normalized CRE effect                        0.333129\n",
       "tile class                                   Enhancer\n",
       "Name: 98, dtype: object"
      ]
     },
     "execution_count": 174,
     "metadata": {},
     "output_type": "execute_result"
    }
   ],
   "source": [
    "row = cre_set.iloc[0]\n",
    "row"
   ]
  },
  {
   "cell_type": "code",
   "execution_count": null,
   "id": "a14d04f0-a9a8-4b61-b982-ee41def493a4",
   "metadata": {},
   "outputs": [],
   "source": []
  },
  {
   "cell_type": "code",
   "execution_count": 175,
   "id": "c0e67eea-ce23-47da-89eb-9e6089eba877",
   "metadata": {},
   "outputs": [],
   "source": [
    "meme_path = '../results/XSTREME/K562_enhancers.meme'"
   ]
  },
  {
   "cell_type": "code",
   "execution_count": 176,
   "id": "c264c897-a163-475e-aa5d-7ec23b6c7e49",
   "metadata": {},
   "outputs": [],
   "source": [
    "N_shuffles = 10\n",
    "tile_size = 5000\n",
    "# load all motifs from meme file\n",
    "motif_file = MotifFile(meme_path)\n",
    "motifs = []\n",
    "for motif in motif_file:\n",
    "    motifs.append(motif)\n",
    "\n",
    "fimo = FIMO(both_strands=True)\n",
    "\n",
    "fasta_dir = utils.make_dir(f'{result_dir}/todo/')"
   ]
  },
  {
   "cell_type": "code",
   "execution_count": 177,
   "id": "adb47a9c-bd45-45ba-9d74-97ae1b133025",
   "metadata": {},
   "outputs": [
    {
     "data": {
      "text/plain": [
       "['C', 'A', 'A', 'A', 'G', 'T', 'G', 'C', 'T', 'G', 'G', 'G', 'A', 'T', 'T']"
      ]
     },
     "execution_count": 177,
     "metadata": {},
     "output_type": "execute_result"
    }
   ],
   "source": [
    "\n",
    "\n",
    "['ACGT'[i] for i in np.array(motif.frequencies).argmax(axis=1)]\n"
   ]
  },
  {
   "cell_type": "code",
   "execution_count": 178,
   "id": "e7b7650b-3ceb-4cb1-8d49-2619e657bf20",
   "metadata": {},
   "outputs": [],
   "source": [
    "chrom, start, strand = row['seq_id'].split('_')[1:]"
   ]
  },
  {
   "cell_type": "code",
   "execution_count": 179,
   "id": "1e840c85-4ea0-42e3-a328-20ce20387641",
   "metadata": {},
   "outputs": [],
   "source": [
    "\n",
    "seq_wt = seq_parser.extract_seq_centered(chrom, int(start), strand, model_seq_length, onehot=False).upper()  # wt str whole seq\n",
    "seq_onehot_wt = utils.one_hot_encode(seq_wt)  # wt onehot whole seq\n",
    "\n"
   ]
  },
  {
   "cell_type": "code",
   "execution_count": 180,
   "id": "87489590-de6c-4b93-9833-290ca6a87f26",
   "metadata": {},
   "outputs": [],
   "source": [
    "cre_start, cre_end = row['tile_start'], row['tile_end']  # coordinate of tile start\n",
    "cre_wt = seq_wt[cre_start:cre_end]  # wt CRE str seq\n",
    "cre_onehot_wt = (seq_onehot_wt[cre_start:cre_start + tile_size]).copy()  # wt CRE onehot\n",
    "\n"
   ]
  },
  {
   "cell_type": "code",
   "execution_count": null,
   "id": "c9867f5f-c433-4d33-bacb-1b962b4c38b0",
   "metadata": {},
   "outputs": [],
   "source": []
  },
  {
   "cell_type": "code",
   "execution_count": 181,
   "id": "b1838bff-9a62-46e2-9f9f-3d7e5e375ba2",
   "metadata": {},
   "outputs": [
    {
     "data": {
      "text/plain": [
       "'/results/XSTREME//FIMO//todo//CHST11_chr12_104456947_+_100804_105804.pickle'"
      ]
     },
     "execution_count": 181,
     "metadata": {},
     "output_type": "execute_result"
    }
   ],
   "source": [
    "fasta_path = f'{fasta_dir}/{row[\"seq_id\"]}_{cre_start}_{cre_end}.fa'  # one seq fasta file\n",
    "result_path = fasta_path.split('.')[-2] + '.pickle'\n",
    "result_path"
   ]
  },
  {
   "cell_type": "code",
   "execution_count": 182,
   "id": "898ff7b4-5564-475e-bd3f-815537a9b200",
   "metadata": {},
   "outputs": [],
   "source": [
    "with open(fasta_path, 'w') as f:\n",
    "    f.write(f'>{row[\"seq_id\"]}_{cre_start}_{cre_end} \\n')\n",
    "    f.write(cre_wt)"
   ]
  },
  {
   "cell_type": "code",
   "execution_count": 183,
   "id": "848518fc-e388-4195-bd4b-806afcc4ce49",
   "metadata": {},
   "outputs": [],
   "source": [
    "sequences = [Sequence(str(record.seq), name=record.id.encode())\n",
    "             for record in Bio.SeqIO.parse(fasta_path, \"fasta\")]  # weird seq format for fimo"
   ]
  },
  {
   "cell_type": "code",
   "execution_count": 184,
   "id": "457f5de2-5b68-4b37-9356-71dc97bb830a",
   "metadata": {},
   "outputs": [],
   "source": [
    "mask = np.zeros((len(motifs), tile_size))\n",
    "for i, motif in enumerate(motifs):\n",
    "    pattern = fimo.score_motif(motif, sequences, motif_file.background)\n",
    "    for m in pattern.matched_elements:\n",
    "        mask[i, m.start:m.stop] = 1"
   ]
  },
  {
   "cell_type": "code",
   "execution_count": 185,
   "id": "11b001e7-8b10-4353-9080-cdaec62ed8d4",
   "metadata": {},
   "outputs": [],
   "source": [
    "index_bool = [True if m else False for m in np.max(mask, axis=0)]  # mask showing motif positions\n",
    "non_index_bool = [not e for e in index_bool]  # mask showing where motifs are not\n",
    "random_mask = copy.copy(index_bool)\n",
    "np.random.shuffle(random_mask)"
   ]
  },
  {
   "cell_type": "code",
   "execution_count": 186,
   "id": "7cdebd88-be2b-4137-9d38-883e40ca37c5",
   "metadata": {},
   "outputs": [],
   "source": [
    "motif_search_res = utils.read_pickle(f'../results/motifs_500,50_batch_1,10_shuffle_10_thresh_0.9,0.7/{row[\"cell_line\"]}/{row[\"seq_id\"]}_{cre_start}_{cre_end}.pickle')"
   ]
  },
  {
   "cell_type": "code",
   "execution_count": 187,
   "id": "9df2aca3-9bbc-47a6-b26c-b35450fa0e55",
   "metadata": {},
   "outputs": [],
   "source": [
    "control_sequences = motif_search_res['control_sequences']"
   ]
  },
  {
   "cell_type": "code",
   "execution_count": 188,
   "id": "68cbfa4a-2a3c-4c48-86d2-242f04108961",
   "metadata": {},
   "outputs": [],
   "source": [
    "result_summary = {}\n",
    "for label, mask in {\"motifs\": index_bool, \"non-motifs\": non_index_bool, \"random\": random_mask, \"all\": [True for _ in range(5000)]}.items(): \n",
    "    # take shuffled CRE from controlseqs\n",
    "    cre_motifs = control_sequences[:,cre_start: cre_end,:].copy() # start with shuffled CRE\n",
    "    cre_motifs[:, mask, :] = cre_onehot_wt[mask] # embed \n",
    "    # embed CRE with just the motifs back into seqs\n",
    "    test_seqs = control_sequences.copy()\n",
    "    test_seqs[:, cre_start: cre_end,:] = cre_motifs\n",
    "    \n",
    "    test_pred = model.predict(test_seqs)\n",
    "    result_summary[label] = test_pred.mean(axis=0).mean(axis=0)\n",
    "    "
   ]
  },
  {
   "cell_type": "code",
   "execution_count": 189,
   "id": "b463d92e-264c-4f7c-8e61-f4221702b3a5",
   "metadata": {},
   "outputs": [
    {
     "data": {
      "text/plain": [
       "{'motifs': array([ 9.566814, 50.804127,  6.219971], dtype=float32),\n",
       " 'non-motifs': array([ 6.897575 , 41.955494 ,  4.8685007], dtype=float32),\n",
       " 'random': array([ 6.068802, 31.875778,  3.377602], dtype=float32),\n",
       " 'all': array([ 11.413242, 144.04369 ,  60.437805], dtype=float32)}"
      ]
     },
     "execution_count": 189,
     "metadata": {},
     "output_type": "execute_result"
    }
   ],
   "source": [
    "result_summary"
   ]
  },
  {
   "cell_type": "code",
   "execution_count": 139,
   "id": "03790e78-cedb-41d9-8520-d1eff2b2226a",
   "metadata": {},
   "outputs": [
    {
     "data": {
      "text/plain": [
       "array([0.12163265, 0.4629516 , 1.4371657 ], dtype=float32)"
      ]
     },
     "execution_count": 139,
     "metadata": {},
     "output_type": "execute_result"
    }
   ],
   "source": [
    "test_pred.mean(axis=0).mean(axis=0)"
   ]
  },
  {
   "cell_type": "code",
   "execution_count": 138,
   "id": "748931bd-5617-4e69-9e49-d7c3540e5ba3",
   "metadata": {},
   "outputs": [
    {
     "data": {
      "text/plain": [
       "{'wt': 52.86592,\n",
       " 'mut': 32.34838,\n",
       " 'control': 0.1775859,\n",
       " 500: {'scores': [1.6889794,\n",
       "   1.7525357,\n",
       "   1.6812135,\n",
       "   1.5986915,\n",
       "   1.4148751,\n",
       "   1.2027652,\n",
       "   0.9831877,\n",
       "   0.5926066],\n",
       "  'bps': [4500.0, 4000.0, 3500.0, 3000.0, 2500.0, 2000.0, 1500.0, 1000.0],\n",
       "  'all_removed_tiles': array([[101804., 102304.],\n",
       "         [103804., 104304.],\n",
       "         [101304., 101804.],\n",
       "         [105304., 105804.],\n",
       "         [100804., 101304.],\n",
       "         [104804., 105304.],\n",
       "         [102304., 102804.],\n",
       "         [102804., 103304.]]),\n",
       "  'insert_coords': [array([102804, 103304]),\n",
       "   array([103304, 103804]),\n",
       "   array([104304, 104804])]},\n",
       " 50: {'scores': [1.1931223, 0.30012962],\n",
       "  'bps': [1000.0, 500.0],\n",
       "  'all_removed_tiles': array([[102804., 102854.],\n",
       "         [103754., 103804.],\n",
       "         [102854., 102904.],\n",
       "         [104354., 104404.],\n",
       "         [104304., 104354.],\n",
       "         [102954., 103004.],\n",
       "         [103554., 103604.],\n",
       "         [103604., 103654.],\n",
       "         [103704., 103754.],\n",
       "         [103104., 103154.],\n",
       "         [103654., 103704.],\n",
       "         [102904., 102954.],\n",
       "         [103354., 103404.],\n",
       "         [104404., 104454.],\n",
       "         [103204., 103254.],\n",
       "         [103004., 103054.],\n",
       "         [104604., 104654.],\n",
       "         [104654., 104704.],\n",
       "         [104704., 104754.],\n",
       "         [104754., 104804.]]),\n",
       "  'insert_coords': [array([102904, 102954]),\n",
       "   array([103004, 103054]),\n",
       "   array([103054, 103104]),\n",
       "   array([103154, 103204]),\n",
       "   array([103204, 103254]),\n",
       "   array([103254, 103304]),\n",
       "   array([103304, 103354]),\n",
       "   array([103354, 103404]),\n",
       "   array([103404, 103454]),\n",
       "   array([103454, 103504]),\n",
       "   array([103504, 103554]),\n",
       "   array([103654, 103704]),\n",
       "   array([104404, 104454]),\n",
       "   array([104454, 104504]),\n",
       "   array([104504, 104554]),\n",
       "   array([104554, 104604]),\n",
       "   array([104604, 104654]),\n",
       "   array([104654, 104704]),\n",
       "   array([104704, 104754]),\n",
       "   array([104754, 104804])]},\n",
       " 'control_sequences': array([[[0., 0., 1., 0.],\n",
       "         [1., 0., 0., 0.],\n",
       "         [0., 0., 1., 0.],\n",
       "         ...,\n",
       "         [1., 0., 0., 0.],\n",
       "         [0., 0., 0., 1.],\n",
       "         [0., 0., 1., 0.]],\n",
       " \n",
       "        [[0., 0., 1., 0.],\n",
       "         [0., 1., 0., 0.],\n",
       "         [0., 0., 0., 1.],\n",
       "         ...,\n",
       "         [0., 0., 0., 1.],\n",
       "         [0., 0., 0., 1.],\n",
       "         [0., 0., 1., 0.]],\n",
       " \n",
       "        [[0., 0., 1., 0.],\n",
       "         [1., 0., 0., 0.],\n",
       "         [0., 0., 0., 1.],\n",
       "         ...,\n",
       "         [1., 0., 0., 0.],\n",
       "         [0., 0., 0., 1.],\n",
       "         [0., 0., 1., 0.]],\n",
       " \n",
       "        ...,\n",
       " \n",
       "        [[0., 0., 1., 0.],\n",
       "         [0., 1., 0., 0.],\n",
       "         [0., 1., 0., 0.],\n",
       "         ...,\n",
       "         [1., 0., 0., 0.],\n",
       "         [0., 0., 0., 1.],\n",
       "         [0., 0., 1., 0.]],\n",
       " \n",
       "        [[0., 0., 1., 0.],\n",
       "         [0., 0., 0., 1.],\n",
       "         [0., 1., 0., 0.],\n",
       "         ...,\n",
       "         [1., 0., 0., 0.],\n",
       "         [0., 0., 0., 1.],\n",
       "         [0., 0., 1., 0.]],\n",
       " \n",
       "        [[0., 0., 1., 0.],\n",
       "         [0., 0., 1., 0.],\n",
       "         [1., 0., 0., 0.],\n",
       "         ...,\n",
       "         [1., 0., 0., 0.],\n",
       "         [0., 0., 0., 1.],\n",
       "         [0., 0., 1., 0.]]])}"
      ]
     },
     "execution_count": 138,
     "metadata": {},
     "output_type": "execute_result"
    }
   ],
   "source": [
    "motif_search_res"
   ]
  },
  {
   "cell_type": "code",
   "execution_count": null,
   "id": "315d6736-2acf-4373-ad83-794c54caed71",
   "metadata": {},
   "outputs": [],
   "source": []
  }
 ],
 "metadata": {
  "kernelspec": {
   "display_name": "Python 3 (ipykernel)",
   "language": "python",
   "name": "python3"
  },
  "language_info": {
   "codemirror_mode": {
    "name": "ipython",
    "version": 3
   },
   "file_extension": ".py",
   "mimetype": "text/x-python",
   "name": "python",
   "nbconvert_exporter": "python",
   "pygments_lexer": "ipython3",
   "version": "3.9.16"
  }
 },
 "nbformat": 4,
 "nbformat_minor": 5
}
