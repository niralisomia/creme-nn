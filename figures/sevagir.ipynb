{
 "cells": [
  {
   "cell_type": "code",
   "execution_count": 1,
   "id": "f75f21f5-6987-4872-8b5f-4280b1c0bca9",
   "metadata": {},
   "outputs": [
    {
     "name": "stderr",
     "output_type": "stream",
     "text": [
      "2024-01-03 05:52:13.961517: I tensorflow/core/platform/cpu_feature_guard.cc:193] This TensorFlow binary is optimized with oneAPI Deep Neural Network Library (oneDNN) to use the following CPU instructions in performance-critical operations:  SSE4.1 SSE4.2 AVX AVX2 FMA\n",
      "To enable them in other operations, rebuild TensorFlow with the appropriate compiler flags.\n"
     ]
    }
   ],
   "source": [
    "%load_ext autoreload\n",
    "%autoreload 2\n",
    "import pandas as pd\n",
    "import numpy as np\n",
    "import sys\n",
    "sys.path.append('../creme/')\n",
    "import custom_model\n",
    "import shuffle\n",
    "import creme\n",
    "import utils\n",
    "import glob\n",
    "from tqdm import tqdm\n",
    "import matplotlib.pyplot as plt\n",
    "import seaborn as sns\n",
    "import pyranges as pr\n",
    "import shutil\n",
    "import pickle\n",
    "import kipoiseq\n",
    "from itertools import combinations\n",
    "import scipy\n",
    "import os\n",
    "import gene as bgene\n",
    "import shuffle\n",
    "from scipy.stats import pearsonr"
   ]
  },
  {
   "cell_type": "code",
   "execution_count": 2,
   "id": "b92d30ec-3553-4b04-9334-96929c9fc339",
   "metadata": {},
   "outputs": [
    {
     "name": "stderr",
     "output_type": "stream",
     "text": [
      "2024-01-03 05:52:16.091168: I tensorflow/core/platform/cpu_feature_guard.cc:193] This TensorFlow binary is optimized with oneAPI Deep Neural Network Library (oneDNN) to use the following CPU instructions in performance-critical operations:  SSE4.1 SSE4.2 AVX AVX2 FMA\n",
      "To enable them in other operations, rebuild TensorFlow with the appropriate compiler flags.\n",
      "2024-01-03 05:52:16.439383: I tensorflow/core/common_runtime/gpu/gpu_device.cc:1613] Created device /job:localhost/replica:0/task:0/device:GPU:0 with 79005 MB memory:  -> device: 0, name: NVIDIA A100 80GB PCIe, pci bus id: 0000:85:00.0, compute capability: 8.0\n"
     ]
    }
   ],
   "source": [
    "enformer_model = custom_model.Enformer(track_index=5111, bin_index=[447, 448])"
   ]
  },
  {
   "cell_type": "code",
   "execution_count": 3,
   "id": "dfe8cfd2-789f-4035-a0ec-59f1a3d9f0d3",
   "metadata": {},
   "outputs": [
    {
     "name": "stdout",
     "output_type": "stream",
     "text": [
      "Adding models:\n",
      "['../data/borzoi/f0/model0_best.h5', '../data/borzoi/f1/model0_best.h5', '../data/borzoi/f2/model0_best.h5', '../data/borzoi/f3/model0_best.h5']\n",
      "WARNING:tensorflow:From /home/toneyan/.conda/envs/tf/lib/python3.9/site-packages/tensorflow/python/autograph/pyct/static_analysis/liveness.py:83: Analyzer.lamba_check (from tensorflow.python.autograph.pyct.static_analysis.liveness) is deprecated and will be removed after 2023-09-23.\n",
      "Instructions for updating:\n",
      "Lambda fuctions will be no more assumed to be used in the statement where they are used, or at least in the same block. https://github.com/tensorflow/tensorflow/issues/56089\n"
     ]
    },
    {
     "name": "stderr",
     "output_type": "stream",
     "text": [
      "WARNING:tensorflow:From /home/toneyan/.conda/envs/tf/lib/python3.9/site-packages/tensorflow/python/autograph/pyct/static_analysis/liveness.py:83: Analyzer.lamba_check (from tensorflow.python.autograph.pyct.static_analysis.liveness) is deprecated and will be removed after 2023-09-23.\n",
      "Instructions for updating:\n",
      "Lambda fuctions will be no more assumed to be used in the statement where they are used, or at least in the same block. https://github.com/tensorflow/tensorflow/issues/56089\n"
     ]
    }
   ],
   "source": [
    "model = custom_model.Borzoi('../data/borzoi/*/*', track_index=51, aggregate=True)\n"
   ]
  },
  {
   "cell_type": "code",
   "execution_count": 4,
   "id": "ecc75f8e-bcf2-4855-8259-b0393d682908",
   "metadata": {},
   "outputs": [],
   "source": [
    "delta_seq_length = (model.seq_length - enformer_model.seq_length) // 2"
   ]
  },
  {
   "cell_type": "code",
   "execution_count": 5,
   "id": "d93a1f2c-5cb4-419c-9151-9f0ad7cf96ea",
   "metadata": {},
   "outputs": [],
   "source": [
    "seq_parser = utils.SequenceParser('../data/GRCh38.primary_assembly.genome.fa')\n",
    "seq = seq_parser.extract_seq_centered('chr1', 100000000, '+', model.seq_length)"
   ]
  },
  {
   "cell_type": "code",
   "execution_count": 6,
   "id": "82aea02a-32f4-41f9-8d8e-be2926ac148a",
   "metadata": {},
   "outputs": [],
   "source": [
    "seq_enf = seq_parser.extract_seq_centered('chr1', 100000000, '+', enformer_model.seq_length)"
   ]
  },
  {
   "cell_type": "code",
   "execution_count": 8,
   "id": "f8105243-c002-4dd4-80fb-4623ba3044ea",
   "metadata": {},
   "outputs": [
    {
     "data": {
      "text/plain": [
       "True"
      ]
     },
     "execution_count": 8,
     "metadata": {},
     "output_type": "execute_result"
    }
   ],
   "source": [
    "np.array_equal(seq_enf[804:5804], seq[delta_seq_length+804:delta_seq_length+5804])"
   ]
  },
  {
   "cell_type": "code",
   "execution_count": 9,
   "id": "418640bc-dc65-4ee2-973f-c896b9949935",
   "metadata": {},
   "outputs": [
    {
     "data": {
      "text/plain": [
       "196608"
      ]
     },
     "execution_count": 9,
     "metadata": {},
     "output_type": "execute_result"
    }
   ],
   "source": [
    "enformer_model.seq_length"
   ]
  },
  {
   "cell_type": "code",
   "execution_count": null,
   "id": "edbf4c59-2729-479d-8c59-e69ccbe3e537",
   "metadata": {},
   "outputs": [],
   "source": []
  },
  {
   "cell_type": "code",
   "execution_count": 10,
   "id": "0496798c-52bd-4d8a-90df-07f503dc3286",
   "metadata": {},
   "outputs": [],
   "source": [
    "tss_tile, cre_tiles = utils.set_tile_range(model.seq_length, 5000)\n"
   ]
  },
  {
   "cell_type": "code",
   "execution_count": 6,
   "id": "98b6aac9-babe-4ad4-a16b-debbd9ed1251",
   "metadata": {},
   "outputs": [],
   "source": [
    "tile_coords = pd.read_csv(f'../results/summary_csvs/enformer//sufficiency_test_tile_coordinates.csv', index_col='Unnamed: 0').T\n",
    "tss_tile = tile_coords.loc['tss'].T.values\n",
    "cre_tile_coords = tile_coords.loc[[t for t in tile_coords.index if 'tss' not in t]]\n",
    "cre_tiles_starts = cre_tile_coords[0].values"
   ]
  },
  {
   "cell_type": "code",
   "execution_count": 11,
   "id": "6c808209-6508-41b0-b9d4-52ab9921a9b9",
   "metadata": {},
   "outputs": [
    {
     "data": {
      "text/plain": [
       "True"
      ]
     },
     "execution_count": 11,
     "metadata": {},
     "output_type": "execute_result"
    }
   ],
   "source": [
    "np.array_equal(cre_tiles_starts, np.array(cre_tiles)[:, 0])"
   ]
  },
  {
   "cell_type": "code",
   "execution_count": 11,
   "id": "4dfe8beb-7c3b-4943-a981-1ef9b32fd82a",
   "metadata": {},
   "outputs": [
    {
     "data": {
      "text/plain": [
       "102"
      ]
     },
     "execution_count": 11,
     "metadata": {},
     "output_type": "execute_result"
    }
   ],
   "source": [
    "len(cre_tiles)"
   ]
  },
  {
   "cell_type": "code",
   "execution_count": 12,
   "id": "d3d88ff0-7fc2-4288-9596-e61697fb5b21",
   "metadata": {},
   "outputs": [],
   "source": [
    "cre_df=pd.read_csv( f'../results/summary_csvs/enformer/sufficient_CREs.csv')\n"
   ]
  },
  {
   "cell_type": "code",
   "execution_count": 15,
   "id": "8f9c9da9-4509-4a69-8a5c-a0f3ba6dacb8",
   "metadata": {},
   "outputs": [
    {
     "data": {
      "text/html": [
       "<div>\n",
       "<style scoped>\n",
       "    .dataframe tbody tr th:only-of-type {\n",
       "        vertical-align: middle;\n",
       "    }\n",
       "\n",
       "    .dataframe tbody tr th {\n",
       "        vertical-align: top;\n",
       "    }\n",
       "\n",
       "    .dataframe thead th {\n",
       "        text-align: right;\n",
       "    }\n",
       "</style>\n",
       "<table border=\"1\" class=\"dataframe\">\n",
       "  <thead>\n",
       "    <tr style=\"text-align: right;\">\n",
       "      <th></th>\n",
       "      <th></th>\n",
       "      <th>Unnamed: 0</th>\n",
       "      <th>(MUT - CONTROL) / WT</th>\n",
       "      <th>(MUT - CONTROL) / CONTROL</th>\n",
       "      <th>seq_id</th>\n",
       "      <th>control</th>\n",
       "      <th>wt</th>\n",
       "      <th>mut</th>\n",
       "      <th>tile_start</th>\n",
       "      <th>tile_end</th>\n",
       "      <th>cell_line</th>\n",
       "      <th>Normalized CRE effect</th>\n",
       "    </tr>\n",
       "    <tr>\n",
       "      <th>context</th>\n",
       "      <th>tile class</th>\n",
       "      <th></th>\n",
       "      <th></th>\n",
       "      <th></th>\n",
       "      <th></th>\n",
       "      <th></th>\n",
       "      <th></th>\n",
       "      <th></th>\n",
       "      <th></th>\n",
       "      <th></th>\n",
       "      <th></th>\n",
       "      <th></th>\n",
       "    </tr>\n",
       "  </thead>\n",
       "  <tbody>\n",
       "    <tr>\n",
       "      <th>enhancing</th>\n",
       "      <th>Enhancer</th>\n",
       "      <td>150</td>\n",
       "      <td>150</td>\n",
       "      <td>150</td>\n",
       "      <td>150</td>\n",
       "      <td>150</td>\n",
       "      <td>150</td>\n",
       "      <td>150</td>\n",
       "      <td>150</td>\n",
       "      <td>150</td>\n",
       "      <td>150</td>\n",
       "      <td>150</td>\n",
       "    </tr>\n",
       "    <tr>\n",
       "      <th>silencing</th>\n",
       "      <th>Silencer</th>\n",
       "      <td>376</td>\n",
       "      <td>376</td>\n",
       "      <td>376</td>\n",
       "      <td>376</td>\n",
       "      <td>376</td>\n",
       "      <td>376</td>\n",
       "      <td>376</td>\n",
       "      <td>376</td>\n",
       "      <td>376</td>\n",
       "      <td>376</td>\n",
       "      <td>376</td>\n",
       "    </tr>\n",
       "  </tbody>\n",
       "</table>\n",
       "</div>"
      ],
      "text/plain": [
       "                      Unnamed: 0  (MUT - CONTROL) / WT   \n",
       "context   tile class                                     \n",
       "enhancing Enhancer           150                   150  \\\n",
       "silencing Silencer           376                   376   \n",
       "\n",
       "                      (MUT - CONTROL) / CONTROL  seq_id  control   wt  mut   \n",
       "context   tile class                                                         \n",
       "enhancing Enhancer                          150     150      150  150  150  \\\n",
       "silencing Silencer                          376     376      376  376  376   \n",
       "\n",
       "                      tile_start  tile_end  cell_line  Normalized CRE effect  \n",
       "context   tile class                                                          \n",
       "enhancing Enhancer           150       150        150                    150  \n",
       "silencing Silencer           376       376        376                    376  "
      ]
     },
     "execution_count": 15,
     "metadata": {},
     "output_type": "execute_result"
    }
   ],
   "source": [
    "cre_df.groupby(['context', 'tile class']).count()"
   ]
  },
  {
   "cell_type": "code",
   "execution_count": 28,
   "id": "312ce864-77f5-480c-b98f-6766e8fc4565",
   "metadata": {},
   "outputs": [],
   "source": [
    "res_path = '../results/higher_order_test_min/enformer/K562/ABCA5_chr17_69327133_-.pickle'"
   ]
  },
  {
   "cell_type": "code",
   "execution_count": 29,
   "id": "d98aebf6-f908-4913-bd39-b28892f38671",
   "metadata": {},
   "outputs": [],
   "source": [
    "res = utils.read_pickle(res_path)"
   ]
  },
  {
   "cell_type": "code",
   "execution_count": 51,
   "id": "0feac3cf-6fb0-4725-ac1b-73e251e492b1",
   "metadata": {},
   "outputs": [],
   "source": [
    "perturb_window = 5000"
   ]
  },
  {
   "cell_type": "code",
   "execution_count": 40,
   "id": "a56f0832-6e7c-4eeb-8770-6022436cba7a",
   "metadata": {},
   "outputs": [],
   "source": [
    "chrom, start, strand = res_path.split('/')[-1].split('.')[0].split('_')[1:]"
   ]
  },
  {
   "cell_type": "code",
   "execution_count": 41,
   "id": "e5207f5b-5f94-4947-a9d7-6652fc5ed9e5",
   "metadata": {},
   "outputs": [],
   "source": [
    "data_dir = '../data/'\n",
    "fasta_path = f'{data_dir}/GRCh38.primary_assembly.genome.fa'"
   ]
  },
  {
   "cell_type": "code",
   "execution_count": 42,
   "id": "9df49675-976b-496a-9523-a242339f0e01",
   "metadata": {},
   "outputs": [],
   "source": [
    "seq_parser = utils.SequenceParser(fasta_path)\n"
   ]
  },
  {
   "cell_type": "code",
   "execution_count": 45,
   "id": "a370507a-3e61-4557-bf44-758707d94ff5",
   "metadata": {},
   "outputs": [],
   "source": [
    "x = seq_parser.extract_seq_centered(chrom, int(start), strand, model.seq_length, onehot=True)\n"
   ]
  },
  {
   "cell_type": "code",
   "execution_count": 52,
   "id": "08dd052a-5e13-42cf-8f3e-ea8b1c1d8afd",
   "metadata": {},
   "outputs": [],
   "source": [
    "tss_tile, cre_tiles = utils.set_tile_range(model.seq_length, perturb_window)\n"
   ]
  },
  {
   "cell_type": "code",
   "execution_count": 58,
   "id": "95a8d830-b899-4170-8879-9f0b3255d54c",
   "metadata": {},
   "outputs": [],
   "source": [
    "only_tss_seqs = shuffle.dinuc_shuffle(x, 10)\n",
    "only_tss_seqs[:, tss_tile[0]:tss_tile[1],:] = x[tss_tile[0]:tss_tile[1],:].copy()"
   ]
  },
  {
   "cell_type": "code",
   "execution_count": 59,
   "id": "37b6c662-69b1-44a7-a41e-3e76c4f3335c",
   "metadata": {},
   "outputs": [],
   "source": [
    "only_tss_preds = model.predict(only_tss_seqs)"
   ]
  },
  {
   "cell_type": "code",
   "execution_count": 60,
   "id": "16493d7a-1883-4bde-84d1-3bd408b1b35a",
   "metadata": {},
   "outputs": [
    {
     "data": {
      "text/plain": [
       "0.55303144"
      ]
     },
     "execution_count": 60,
     "metadata": {},
     "output_type": "execute_result"
    }
   ],
   "source": [
    "only_tss_preds.mean()"
   ]
  },
  {
   "cell_type": "code",
   "execution_count": 62,
   "id": "d8306f25-dacc-4a78-b9e8-e6b6c95d6b71",
   "metadata": {},
   "outputs": [
    {
     "name": "stderr",
     "output_type": "stream",
     "text": [
      "100%|██████████████████████████████████████████████████████████████████| 25/25 [01:10<00:00,  2.80s/it]\n"
     ]
    }
   ],
   "source": [
    "current_seq = only_tss_seqs.copy()\n",
    "predictions = []\n",
    "for i in tqdm(res.keys()):\n",
    "    tile_start, tile_end = res[i]['selected_tile']\n",
    "    current_seq[:, tile_start: tile_end,:] = x[tile_start: tile_end,:].copy()\n",
    "    predictions.append(model.predict(current_seq).mean())\n",
    "\n",
    "    "
   ]
  },
  {
   "cell_type": "code",
   "execution_count": 63,
   "id": "194570c9-1305-4334-ad3f-deadd3178eb9",
   "metadata": {},
   "outputs": [
    {
     "data": {
      "text/plain": [
       "[<matplotlib.lines.Line2D at 0x7f4b38358580>]"
      ]
     },
     "execution_count": 63,
     "metadata": {},
     "output_type": "execute_result"
    },
    {
     "data": {
      "image/png": "[encoded data removed]",
      "text/plain": [
       "<Figure size 640x480 with 1 Axes>"
      ]
     },
     "metadata": {},
     "output_type": "display_data"
    }
   ],
   "source": [
    "plt.plot(predictions)"
   ]
  },
  {
   "cell_type": "code",
   "execution_count": 34,
   "id": "163ef6de-fb47-4a2f-a472-2a4e3f0634e8",
   "metadata": {},
   "outputs": [],
   "source": [
    "wt = res[0]['initial_pred']\n",
    "trace = [res[i]['initial_pred']/wt for i in res.keys()]"
   ]
  },
  {
   "cell_type": "code",
   "execution_count": 35,
   "id": "fa5d5879-45d9-44be-9421-f561bb4846ab",
   "metadata": {},
   "outputs": [
    {
     "data": {
      "text/plain": [
       "[<matplotlib.lines.Line2D at 0x7f4b49e7bf40>]"
      ]
     },
     "execution_count": 35,
     "metadata": {},
     "output_type": "execute_result"
    },
    {
     "data": {
      "image/png": "[encoded data removed]",
      "text/plain": [
       "<Figure size 640x480 with 1 Axes>"
      ]
     },
     "metadata": {},
     "output_type": "display_data"
    }
   ],
   "source": [
    "plt.plot(trace)"
   ]
  },
  {
   "cell_type": "code",
   "execution_count": null,
   "id": "2c8fd90d-579f-4d55-9eab-45ef9315152b",
   "metadata": {},
   "outputs": [],
   "source": []
  }
 ],
 "metadata": {
  "kernelspec": {
   "display_name": "Python 3 (ipykernel)",
   "language": "python",
   "name": "python3"
  },
  "language_info": {
   "codemirror_mode": {
    "name": "ipython",
    "version": 3
   },
   "file_extension": ".py",
   "mimetype": "text/x-python",
   "name": "python",
   "nbconvert_exporter": "python",
   "pygments_lexer": "ipython3",
   "version": "3.9.16"
  }
 },
 "nbformat": 4,
 "nbformat_minor": 5
}
