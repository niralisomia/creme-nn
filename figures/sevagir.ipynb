{
 "cells": [
  {
   "cell_type": "code",
   "execution_count": 1,
   "id": "f75f21f5-6987-4872-8b5f-4280b1c0bca9",
   "metadata": {},
   "outputs": [
    {
     "name": "stderr",
     "output_type": "stream",
     "text": [
      "2023-10-25 10:54:53.532237: I tensorflow/core/platform/cpu_feature_guard.cc:193] This TensorFlow binary is optimized with oneAPI Deep Neural Network Library (oneDNN) to use the following CPU instructions in performance-critical operations:  SSE4.1 SSE4.2 AVX AVX2 FMA\n",
      "To enable them in other operations, rebuild TensorFlow with the appropriate compiler flags.\n"
     ]
    }
   ],
   "source": [
    "%load_ext autoreload\n",
    "%autoreload 2\n",
    "import pandas as pd\n",
    "import numpy as np\n",
    "import sys\n",
    "sys.path.append('../creme/')\n",
    "import custom_model\n",
    "import creme\n",
    "import utils\n",
    "import glob\n",
    "from tqdm import tqdm\n",
    "import matplotlib.pyplot as plt\n",
    "import seaborn as sns\n",
    "import pyranges as pr\n",
    "import shutil\n",
    "import pickle"
   ]
  },
  {
   "cell_type": "code",
   "execution_count": 51,
   "id": "2877d7c2-786b-4acf-988b-6fb103734edb",
   "metadata": {},
   "outputs": [],
   "source": [
    "import kipoiseq\n",
    "import os"
   ]
  },
  {
   "cell_type": "code",
   "execution_count": 122,
   "id": "3d8089d5-e6c9-48f0-aa17-7234987b4350",
   "metadata": {},
   "outputs": [
    {
     "data": {
      "text/plain": [
       "'GGT'"
      ]
     },
     "execution_count": 122,
     "metadata": {},
     "output_type": "execute_result"
    }
   ],
   "source": [
    "kipoiseq.transforms.functional.rc_dna(seq)"
   ]
  },
  {
   "cell_type": "code",
   "execution_count": 12,
   "id": "aa1330b7-2d86-4a08-a82c-70494002c82c",
   "metadata": {},
   "outputs": [],
   "source": [
    "tss_df = pd.read_csv('../results/tss_positions.csv', index_col=None)"
   ]
  },
  {
   "cell_type": "code",
   "execution_count": 52,
   "id": "1841b5b4-c3a3-4834-980f-39c44f54f46b",
   "metadata": {},
   "outputs": [],
   "source": [
    "for i, row in tss_df.iterrows():\n",
    "    if row['Strand'] == '-':\n",
    "        os.remove(f'../results/enformer_gencode_tss_predictions/{i}.npy')\n"
   ]
  },
  {
   "cell_type": "code",
   "execution_count": 20,
   "id": "ada49bb6-5b5c-4c18-9d10-e8090f14a1b7",
   "metadata": {},
   "outputs": [
    {
     "data": {
      "text/plain": [
       "Chromosome                 chr1\n",
       "start                    139379\n",
       "gene_name            AL627309.1\n",
       "gene_id       ENSG00000237683.5\n",
       "Strand                        -\n",
       "Name: 3339, dtype: object"
      ]
     },
     "execution_count": 20,
     "metadata": {},
     "output_type": "execute_result"
    }
   ],
   "source": [
    "row"
   ]
  },
  {
   "cell_type": "code",
   "execution_count": 69,
   "id": "33c197ee-2293-4e93-abbc-349a36bf15a1",
   "metadata": {},
   "outputs": [
    {
     "ename": "IndexError",
     "evalue": "shape mismatch: indexing arrays could not be broadcast together with shapes (4,) (2,) ",
     "output_type": "error",
     "traceback": [
      "\u001b[0;31m---------------------------------------------------------------------------\u001b[0m",
      "\u001b[0;31mIndexError\u001b[0m                                Traceback (most recent call last)",
      "Cell \u001b[0;32mIn[69], line 1\u001b[0m\n\u001b[0;32m----> 1\u001b[0m \u001b[43msaved_res\u001b[49m\u001b[43m[\u001b[49m\u001b[43m[\u001b[49m\u001b[38;5;241;43m446\u001b[39;49m\u001b[43m,\u001b[49m\u001b[43m \u001b[49m\u001b[38;5;241;43m447\u001b[39;49m\u001b[43m,\u001b[49m\u001b[43m \u001b[49m\u001b[38;5;241;43m448\u001b[39;49m\u001b[43m,\u001b[49m\u001b[43m \u001b[49m\u001b[38;5;241;43m449\u001b[39;49m\u001b[43m]\u001b[49m\u001b[43m,\u001b[49m\u001b[43m \u001b[49m\u001b[43m[\u001b[49m\u001b[38;5;241;43m5111\u001b[39;49m\u001b[43m,\u001b[49m\u001b[43m \u001b[49m\u001b[38;5;241;43m5112\u001b[39;49m\u001b[43m]\u001b[49m\u001b[43m]\u001b[49m\n",
      "\u001b[0;31mIndexError\u001b[0m: shape mismatch: indexing arrays could not be broadcast together with shapes (4,) (2,) "
     ]
    }
   ],
   "source": [
    "saved_res[[446, 447, 448, 449], [5111, 5112]]"
   ]
  },
  {
   "cell_type": "code",
   "execution_count": 65,
   "id": "e9b3b7aa-3d49-4aad-8267-7c1232322db6",
   "metadata": {},
   "outputs": [],
   "source": [
    "saved_res = np.load('../results/enformer_gencode_tss_predictions/3339.npy')"
   ]
  },
  {
   "cell_type": "code",
   "execution_count": 70,
   "id": "e3acd4c6-bd35-40c4-b0a6-653d0b73678d",
   "metadata": {},
   "outputs": [],
   "source": [
    "model = custom_model.Enformer(bin_index=[446, 447, 448, 449], track_index=[5111, 5112])"
   ]
  },
  {
   "cell_type": "code",
   "execution_count": 78,
   "id": "dc6e8761-811f-47ed-921e-c2b1e33df6e2",
   "metadata": {},
   "outputs": [],
   "source": [
    "seq = seq_parser.extract_seq_centered('chr1', 5000000, '+', 1, False)"
   ]
  },
  {
   "cell_type": "code",
   "execution_count": 76,
   "id": "bed599a8-3a8e-4453-a112-bef076221912",
   "metadata": {},
   "outputs": [],
   "source": [
    "seq = seq_parser.extract_seq_centered('chr1', 5000000, '+', model.seq_length)"
   ]
  },
  {
   "cell_type": "code",
   "execution_count": 79,
   "id": "22a02f70-bb10-42e8-9fbb-0a482ac240d4",
   "metadata": {},
   "outputs": [
    {
     "data": {
      "text/plain": [
       "'A'"
      ]
     },
     "execution_count": 79,
     "metadata": {},
     "output_type": "execute_result"
    }
   ],
   "source": [
    "seq"
   ]
  },
  {
   "cell_type": "code",
   "execution_count": 49,
   "id": "c0b04a45-033b-4080-bb32-a7342a6e2815",
   "metadata": {},
   "outputs": [
    {
     "data": {
      "text/plain": [
       "array([[[0.04331244, 0.04986824, 0.03695541, ..., 0.01542558,\n",
       "         0.06338955, 0.03181199],\n",
       "        [0.04920314, 0.06056298, 0.04521991, ..., 0.01032751,\n",
       "         0.03348412, 0.02325992],\n",
       "        [0.0538066 , 0.06485005, 0.05521107, ..., 0.00540646,\n",
       "         0.01584147, 0.01263902],\n",
       "        ...,\n",
       "        [0.00167733, 0.00104085, 0.0004805 , ..., 0.00028945,\n",
       "         0.00195588, 0.00152151],\n",
       "        [0.00167772, 0.00103998, 0.00048017, ..., 0.00028789,\n",
       "         0.00195151, 0.00151289],\n",
       "        [0.00167612, 0.00103817, 0.00047922, ..., 0.00028624,\n",
       "         0.00194697, 0.00150558]]], dtype=float32)"
      ]
     },
     "execution_count": 49,
     "metadata": {},
     "output_type": "execute_result"
    }
   ],
   "source": [
    "pred"
   ]
  },
  {
   "cell_type": "code",
   "execution_count": null,
   "id": "30314305-db6d-4b73-bba2-043d24cef352",
   "metadata": {},
   "outputs": [],
   "source": []
  },
  {
   "cell_type": "code",
   "execution_count": null,
   "id": "262efcfb-c098-4cbd-bb19-525ab3c37145",
   "metadata": {},
   "outputs": [],
   "source": []
  },
  {
   "cell_type": "code",
   "execution_count": 29,
   "id": "46d7a8de-3574-489e-91a2-f05a9761d471",
   "metadata": {},
   "outputs": [],
   "source": [
    "seq_parser = utils.SequenceParser('../data/hg19.fa')"
   ]
  },
  {
   "cell_type": "code",
   "execution_count": 41,
   "id": "9a899a58-d204-4be7-afde-dfffeb533cd3",
   "metadata": {},
   "outputs": [],
   "source": [
    "seq = seq_parser.extract_seq_centered('chr1', 5000000, '+', 5, False)"
   ]
  },
  {
   "cell_type": "code",
   "execution_count": 42,
   "id": "1fca1b86-d227-4139-a17c-a48af6771158",
   "metadata": {},
   "outputs": [
    {
     "data": {
      "text/plain": [
       "'GACCT'"
      ]
     },
     "execution_count": 42,
     "metadata": {},
     "output_type": "execute_result"
    }
   ],
   "source": [
    "seq"
   ]
  },
  {
   "cell_type": "code",
   "execution_count": 43,
   "id": "7bad553b-227b-4105-b510-8d35aa392656",
   "metadata": {},
   "outputs": [
    {
     "data": {
      "text/plain": [
       "'AGGTC'"
      ]
     },
     "execution_count": 43,
     "metadata": {},
     "output_type": "execute_result"
    }
   ],
   "source": [
    "seq = seq_parser.extract_seq_centered('chr1', 5000000, '-', 5, False)\n",
    "seq"
   ]
  },
  {
   "cell_type": "code",
   "execution_count": null,
   "id": "544be102-3a8b-440f-b107-1bee01eefc2b",
   "metadata": {},
   "outputs": [],
   "source": []
  },
  {
   "cell_type": "code",
   "execution_count": null,
   "id": "5a4de850-99d6-47ff-b253-2895bfd811d0",
   "metadata": {},
   "outputs": [],
   "source": []
  },
  {
   "cell_type": "code",
   "execution_count": null,
   "id": "f006fd4e-af46-46d7-a129-60e837542f51",
   "metadata": {},
   "outputs": [],
   "source": []
  },
  {
   "cell_type": "code",
   "execution_count": null,
   "id": "5cbe6ad5-ff09-4eda-9a33-d2b0fea4526f",
   "metadata": {},
   "outputs": [],
   "source": []
  },
  {
   "cell_type": "code",
   "execution_count": null,
   "id": "0b1a6cf0-8c4e-42a5-a345-0e172d4f1671",
   "metadata": {},
   "outputs": [],
   "source": []
  },
  {
   "cell_type": "code",
   "execution_count": 11,
   "id": "d42a9dea-a074-4022-ad7d-f0ccf2cd7522",
   "metadata": {},
   "outputs": [
    {
     "data": {
      "text/plain": [
       "'GGT'"
      ]
     },
     "execution_count": 11,
     "metadata": {},
     "output_type": "execute_result"
    }
   ],
   "source": [
    "seq = seq_parser.extract_seq_centered('chr1', 5000000, '-', 3, False)\n",
    "seq"
   ]
  },
  {
   "cell_type": "code",
   "execution_count": 105,
   "id": "5c3e102e-3627-4670-9938-f312f6dc12bb",
   "metadata": {},
   "outputs": [],
   "source": [
    "gencode_annotations = pr.read_gtf(f'../data/gencode.v43lift37.basic.annotation.gtf')\n"
   ]
  },
  {
   "cell_type": "code",
   "execution_count": 108,
   "id": "9a77e94b-448a-4499-ba71-962ea3742c8c",
   "metadata": {},
   "outputs": [],
   "source": [
    "df = gencode_annotations.df"
   ]
  },
  {
   "cell_type": "code",
   "execution_count": 111,
   "id": "7d5f7e8d-3224-4f45-a095-fda1348d97fe",
   "metadata": {},
   "outputs": [
    {
     "data": {
      "text/html": [
       "<div>\n",
       "<style scoped>\n",
       "    .dataframe tbody tr th:only-of-type {\n",
       "        vertical-align: middle;\n",
       "    }\n",
       "\n",
       "    .dataframe tbody tr th {\n",
       "        vertical-align: top;\n",
       "    }\n",
       "\n",
       "    .dataframe thead th {\n",
       "        text-align: right;\n",
       "    }\n",
       "</style>\n",
       "<table border=\"1\" class=\"dataframe\">\n",
       "  <thead>\n",
       "    <tr style=\"text-align: right;\">\n",
       "      <th></th>\n",
       "      <th>Chromosome</th>\n",
       "      <th>Source</th>\n",
       "      <th>Feature</th>\n",
       "      <th>Start</th>\n",
       "      <th>End</th>\n",
       "      <th>Score</th>\n",
       "      <th>Strand</th>\n",
       "      <th>Frame</th>\n",
       "      <th>gene_id</th>\n",
       "      <th>gene_type</th>\n",
       "      <th>...</th>\n",
       "      <th>havana_transcript</th>\n",
       "      <th>exon_number</th>\n",
       "      <th>exon_id</th>\n",
       "      <th>remap_original_location</th>\n",
       "      <th>protein_id</th>\n",
       "      <th>gene_status</th>\n",
       "      <th>remap_substituted_missing_target</th>\n",
       "      <th>transcript_status</th>\n",
       "      <th>ccdsid</th>\n",
       "      <th>artif_dupl</th>\n",
       "    </tr>\n",
       "  </thead>\n",
       "  <tbody>\n",
       "    <tr>\n",
       "      <th>0</th>\n",
       "      <td>chr1</td>\n",
       "      <td>HAVANA</td>\n",
       "      <td>gene</td>\n",
       "      <td>12009</td>\n",
       "      <td>13670</td>\n",
       "      <td>.</td>\n",
       "      <td>+</td>\n",
       "      <td>.</td>\n",
       "      <td>ENSG00000223972.6_6</td>\n",
       "      <td>transcribed_unprocessed_pseudogene</td>\n",
       "      <td>...</td>\n",
       "      <td>NaN</td>\n",
       "      <td>NaN</td>\n",
       "      <td>NaN</td>\n",
       "      <td>NaN</td>\n",
       "      <td>NaN</td>\n",
       "      <td>NaN</td>\n",
       "      <td>NaN</td>\n",
       "      <td>NaN</td>\n",
       "      <td>NaN</td>\n",
       "      <td>NaN</td>\n",
       "    </tr>\n",
       "    <tr>\n",
       "      <th>1</th>\n",
       "      <td>chr1</td>\n",
       "      <td>HAVANA</td>\n",
       "      <td>transcript</td>\n",
       "      <td>12009</td>\n",
       "      <td>13670</td>\n",
       "      <td>.</td>\n",
       "      <td>+</td>\n",
       "      <td>.</td>\n",
       "      <td>ENSG00000223972.6_6</td>\n",
       "      <td>transcribed_unprocessed_pseudogene</td>\n",
       "      <td>...</td>\n",
       "      <td>OTTHUMT00000002844.2_2</td>\n",
       "      <td>NaN</td>\n",
       "      <td>NaN</td>\n",
       "      <td>NaN</td>\n",
       "      <td>NaN</td>\n",
       "      <td>NaN</td>\n",
       "      <td>NaN</td>\n",
       "      <td>NaN</td>\n",
       "      <td>NaN</td>\n",
       "      <td>NaN</td>\n",
       "    </tr>\n",
       "    <tr>\n",
       "      <th>2</th>\n",
       "      <td>chr1</td>\n",
       "      <td>HAVANA</td>\n",
       "      <td>exon</td>\n",
       "      <td>12009</td>\n",
       "      <td>12057</td>\n",
       "      <td>.</td>\n",
       "      <td>+</td>\n",
       "      <td>.</td>\n",
       "      <td>ENSG00000223972.6_6</td>\n",
       "      <td>transcribed_unprocessed_pseudogene</td>\n",
       "      <td>...</td>\n",
       "      <td>OTTHUMT00000002844.2_2</td>\n",
       "      <td>1</td>\n",
       "      <td>ENSE00001948541.1_1</td>\n",
       "      <td>chr1:+:12010-12057</td>\n",
       "      <td>NaN</td>\n",
       "      <td>NaN</td>\n",
       "      <td>NaN</td>\n",
       "      <td>NaN</td>\n",
       "      <td>NaN</td>\n",
       "      <td>NaN</td>\n",
       "    </tr>\n",
       "    <tr>\n",
       "      <th>3</th>\n",
       "      <td>chr1</td>\n",
       "      <td>HAVANA</td>\n",
       "      <td>exon</td>\n",
       "      <td>12178</td>\n",
       "      <td>12227</td>\n",
       "      <td>.</td>\n",
       "      <td>+</td>\n",
       "      <td>.</td>\n",
       "      <td>ENSG00000223972.6_6</td>\n",
       "      <td>transcribed_unprocessed_pseudogene</td>\n",
       "      <td>...</td>\n",
       "      <td>OTTHUMT00000002844.2_2</td>\n",
       "      <td>2</td>\n",
       "      <td>ENSE00001671638.2_1</td>\n",
       "      <td>chr1:+:12179-12227</td>\n",
       "      <td>NaN</td>\n",
       "      <td>NaN</td>\n",
       "      <td>NaN</td>\n",
       "      <td>NaN</td>\n",
       "      <td>NaN</td>\n",
       "      <td>NaN</td>\n",
       "    </tr>\n",
       "    <tr>\n",
       "      <th>4</th>\n",
       "      <td>chr1</td>\n",
       "      <td>HAVANA</td>\n",
       "      <td>exon</td>\n",
       "      <td>12612</td>\n",
       "      <td>12697</td>\n",
       "      <td>.</td>\n",
       "      <td>+</td>\n",
       "      <td>.</td>\n",
       "      <td>ENSG00000223972.6_6</td>\n",
       "      <td>transcribed_unprocessed_pseudogene</td>\n",
       "      <td>...</td>\n",
       "      <td>OTTHUMT00000002844.2_2</td>\n",
       "      <td>3</td>\n",
       "      <td>ENSE00001758273.2_1</td>\n",
       "      <td>chr1:+:12613-12697</td>\n",
       "      <td>NaN</td>\n",
       "      <td>NaN</td>\n",
       "      <td>NaN</td>\n",
       "      <td>NaN</td>\n",
       "      <td>NaN</td>\n",
       "      <td>NaN</td>\n",
       "    </tr>\n",
       "    <tr>\n",
       "      <th>...</th>\n",
       "      <td>...</td>\n",
       "      <td>...</td>\n",
       "      <td>...</td>\n",
       "      <td>...</td>\n",
       "      <td>...</td>\n",
       "      <td>...</td>\n",
       "      <td>...</td>\n",
       "      <td>...</td>\n",
       "      <td>...</td>\n",
       "      <td>...</td>\n",
       "      <td>...</td>\n",
       "      <td>...</td>\n",
       "      <td>...</td>\n",
       "      <td>...</td>\n",
       "      <td>...</td>\n",
       "      <td>...</td>\n",
       "      <td>...</td>\n",
       "      <td>...</td>\n",
       "      <td>...</td>\n",
       "      <td>...</td>\n",
       "      <td>...</td>\n",
       "    </tr>\n",
       "    <tr>\n",
       "      <th>2001895</th>\n",
       "      <td>chrY</td>\n",
       "      <td>HAVANA</td>\n",
       "      <td>exon</td>\n",
       "      <td>59360500</td>\n",
       "      <td>59360548</td>\n",
       "      <td>.</td>\n",
       "      <td>-</td>\n",
       "      <td>.</td>\n",
       "      <td>ENSG00000227159.8_5_PAR_Y</td>\n",
       "      <td>unprocessed_pseudogene</td>\n",
       "      <td>...</td>\n",
       "      <td>OTTHUMT00000058841.1_4</td>\n",
       "      <td>1</td>\n",
       "      <td>ENSE00002072208.1_1</td>\n",
       "      <td>chrY:-:57214350-57214397</td>\n",
       "      <td>NaN</td>\n",
       "      <td>NaN</td>\n",
       "      <td>NaN</td>\n",
       "      <td>NaN</td>\n",
       "      <td>NaN</td>\n",
       "      <td>NaN</td>\n",
       "    </tr>\n",
       "    <tr>\n",
       "      <th>2001896</th>\n",
       "      <td>chrY</td>\n",
       "      <td>HAVANA</td>\n",
       "      <td>exon</td>\n",
       "      <td>59360030</td>\n",
       "      <td>59360115</td>\n",
       "      <td>.</td>\n",
       "      <td>-</td>\n",
       "      <td>.</td>\n",
       "      <td>ENSG00000227159.8_5_PAR_Y</td>\n",
       "      <td>unprocessed_pseudogene</td>\n",
       "      <td>...</td>\n",
       "      <td>OTTHUMT00000058841.1_4</td>\n",
       "      <td>2</td>\n",
       "      <td>ENSE00002046926.1_1</td>\n",
       "      <td>chrY:-:57213880-57213964</td>\n",
       "      <td>NaN</td>\n",
       "      <td>NaN</td>\n",
       "      <td>NaN</td>\n",
       "      <td>NaN</td>\n",
       "      <td>NaN</td>\n",
       "      <td>NaN</td>\n",
       "    </tr>\n",
       "    <tr>\n",
       "      <th>2001897</th>\n",
       "      <td>chrY</td>\n",
       "      <td>HAVANA</td>\n",
       "      <td>exon</td>\n",
       "      <td>59359676</td>\n",
       "      <td>59359753</td>\n",
       "      <td>.</td>\n",
       "      <td>-</td>\n",
       "      <td>.</td>\n",
       "      <td>ENSG00000227159.8_5_PAR_Y</td>\n",
       "      <td>unprocessed_pseudogene</td>\n",
       "      <td>...</td>\n",
       "      <td>OTTHUMT00000058841.1_4</td>\n",
       "      <td>3</td>\n",
       "      <td>ENSE00002021169.1_1</td>\n",
       "      <td>chrY:-:57213526-57213602</td>\n",
       "      <td>NaN</td>\n",
       "      <td>NaN</td>\n",
       "      <td>NaN</td>\n",
       "      <td>NaN</td>\n",
       "      <td>NaN</td>\n",
       "      <td>NaN</td>\n",
       "    </tr>\n",
       "    <tr>\n",
       "      <th>2001898</th>\n",
       "      <td>chrY</td>\n",
       "      <td>HAVANA</td>\n",
       "      <td>exon</td>\n",
       "      <td>59359354</td>\n",
       "      <td>59359508</td>\n",
       "      <td>.</td>\n",
       "      <td>-</td>\n",
       "      <td>.</td>\n",
       "      <td>ENSG00000227159.8_5_PAR_Y</td>\n",
       "      <td>unprocessed_pseudogene</td>\n",
       "      <td>...</td>\n",
       "      <td>OTTHUMT00000058841.1_4</td>\n",
       "      <td>4</td>\n",
       "      <td>ENSE00002036959.1_1</td>\n",
       "      <td>chrY:-:57213204-57213357</td>\n",
       "      <td>NaN</td>\n",
       "      <td>NaN</td>\n",
       "      <td>NaN</td>\n",
       "      <td>NaN</td>\n",
       "      <td>NaN</td>\n",
       "      <td>NaN</td>\n",
       "    </tr>\n",
       "    <tr>\n",
       "      <th>2001899</th>\n",
       "      <td>chrY</td>\n",
       "      <td>HAVANA</td>\n",
       "      <td>exon</td>\n",
       "      <td>59358334</td>\n",
       "      <td>59359276</td>\n",
       "      <td>.</td>\n",
       "      <td>-</td>\n",
       "      <td>.</td>\n",
       "      <td>ENSG00000227159.8_5_PAR_Y</td>\n",
       "      <td>unprocessed_pseudogene</td>\n",
       "      <td>...</td>\n",
       "      <td>OTTHUMT00000058841.1_4</td>\n",
       "      <td>5</td>\n",
       "      <td>ENSE00002023900.1_1</td>\n",
       "      <td>chrY:-:57212184-57213125</td>\n",
       "      <td>NaN</td>\n",
       "      <td>NaN</td>\n",
       "      <td>NaN</td>\n",
       "      <td>NaN</td>\n",
       "      <td>NaN</td>\n",
       "      <td>NaN</td>\n",
       "    </tr>\n",
       "  </tbody>\n",
       "</table>\n",
       "<p>2001900 rows × 33 columns</p>\n",
       "</div>"
      ],
      "text/plain": [
       "        Chromosome  Source     Feature     Start       End Score Strand Frame   \n",
       "0             chr1  HAVANA        gene     12009     13670     .      +     .  \\\n",
       "1             chr1  HAVANA  transcript     12009     13670     .      +     .   \n",
       "2             chr1  HAVANA        exon     12009     12057     .      +     .   \n",
       "3             chr1  HAVANA        exon     12178     12227     .      +     .   \n",
       "4             chr1  HAVANA        exon     12612     12697     .      +     .   \n",
       "...            ...     ...         ...       ...       ...   ...    ...   ...   \n",
       "2001895       chrY  HAVANA        exon  59360500  59360548     .      -     .   \n",
       "2001896       chrY  HAVANA        exon  59360030  59360115     .      -     .   \n",
       "2001897       chrY  HAVANA        exon  59359676  59359753     .      -     .   \n",
       "2001898       chrY  HAVANA        exon  59359354  59359508     .      -     .   \n",
       "2001899       chrY  HAVANA        exon  59358334  59359276     .      -     .   \n",
       "\n",
       "                           gene_id                           gene_type  ...   \n",
       "0              ENSG00000223972.6_6  transcribed_unprocessed_pseudogene  ...  \\\n",
       "1              ENSG00000223972.6_6  transcribed_unprocessed_pseudogene  ...   \n",
       "2              ENSG00000223972.6_6  transcribed_unprocessed_pseudogene  ...   \n",
       "3              ENSG00000223972.6_6  transcribed_unprocessed_pseudogene  ...   \n",
       "4              ENSG00000223972.6_6  transcribed_unprocessed_pseudogene  ...   \n",
       "...                            ...                                 ...  ...   \n",
       "2001895  ENSG00000227159.8_5_PAR_Y              unprocessed_pseudogene  ...   \n",
       "2001896  ENSG00000227159.8_5_PAR_Y              unprocessed_pseudogene  ...   \n",
       "2001897  ENSG00000227159.8_5_PAR_Y              unprocessed_pseudogene  ...   \n",
       "2001898  ENSG00000227159.8_5_PAR_Y              unprocessed_pseudogene  ...   \n",
       "2001899  ENSG00000227159.8_5_PAR_Y              unprocessed_pseudogene  ...   \n",
       "\n",
       "              havana_transcript exon_number              exon_id   \n",
       "0                           NaN         NaN                  NaN  \\\n",
       "1        OTTHUMT00000002844.2_2         NaN                  NaN   \n",
       "2        OTTHUMT00000002844.2_2           1  ENSE00001948541.1_1   \n",
       "3        OTTHUMT00000002844.2_2           2  ENSE00001671638.2_1   \n",
       "4        OTTHUMT00000002844.2_2           3  ENSE00001758273.2_1   \n",
       "...                         ...         ...                  ...   \n",
       "2001895  OTTHUMT00000058841.1_4           1  ENSE00002072208.1_1   \n",
       "2001896  OTTHUMT00000058841.1_4           2  ENSE00002046926.1_1   \n",
       "2001897  OTTHUMT00000058841.1_4           3  ENSE00002021169.1_1   \n",
       "2001898  OTTHUMT00000058841.1_4           4  ENSE00002036959.1_1   \n",
       "2001899  OTTHUMT00000058841.1_4           5  ENSE00002023900.1_1   \n",
       "\n",
       "          remap_original_location protein_id gene_status   \n",
       "0                             NaN        NaN         NaN  \\\n",
       "1                             NaN        NaN         NaN   \n",
       "2              chr1:+:12010-12057        NaN         NaN   \n",
       "3              chr1:+:12179-12227        NaN         NaN   \n",
       "4              chr1:+:12613-12697        NaN         NaN   \n",
       "...                           ...        ...         ...   \n",
       "2001895  chrY:-:57214350-57214397        NaN         NaN   \n",
       "2001896  chrY:-:57213880-57213964        NaN         NaN   \n",
       "2001897  chrY:-:57213526-57213602        NaN         NaN   \n",
       "2001898  chrY:-:57213204-57213357        NaN         NaN   \n",
       "2001899  chrY:-:57212184-57213125        NaN         NaN   \n",
       "\n",
       "        remap_substituted_missing_target transcript_status ccdsid artif_dupl  \n",
       "0                                    NaN               NaN    NaN        NaN  \n",
       "1                                    NaN               NaN    NaN        NaN  \n",
       "2                                    NaN               NaN    NaN        NaN  \n",
       "3                                    NaN               NaN    NaN        NaN  \n",
       "4                                    NaN               NaN    NaN        NaN  \n",
       "...                                  ...               ...    ...        ...  \n",
       "2001895                              NaN               NaN    NaN        NaN  \n",
       "2001896                              NaN               NaN    NaN        NaN  \n",
       "2001897                              NaN               NaN    NaN        NaN  \n",
       "2001898                              NaN               NaN    NaN        NaN  \n",
       "2001899                              NaN               NaN    NaN        NaN  \n",
       "\n",
       "[2001900 rows x 33 columns]"
      ]
     },
     "execution_count": 111,
     "metadata": {},
     "output_type": "execute_result"
    }
   ],
   "source": [
    "df"
   ]
  },
  {
   "cell_type": "code",
   "execution_count": 112,
   "id": "30fcb087-b119-4c57-8eb5-2675b7e20644",
   "metadata": {},
   "outputs": [
    {
     "data": {
      "text/html": [
       "<div>\n",
       "<style scoped>\n",
       "    .dataframe tbody tr th:only-of-type {\n",
       "        vertical-align: middle;\n",
       "    }\n",
       "\n",
       "    .dataframe tbody tr th {\n",
       "        vertical-align: top;\n",
       "    }\n",
       "\n",
       "    .dataframe thead th {\n",
       "        text-align: right;\n",
       "    }\n",
       "</style>\n",
       "<table border=\"1\" class=\"dataframe\">\n",
       "  <thead>\n",
       "    <tr style=\"text-align: right;\">\n",
       "      <th></th>\n",
       "      <th>Chromosome</th>\n",
       "      <th>Source</th>\n",
       "      <th>Feature</th>\n",
       "      <th>Start</th>\n",
       "      <th>End</th>\n",
       "      <th>Score</th>\n",
       "      <th>Strand</th>\n",
       "      <th>Frame</th>\n",
       "      <th>gene_id</th>\n",
       "      <th>gene_type</th>\n",
       "      <th>...</th>\n",
       "      <th>havana_transcript</th>\n",
       "      <th>exon_number</th>\n",
       "      <th>exon_id</th>\n",
       "      <th>remap_original_location</th>\n",
       "      <th>protein_id</th>\n",
       "      <th>gene_status</th>\n",
       "      <th>remap_substituted_missing_target</th>\n",
       "      <th>transcript_status</th>\n",
       "      <th>ccdsid</th>\n",
       "      <th>artif_dupl</th>\n",
       "    </tr>\n",
       "  </thead>\n",
       "  <tbody>\n",
       "    <tr>\n",
       "      <th>27</th>\n",
       "      <td>chr1</td>\n",
       "      <td>HAVANA</td>\n",
       "      <td>gene</td>\n",
       "      <td>65418</td>\n",
       "      <td>71585</td>\n",
       "      <td>.</td>\n",
       "      <td>+</td>\n",
       "      <td>.</td>\n",
       "      <td>ENSG00000186092.7_8</td>\n",
       "      <td>protein_coding</td>\n",
       "      <td>...</td>\n",
       "      <td>NaN</td>\n",
       "      <td>NaN</td>\n",
       "      <td>NaN</td>\n",
       "      <td>NaN</td>\n",
       "      <td>NaN</td>\n",
       "      <td>NaN</td>\n",
       "      <td>NaN</td>\n",
       "      <td>NaN</td>\n",
       "      <td>NaN</td>\n",
       "      <td>NaN</td>\n",
       "    </tr>\n",
       "    <tr>\n",
       "      <th>28</th>\n",
       "      <td>chr1</td>\n",
       "      <td>HAVANA</td>\n",
       "      <td>transcript</td>\n",
       "      <td>65418</td>\n",
       "      <td>71585</td>\n",
       "      <td>.</td>\n",
       "      <td>+</td>\n",
       "      <td>.</td>\n",
       "      <td>ENSG00000186092.7_8</td>\n",
       "      <td>protein_coding</td>\n",
       "      <td>...</td>\n",
       "      <td>OTTHUMT00000003223.4_4</td>\n",
       "      <td>NaN</td>\n",
       "      <td>NaN</td>\n",
       "      <td>NaN</td>\n",
       "      <td>ENSP00000493376.2</td>\n",
       "      <td>NaN</td>\n",
       "      <td>NaN</td>\n",
       "      <td>NaN</td>\n",
       "      <td>NaN</td>\n",
       "      <td>NaN</td>\n",
       "    </tr>\n",
       "    <tr>\n",
       "      <th>29</th>\n",
       "      <td>chr1</td>\n",
       "      <td>HAVANA</td>\n",
       "      <td>exon</td>\n",
       "      <td>65418</td>\n",
       "      <td>65433</td>\n",
       "      <td>.</td>\n",
       "      <td>+</td>\n",
       "      <td>.</td>\n",
       "      <td>ENSG00000186092.7_8</td>\n",
       "      <td>protein_coding</td>\n",
       "      <td>...</td>\n",
       "      <td>OTTHUMT00000003223.4_4</td>\n",
       "      <td>1</td>\n",
       "      <td>ENSE00003812156.1_1</td>\n",
       "      <td>chr1:+:65419-65433</td>\n",
       "      <td>ENSP00000493376.2</td>\n",
       "      <td>NaN</td>\n",
       "      <td>NaN</td>\n",
       "      <td>NaN</td>\n",
       "      <td>NaN</td>\n",
       "      <td>NaN</td>\n",
       "    </tr>\n",
       "    <tr>\n",
       "      <th>30</th>\n",
       "      <td>chr1</td>\n",
       "      <td>HAVANA</td>\n",
       "      <td>UTR</td>\n",
       "      <td>65418</td>\n",
       "      <td>65433</td>\n",
       "      <td>.</td>\n",
       "      <td>+</td>\n",
       "      <td>.</td>\n",
       "      <td>ENSG00000186092.7_8</td>\n",
       "      <td>protein_coding</td>\n",
       "      <td>...</td>\n",
       "      <td>OTTHUMT00000003223.4_4</td>\n",
       "      <td>1</td>\n",
       "      <td>ENSE00003812156.1</td>\n",
       "      <td>chr1:+:65419-65433</td>\n",
       "      <td>ENSP00000493376.2</td>\n",
       "      <td>NaN</td>\n",
       "      <td>NaN</td>\n",
       "      <td>NaN</td>\n",
       "      <td>NaN</td>\n",
       "      <td>NaN</td>\n",
       "    </tr>\n",
       "    <tr>\n",
       "      <th>31</th>\n",
       "      <td>chr1</td>\n",
       "      <td>HAVANA</td>\n",
       "      <td>exon</td>\n",
       "      <td>65519</td>\n",
       "      <td>65573</td>\n",
       "      <td>.</td>\n",
       "      <td>+</td>\n",
       "      <td>.</td>\n",
       "      <td>ENSG00000186092.7_8</td>\n",
       "      <td>protein_coding</td>\n",
       "      <td>...</td>\n",
       "      <td>OTTHUMT00000003223.4_4</td>\n",
       "      <td>2</td>\n",
       "      <td>ENSE00003813641.1_1</td>\n",
       "      <td>chr1:+:65520-65573</td>\n",
       "      <td>ENSP00000493376.2</td>\n",
       "      <td>NaN</td>\n",
       "      <td>NaN</td>\n",
       "      <td>NaN</td>\n",
       "      <td>NaN</td>\n",
       "      <td>NaN</td>\n",
       "    </tr>\n",
       "    <tr>\n",
       "      <th>...</th>\n",
       "      <td>...</td>\n",
       "      <td>...</td>\n",
       "      <td>...</td>\n",
       "      <td>...</td>\n",
       "      <td>...</td>\n",
       "      <td>...</td>\n",
       "      <td>...</td>\n",
       "      <td>...</td>\n",
       "      <td>...</td>\n",
       "      <td>...</td>\n",
       "      <td>...</td>\n",
       "      <td>...</td>\n",
       "      <td>...</td>\n",
       "      <td>...</td>\n",
       "      <td>...</td>\n",
       "      <td>...</td>\n",
       "      <td>...</td>\n",
       "      <td>...</td>\n",
       "      <td>...</td>\n",
       "      <td>...</td>\n",
       "      <td>...</td>\n",
       "    </tr>\n",
       "    <tr>\n",
       "      <th>2001712</th>\n",
       "      <td>chrY</td>\n",
       "      <td>ENSEMBL</td>\n",
       "      <td>CDS</td>\n",
       "      <td>27184955</td>\n",
       "      <td>27185061</td>\n",
       "      <td>.</td>\n",
       "      <td>-</td>\n",
       "      <td>2</td>\n",
       "      <td>ENSG00000185894.8_10</td>\n",
       "      <td>protein_coding</td>\n",
       "      <td>...</td>\n",
       "      <td>NaN</td>\n",
       "      <td>3</td>\n",
       "      <td>ENSE00003547967.1</td>\n",
       "      <td>chrY:-:25038809-25038914</td>\n",
       "      <td>ENSP00000480751.1</td>\n",
       "      <td>NaN</td>\n",
       "      <td>NaN</td>\n",
       "      <td>NaN</td>\n",
       "      <td>CCDS44030.1</td>\n",
       "      <td>NaN</td>\n",
       "    </tr>\n",
       "    <tr>\n",
       "      <th>2001713</th>\n",
       "      <td>chrY</td>\n",
       "      <td>ENSEMBL</td>\n",
       "      <td>exon</td>\n",
       "      <td>27184244</td>\n",
       "      <td>27184263</td>\n",
       "      <td>.</td>\n",
       "      <td>-</td>\n",
       "      <td>.</td>\n",
       "      <td>ENSG00000185894.8_10</td>\n",
       "      <td>protein_coding</td>\n",
       "      <td>...</td>\n",
       "      <td>NaN</td>\n",
       "      <td>4</td>\n",
       "      <td>ENSE00003753422.1_1</td>\n",
       "      <td>chrY:-:25038098-25038116</td>\n",
       "      <td>ENSP00000480751.1</td>\n",
       "      <td>NaN</td>\n",
       "      <td>NaN</td>\n",
       "      <td>NaN</td>\n",
       "      <td>CCDS44030.1</td>\n",
       "      <td>NaN</td>\n",
       "    </tr>\n",
       "    <tr>\n",
       "      <th>2001714</th>\n",
       "      <td>chrY</td>\n",
       "      <td>ENSEMBL</td>\n",
       "      <td>CDS</td>\n",
       "      <td>27184247</td>\n",
       "      <td>27184263</td>\n",
       "      <td>.</td>\n",
       "      <td>-</td>\n",
       "      <td>1</td>\n",
       "      <td>ENSG00000185894.8_10</td>\n",
       "      <td>protein_coding</td>\n",
       "      <td>...</td>\n",
       "      <td>NaN</td>\n",
       "      <td>4</td>\n",
       "      <td>ENSE00003753422.1</td>\n",
       "      <td>chrY:-:25038101-25038116</td>\n",
       "      <td>ENSP00000480751.1</td>\n",
       "      <td>NaN</td>\n",
       "      <td>NaN</td>\n",
       "      <td>NaN</td>\n",
       "      <td>CCDS44030.1</td>\n",
       "      <td>NaN</td>\n",
       "    </tr>\n",
       "    <tr>\n",
       "      <th>2001715</th>\n",
       "      <td>chrY</td>\n",
       "      <td>ENSEMBL</td>\n",
       "      <td>UTR</td>\n",
       "      <td>27184244</td>\n",
       "      <td>27184247</td>\n",
       "      <td>.</td>\n",
       "      <td>-</td>\n",
       "      <td>.</td>\n",
       "      <td>ENSG00000185894.8_10</td>\n",
       "      <td>protein_coding</td>\n",
       "      <td>...</td>\n",
       "      <td>NaN</td>\n",
       "      <td>4</td>\n",
       "      <td>ENSE00003753422.1</td>\n",
       "      <td>chrY:-:25038098-25038100</td>\n",
       "      <td>ENSP00000480751.1</td>\n",
       "      <td>NaN</td>\n",
       "      <td>NaN</td>\n",
       "      <td>NaN</td>\n",
       "      <td>CCDS44030.1</td>\n",
       "      <td>NaN</td>\n",
       "    </tr>\n",
       "    <tr>\n",
       "      <th>2001716</th>\n",
       "      <td>chrY</td>\n",
       "      <td>ENSEMBL</td>\n",
       "      <td>stop_codon</td>\n",
       "      <td>27184244</td>\n",
       "      <td>27184247</td>\n",
       "      <td>.</td>\n",
       "      <td>-</td>\n",
       "      <td>0</td>\n",
       "      <td>ENSG00000185894.8_10</td>\n",
       "      <td>protein_coding</td>\n",
       "      <td>...</td>\n",
       "      <td>NaN</td>\n",
       "      <td>4</td>\n",
       "      <td>ENSE00003753422.1</td>\n",
       "      <td>chrY:-:25038098-25038100</td>\n",
       "      <td>ENSP00000480751.1</td>\n",
       "      <td>NaN</td>\n",
       "      <td>NaN</td>\n",
       "      <td>NaN</td>\n",
       "      <td>CCDS44030.1</td>\n",
       "      <td>NaN</td>\n",
       "    </tr>\n",
       "  </tbody>\n",
       "</table>\n",
       "<p>1757985 rows × 33 columns</p>\n",
       "</div>"
      ],
      "text/plain": [
       "        Chromosome   Source     Feature     Start       End Score Strand   \n",
       "27            chr1   HAVANA        gene     65418     71585     .      +  \\\n",
       "28            chr1   HAVANA  transcript     65418     71585     .      +   \n",
       "29            chr1   HAVANA        exon     65418     65433     .      +   \n",
       "30            chr1   HAVANA         UTR     65418     65433     .      +   \n",
       "31            chr1   HAVANA        exon     65519     65573     .      +   \n",
       "...            ...      ...         ...       ...       ...   ...    ...   \n",
       "2001712       chrY  ENSEMBL         CDS  27184955  27185061     .      -   \n",
       "2001713       chrY  ENSEMBL        exon  27184244  27184263     .      -   \n",
       "2001714       chrY  ENSEMBL         CDS  27184247  27184263     .      -   \n",
       "2001715       chrY  ENSEMBL         UTR  27184244  27184247     .      -   \n",
       "2001716       chrY  ENSEMBL  stop_codon  27184244  27184247     .      -   \n",
       "\n",
       "        Frame               gene_id       gene_type  ...   \n",
       "27          .   ENSG00000186092.7_8  protein_coding  ...  \\\n",
       "28          .   ENSG00000186092.7_8  protein_coding  ...   \n",
       "29          .   ENSG00000186092.7_8  protein_coding  ...   \n",
       "30          .   ENSG00000186092.7_8  protein_coding  ...   \n",
       "31          .   ENSG00000186092.7_8  protein_coding  ...   \n",
       "...       ...                   ...             ...  ...   \n",
       "2001712     2  ENSG00000185894.8_10  protein_coding  ...   \n",
       "2001713     .  ENSG00000185894.8_10  protein_coding  ...   \n",
       "2001714     1  ENSG00000185894.8_10  protein_coding  ...   \n",
       "2001715     .  ENSG00000185894.8_10  protein_coding  ...   \n",
       "2001716     0  ENSG00000185894.8_10  protein_coding  ...   \n",
       "\n",
       "              havana_transcript exon_number              exon_id   \n",
       "27                          NaN         NaN                  NaN  \\\n",
       "28       OTTHUMT00000003223.4_4         NaN                  NaN   \n",
       "29       OTTHUMT00000003223.4_4           1  ENSE00003812156.1_1   \n",
       "30       OTTHUMT00000003223.4_4           1    ENSE00003812156.1   \n",
       "31       OTTHUMT00000003223.4_4           2  ENSE00003813641.1_1   \n",
       "...                         ...         ...                  ...   \n",
       "2001712                     NaN           3    ENSE00003547967.1   \n",
       "2001713                     NaN           4  ENSE00003753422.1_1   \n",
       "2001714                     NaN           4    ENSE00003753422.1   \n",
       "2001715                     NaN           4    ENSE00003753422.1   \n",
       "2001716                     NaN           4    ENSE00003753422.1   \n",
       "\n",
       "          remap_original_location         protein_id gene_status   \n",
       "27                            NaN                NaN         NaN  \\\n",
       "28                            NaN  ENSP00000493376.2         NaN   \n",
       "29             chr1:+:65419-65433  ENSP00000493376.2         NaN   \n",
       "30             chr1:+:65419-65433  ENSP00000493376.2         NaN   \n",
       "31             chr1:+:65520-65573  ENSP00000493376.2         NaN   \n",
       "...                           ...                ...         ...   \n",
       "2001712  chrY:-:25038809-25038914  ENSP00000480751.1         NaN   \n",
       "2001713  chrY:-:25038098-25038116  ENSP00000480751.1         NaN   \n",
       "2001714  chrY:-:25038101-25038116  ENSP00000480751.1         NaN   \n",
       "2001715  chrY:-:25038098-25038100  ENSP00000480751.1         NaN   \n",
       "2001716  chrY:-:25038098-25038100  ENSP00000480751.1         NaN   \n",
       "\n",
       "        remap_substituted_missing_target transcript_status       ccdsid   \n",
       "27                                   NaN               NaN          NaN  \\\n",
       "28                                   NaN               NaN          NaN   \n",
       "29                                   NaN               NaN          NaN   \n",
       "30                                   NaN               NaN          NaN   \n",
       "31                                   NaN               NaN          NaN   \n",
       "...                                  ...               ...          ...   \n",
       "2001712                              NaN               NaN  CCDS44030.1   \n",
       "2001713                              NaN               NaN  CCDS44030.1   \n",
       "2001714                              NaN               NaN  CCDS44030.1   \n",
       "2001715                              NaN               NaN  CCDS44030.1   \n",
       "2001716                              NaN               NaN  CCDS44030.1   \n",
       "\n",
       "        artif_dupl  \n",
       "27             NaN  \n",
       "28             NaN  \n",
       "29             NaN  \n",
       "30             NaN  \n",
       "31             NaN  \n",
       "...            ...  \n",
       "2001712        NaN  \n",
       "2001713        NaN  \n",
       "2001714        NaN  \n",
       "2001715        NaN  \n",
       "2001716        NaN  \n",
       "\n",
       "[1757985 rows x 33 columns]"
      ]
     },
     "execution_count": 112,
     "metadata": {},
     "output_type": "execute_result"
    }
   ],
   "source": [
    "df[df['gene_type']=='protein_coding']"
   ]
  },
  {
   "cell_type": "code",
   "execution_count": null,
   "id": "b58d96bf-3754-4afd-8a15-b92032329d86",
   "metadata": {},
   "outputs": [],
   "source": []
  },
  {
   "cell_type": "code",
   "execution_count": null,
   "id": "72eed9cd-d4dc-4e86-a102-aa36c8325153",
   "metadata": {},
   "outputs": [],
   "source": []
  },
  {
   "cell_type": "code",
   "execution_count": null,
   "id": "dca4edac-78a5-46fe-83cc-eb8da8926dfd",
   "metadata": {},
   "outputs": [],
   "source": []
  },
  {
   "cell_type": "code",
   "execution_count": 48,
   "id": "63be580a-1afd-46f2-98e5-8ec4fc6979d5",
   "metadata": {},
   "outputs": [],
   "source": [
    "target_df = pd.read_csv('../data/enformer_targets_human.txt', sep='\\t')"
   ]
  },
  {
   "cell_type": "code",
   "execution_count": 49,
   "id": "cd23ed8e-912c-4cfb-a1e5-5a0cf504d1b9",
   "metadata": {},
   "outputs": [
    {
     "data": {
      "text/plain": [
       "index                                                       5110\n",
       "genome                                                         0\n",
       "identifier                                             CNhs12333\n",
       "file           /home/drk/tillage/datasets/human/cage/fantom/C...\n",
       "clip                                                         384\n",
       "scale                                                          1\n",
       "sum_stat                                                     sum\n",
       "description    CAGE:B lymphoblastoid cell line: GM12878 ENCOD...\n",
       "Name: 5110, dtype: object"
      ]
     },
     "execution_count": 49,
     "metadata": {},
     "output_type": "execute_result"
    }
   ],
   "source": [
    "target_df.iloc[5110]"
   ]
  },
  {
   "cell_type": "code",
   "execution_count": 88,
   "id": "93184ba9-0f2e-4f3f-bd79-b23d8dff7055",
   "metadata": {},
   "outputs": [
    {
     "data": {
      "text/html": [
       "<div>\n",
       "<style scoped>\n",
       "    .dataframe tbody tr th:only-of-type {\n",
       "        vertical-align: middle;\n",
       "    }\n",
       "\n",
       "    .dataframe tbody tr th {\n",
       "        vertical-align: top;\n",
       "    }\n",
       "\n",
       "    .dataframe thead th {\n",
       "        text-align: right;\n",
       "    }\n",
       "</style>\n",
       "<table border=\"1\" class=\"dataframe\">\n",
       "  <thead>\n",
       "    <tr style=\"text-align: right;\">\n",
       "      <th></th>\n",
       "      <th>Unnamed: 0</th>\n",
       "      <th>Chromosome</th>\n",
       "      <th>start</th>\n",
       "      <th>gene_name</th>\n",
       "      <th>gene_id</th>\n",
       "      <th>Strand</th>\n",
       "      <th>PC-3</th>\n",
       "    </tr>\n",
       "  </thead>\n",
       "  <tbody>\n",
       "    <tr>\n",
       "      <th>0</th>\n",
       "      <td>5626</td>\n",
       "      <td>chr1</td>\n",
       "      <td>167905278</td>\n",
       "      <td>MPC2</td>\n",
       "      <td>ENSG00000143158.11_8</td>\n",
       "      <td>-</td>\n",
       "      <td>74.856834</td>\n",
       "    </tr>\n",
       "    <tr>\n",
       "      <th>1</th>\n",
       "      <td>30657</td>\n",
       "      <td>chr9</td>\n",
       "      <td>140009185</td>\n",
       "      <td>DPP7</td>\n",
       "      <td>ENSG00000176978.15_9</td>\n",
       "      <td>-</td>\n",
       "      <td>74.879250</td>\n",
       "    </tr>\n",
       "  </tbody>\n",
       "</table>\n",
       "</div>"
      ],
      "text/plain": [
       "   Unnamed: 0 Chromosome      start gene_name               gene_id Strand   \n",
       "0        5626       chr1  167905278      MPC2  ENSG00000143158.11_8      -  \\\n",
       "1       30657       chr9  140009185      DPP7  ENSG00000176978.15_9      -   \n",
       "\n",
       "        PC-3  \n",
       "0  74.856834  \n",
       "1  74.879250  "
      ]
     },
     "execution_count": 88,
     "metadata": {},
     "output_type": "execute_result"
    }
   ],
   "source": [
    "selected_tss = pd.read_csv('../results/enformer_PC-3_selected_tss.csv')\n",
    "selected_tss.head(2)"
   ]
  },
  {
   "cell_type": "code",
   "execution_count": 82,
   "id": "5c6823f3-dd43-474b-aa09-cc1a6a5fe0eb",
   "metadata": {},
   "outputs": [],
   "source": [
    "tss_df = pd.concat(pd.read_csv(f, index_col='Unnamed: 0') for f in glob.glob(f'../results/enformer*selected_tss.csv'))\n"
   ]
  },
  {
   "cell_type": "code",
   "execution_count": 91,
   "id": "e6aaab9b-47d0-4a47-9a04-56f1e9463c4e",
   "metadata": {},
   "outputs": [],
   "source": [
    "cell_lines = [4824, 5110, 5111]\n",
    "model_name = 'enformer'\n",
    "targets = pd.read_csv(f'../data/{model_name}_targets_human.txt', sep='\\t')\n",
    "column_names = [t.split(':')[-1].split(' ENCODE')[0].strip() for t in targets.iloc[cell_lines]['description'].values]"
   ]
  },
  {
   "cell_type": "code",
   "execution_count": 71,
   "id": "3b8568cb-53b1-4618-ac83-1207c0bd50db",
   "metadata": {},
   "outputs": [
    {
     "data": {
      "text/plain": [
       "'P3H1_chr1_43232683'"
      ]
     },
     "execution_count": 71,
     "metadata": {},
     "output_type": "execute_result"
    }
   ],
   "source": [
    "row = tss_df.loc[int(ri)].iloc[0]\n",
    "f\"{row['gene_name']}_{row['Chromosome']}_{row['start']}\""
   ]
  },
  {
   "cell_type": "code",
   "execution_count": 92,
   "id": "fb5e6291-4e77-4573-8bf1-5ad0cc89bfbd",
   "metadata": {},
   "outputs": [
    {
     "data": {
      "text/plain": [
       "['PC-3', 'GM12878', 'K562']"
      ]
     },
     "execution_count": 92,
     "metadata": {},
     "output_type": "execute_result"
    }
   ],
   "source": [
    "column_names"
   ]
  },
  {
   "cell_type": "code",
   "execution_count": null,
   "id": "a94f9e02-8fa3-4ca0-93d3-08abba98adfd",
   "metadata": {},
   "outputs": [],
   "source": []
  },
  {
   "cell_type": "code",
   "execution_count": 89,
   "id": "93f1b41d-dc0f-4701-afaa-946b9c78718c",
   "metadata": {},
   "outputs": [],
   "source": [
    "k562_res = []\n",
    "for _, row in selected_tss.iterrows():\n",
    "    \n",
    "    r = f'../results/context_dependence_test/enformer/{utils.get_summary(row)}.pickle'\n",
    "    with open(r, 'rb') as handle:\n",
    "        context_res = pickle.load(handle)\n",
    "    delta = creme.context_effect_on_tss(context_res['wt'][:,0], context_res['mut'][:,0], 448)\n",
    "    k562_res.append(delta)"
   ]
  },
  {
   "cell_type": "code",
   "execution_count": null,
   "id": "cf99d9b8-b747-482c-a26c-eb873449f79c",
   "metadata": {},
   "outputs": [],
   "source": []
  },
  {
   "cell_type": "code",
   "execution_count": 90,
   "id": "cb72423a-17aa-4403-b83a-3413c82c00c0",
   "metadata": {},
   "outputs": [
    {
     "data": {
      "text/plain": [
       "<Axes: ylabel='Count'>"
      ]
     },
     "execution_count": 90,
     "metadata": {},
     "output_type": "execute_result"
    },
    {
     "data": {
      "image/png": "[encoded data removed]",
      "text/plain": [
       "<Figure size 640x480 with 1 Axes>"
      ]
     },
     "metadata": {},
     "output_type": "display_data"
    }
   ],
   "source": [
    "sns.histplot(k562_res)"
   ]
  },
  {
   "cell_type": "code",
   "execution_count": 36,
   "id": "fb5c977a-ce98-43eb-91a3-ea1c6d3246b5",
   "metadata": {},
   "outputs": [
    {
     "data": {
      "text/plain": [
       "array([[ 778],\n",
       "       [3259],\n",
       "       [4445],\n",
       "       [5116],\n",
       "       [6772]])"
      ]
     },
     "execution_count": 36,
     "metadata": {},
     "output_type": "execute_result"
    }
   ],
   "source": [
    "np.argwhere(np.array(k562_res) < -1000)"
   ]
  },
  {
   "cell_type": "code",
   "execution_count": 38,
   "id": "1093e939-9d16-46c4-ae2a-0bcc9d560806",
   "metadata": {},
   "outputs": [],
   "source": [
    "\n",
    "\n",
    "with open(result_files[778], 'rb') as handle:\n",
    "        context_res = pickle.load(handle)"
   ]
  },
  {
   "cell_type": "code",
   "execution_count": 42,
   "id": "294da035-4dfa-4f9b-a28b-4e0e4d926ff7",
   "metadata": {},
   "outputs": [
    {
     "data": {
      "text/plain": [
       "0.0004387751"
      ]
     },
     "execution_count": 42,
     "metadata": {},
     "output_type": "execute_result"
    }
   ],
   "source": [
    "context_res['wt'][448, -1]"
   ]
  },
  {
   "cell_type": "code",
   "execution_count": null,
   "id": "26008485-725b-4653-b566-c9c1f3672338",
   "metadata": {},
   "outputs": [],
   "source": []
  },
  {
   "cell_type": "code",
   "execution_count": null,
   "id": "3933bd07-bf5d-4730-b4c3-e15135cfeeca",
   "metadata": {},
   "outputs": [],
   "source": []
  },
  {
   "cell_type": "code",
   "execution_count": 27,
   "id": "9819a3d0-ab7e-49ed-bcff-84faef0b72ac",
   "metadata": {},
   "outputs": [
    {
     "data": {
      "text/plain": [
       "[<matplotlib.lines.Line2D at 0x7f9e982f75b0>]"
      ]
     },
     "execution_count": 27,
     "metadata": {},
     "output_type": "execute_result"
    },
    {
     "data": {
      "image/png": "[encoded data removed]",
      "text/plain": [
       "<Figure size 640x480 with 1 Axes>"
      ]
     },
     "metadata": {},
     "output_type": "display_data"
    }
   ],
   "source": [
    "plt.plot(context_res['wt'][:,-1])\n",
    "plt.plot(context_res['mut'][:,-1])\n"
   ]
  },
  {
   "cell_type": "code",
   "execution_count": 13,
   "id": "54aae69b-79d5-4b82-b79f-f64154756ffd",
   "metadata": {},
   "outputs": [
    {
     "data": {
      "text/plain": [
       "{'wt': array([[0.18113065, 0.24943592, 0.16318935],\n",
       "        [0.61712396, 2.7481961 , 1.0660298 ],\n",
       "        [0.30904564, 1.2010484 , 0.53722596],\n",
       "        ...,\n",
       "        [1.1740596 , 3.1269925 , 1.2725819 ],\n",
       "        [0.84712803, 2.5594754 , 0.97441757],\n",
       "        [0.23775606, 0.37786275, 0.19247302]], dtype=float32),\n",
       " 'mut': array([[0.01848033, 0.08879419, 0.04317456],\n",
       "        [0.01576097, 0.05670903, 0.03213033],\n",
       "        [0.01485418, 0.04590509, 0.02766026],\n",
       "        ...,\n",
       "        [0.03157992, 0.15974621, 0.07226846],\n",
       "        [0.02144169, 0.06145202, 0.03443139],\n",
       "        [0.02046442, 0.06050266, 0.03276479]], dtype=float32),\n",
       " 'std': array([[0.00921986, 0.10280044, 0.03671624],\n",
       "        [0.00491492, 0.03050948, 0.01345512],\n",
       "        [0.00322134, 0.01455636, 0.00730885],\n",
       "        ...,\n",
       "        [0.01238765, 0.12362851, 0.04108834],\n",
       "        [0.00811556, 0.02107967, 0.01095608],\n",
       "        [0.00756581, 0.01979333, 0.00728442]], dtype=float32)}"
      ]
     },
     "execution_count": 13,
     "metadata": {},
     "output_type": "execute_result"
    }
   ],
   "source": [
    "b"
   ]
  },
  {
   "cell_type": "code",
   "execution_count": null,
   "id": "d7ac4701-d54d-4b14-9a08-7ef5f51feacf",
   "metadata": {},
   "outputs": [],
   "source": []
  }
 ],
 "metadata": {
  "kernelspec": {
   "display_name": "Python 3 (ipykernel)",
   "language": "python",
   "name": "python3"
  },
  "language_info": {
   "codemirror_mode": {
    "name": "ipython",
    "version": 3
   },
   "file_extension": ".py",
   "mimetype": "text/x-python",
   "name": "python",
   "nbconvert_exporter": "python",
   "pygments_lexer": "ipython3",
   "version": "3.9.16"
  }
 },
 "nbformat": 4,
 "nbformat_minor": 5
}
