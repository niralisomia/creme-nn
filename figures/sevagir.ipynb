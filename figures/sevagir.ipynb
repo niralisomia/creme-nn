{
 "cells": [
  {
   "cell_type": "code",
   "execution_count": 62,
   "id": "f75f21f5-6987-4872-8b5f-4280b1c0bca9",
   "metadata": {},
   "outputs": [
    {
     "name": "stdout",
     "output_type": "stream",
     "text": [
      "The autoreload extension is already loaded. To reload it, use:\n",
      "  %reload_ext autoreload\n"
     ]
    }
   ],
   "source": [
    "%load_ext autoreload\n",
    "%autoreload 2\n",
    "import pandas as pd\n",
    "import numpy as np\n",
    "import sys\n",
    "sys.path.append('../creme/')\n",
    "import custom_model\n",
    "import creme\n",
    "import utils\n",
    "import glob\n",
    "from tqdm import tqdm\n",
    "import matplotlib.pyplot as plt\n",
    "import seaborn as sns\n",
    "import pyranges as pr\n",
    "import shutil\n",
    "import pickle\n",
    "import kipoiseq\n",
    "from itertools import combinations\n",
    "import scipy\n",
    "import os\n",
    "import gene as bgene"
   ]
  },
  {
   "cell_type": "code",
   "execution_count": 3,
   "id": "2bc2b5b6-69cf-4ac0-a3ea-a006fcbfba5d",
   "metadata": {},
   "outputs": [],
   "source": [
    "res_paths = glob.glob('../results/gencode_tss_predictions/borzoi/*pickle')"
   ]
  },
  {
   "cell_type": "code",
   "execution_count": 40,
   "id": "1d5c371d-1d80-4f6e-b78a-25d9cec5e6e8",
   "metadata": {},
   "outputs": [],
   "source": [
    "target_df = pd.read_csv('../data/borzoi_targets_human.txt', sep='\\t')\n",
    "cage_tracks = [[i,t.split(':')[-1].strip()] for i, t in enumerate(target_df['description']) if\n",
    "               ('CAGE' in t) and (t.split(':')[-1].strip() in ['K562 ENCODE, biol_',\n",
    "                                                               'GM12878 ENCODE, biol_',\n",
    "                                                               'PC-3'])]\n",
    "\n",
    "rna_tracks = [[i,t.split(':')[-1].strip()] for i,t in enumerate(target_df['description']) if\n",
    "              ('RNA' in t) and (t.split(':')[-1].strip() in ['K562',\n",
    "                                                             'GM12878',\n",
    "                                                             'PC-3'])]"
   ]
  },
  {
   "cell_type": "code",
   "execution_count": 51,
   "id": "58c2de48-76b9-48de-a238-8ce3b52b1b76",
   "metadata": {},
   "outputs": [],
   "source": [
    "\n",
    "target_df_path = '../data/borzoi_targets_human.txt'\n",
    "rna_track_labels = ['K562', 'GM12878', 'PC-3']\n",
    "\n",
    "rna_track_groups = utils.map_indeces_to_labels_borzoi(rna_track_labels, 'RNA', target_df_path)\n",
    "cage_track_labels = ['K562 ENCODE, biol_', 'GM12878 ENCODE, biol_', 'PC-3']\n",
    "cage_track_groups = utils.map_indeces_to_labels_borzoi(cage_track_labels, 'CAGE', target_df_path)"
   ]
  },
  {
   "cell_type": "code",
   "execution_count": 158,
   "id": "e1475e0d-e26d-4ae2-af79-5fb9f52453b7",
   "metadata": {},
   "outputs": [],
   "source": [
    "res_path = res_paths[10]\n",
    "res = utils.read_pickle(res_path)\n",
    "rna = res['rna'][0]\n",
    "cage = res['cage'][0]\n",
    "    \n",
    "    "
   ]
  },
  {
   "cell_type": "code",
   "execution_count": 159,
   "id": "8033087f-edaf-4538-b14b-aa0aaf95353f",
   "metadata": {},
   "outputs": [
    {
     "data": {
      "text/plain": [
       "'../results/gencode_tss_predictions/borzoi/PTK7_chr6_43076306_+.pickle'"
      ]
     },
     "execution_count": 159,
     "metadata": {},
     "output_type": "execute_result"
    }
   ],
   "source": [
    "res_path"
   ]
  },
  {
   "cell_type": "code",
   "execution_count": 164,
   "id": "7826f9c8-cd0a-45a0-b991-e6a3dcaa3ab7",
   "metadata": {},
   "outputs": [
    {
     "data": {
      "text/plain": [
       "array([681.5  ,   1.428, 623.5  ,   2.39 ], dtype=float16)"
      ]
     },
     "execution_count": 164,
     "metadata": {},
     "output_type": "execute_result"
    }
   ],
   "source": [
    "rna[:, rna_track_groups['PC-3']].sum(axis=0)"
   ]
  },
  {
   "cell_type": "code",
   "execution_count": 54,
   "id": "6f136dfc-baed-4caf-8fb5-e128c7c6007a",
   "metadata": {},
   "outputs": [
    {
     "name": "stdout",
     "output_type": "stream",
     "text": [
      "Adding models:\n",
      "['../data/borzoi/f0/model0_best.h5', '../data/borzoi/f1/model0_best.h5', '../data/borzoi/f2/model0_best.h5', '../data/borzoi/f3/model0_best.h5']\n",
      "WARNING:tensorflow:From /home/toneyan/.conda/envs/tf/lib/python3.9/site-packages/tensorflow/python/autograph/pyct/static_analysis/liveness.py:83: Analyzer.lamba_check (from tensorflow.python.autograph.pyct.static_analysis.liveness) is deprecated and will be removed after 2023-09-23.\n",
      "Instructions for updating:\n",
      "Lambda fuctions will be no more assumed to be used in the statement where they are used, or at least in the same block. https://github.com/tensorflow/tensorflow/issues/56089\n"
     ]
    },
    {
     "name": "stderr",
     "output_type": "stream",
     "text": [
      "2023-11-16 09:36:38.948340: I tensorflow/core/platform/cpu_feature_guard.cc:193] This TensorFlow binary is optimized with oneAPI Deep Neural Network Library (oneDNN) to use the following CPU instructions in performance-critical operations:  SSE4.1 SSE4.2 AVX AVX2 FMA\n",
      "To enable them in other operations, rebuild TensorFlow with the appropriate compiler flags.\n",
      "2023-11-16 09:36:39.958672: I tensorflow/core/common_runtime/gpu/gpu_device.cc:1613] Created device /job:localhost/replica:0/task:0/device:GPU:0 with 69493 MB memory:  -> device: 0, name: NVIDIA A100 80GB PCIe, pci bus id: 0000:47:00.0, compute capability: 8.0\n"
     ]
    }
   ],
   "source": [
    "# target_df = pd.read_csv('../data/borzoi_targets_human.txt', sep='\\t')\n",
    "# cage_tracks = [i for i, t in enumerate(target_df['description']) if\n",
    "#                ('CAGE' in t) and (t.split(':')[-1].strip() in ['K562 ENCODE, biol_',\n",
    "#                                                                'GM12878 ENCODE, biol_',\n",
    "#                                                                'PC-3'])]\n",
    "\n",
    "# rna_tracks = [i for i, t in enumerate(target_df['description']) if\n",
    "#               ('RNA' in t) and (t.split(':')[-1].strip() in ['K562',\n",
    "#                                                              'GM12878',\n",
    "#                                                              'PC-3'])]\n",
    "# target_df.iloc[cage_tracks+rna_tracks].to_csv('../data/borzoi_cage_rna_tracks.csv')\n",
    "model = custom_model.Borzoi('../data/borzoi/*/*', cage_tracks, rna_tracks, aggregate=True)"
   ]
  },
  {
   "cell_type": "code",
   "execution_count": 63,
   "id": "60fc1e0a-d527-48fb-8351-211310c73c32",
   "metadata": {},
   "outputs": [],
   "source": [
    "transcriptome = bgene.Transcriptome('../data/gencode.v44.basic.annotation.gtf')\n",
    "fasta_path = f'../data//GRCh38.primary_assembly.genome.fa'\n"
   ]
  },
  {
   "cell_type": "code",
   "execution_count": 74,
   "id": "2eaf7b05-5d2c-4269-b428-fea47f73ceea",
   "metadata": {},
   "outputs": [],
   "source": [
    "seq_parser = utils.SequenceParser(fasta_path)"
   ]
  },
  {
   "cell_type": "code",
   "execution_count": 122,
   "id": "89a15027-09f5-49cd-9471-eb87cd2a7959",
   "metadata": {},
   "outputs": [],
   "source": [
    "tss_df = pd.read_csv('../results/tss_positions.csv')"
   ]
  },
  {
   "cell_type": "code",
   "execution_count": 171,
   "id": "345c47dc-bfa2-4ac4-ace1-522f57635789",
   "metadata": {},
   "outputs": [],
   "source": [
    "chrom, center_pos = res_path.split('/')[-1].split('_')[1:3]\n",
    "center_pos = int(center_pos)"
   ]
  },
  {
   "cell_type": "code",
   "execution_count": 172,
   "id": "086948b4-5545-4d75-8fee-e643eead1a08",
   "metadata": {},
   "outputs": [
    {
     "data": {
      "text/plain": [
       "17174    PTK7\n",
       "Name: gene_name, dtype: object"
      ]
     },
     "execution_count": 172,
     "metadata": {},
     "output_type": "execute_result"
    }
   ],
   "source": [
    "tss_df[tss_df['Start']==center_pos]['gene_name']"
   ]
  },
  {
   "cell_type": "code",
   "execution_count": 173,
   "id": "5653ce84-6a25-4153-8c56-5b6b9d615c52",
   "metadata": {},
   "outputs": [
    {
     "data": {
      "text/plain": [
       "'../results/gencode_tss_predictions/borzoi/PTK7_chr6_43076306_+.pickle'"
      ]
     },
     "execution_count": 173,
     "metadata": {},
     "output_type": "execute_result"
    }
   ],
   "source": [
    "res_path"
   ]
  },
  {
   "cell_type": "code",
   "execution_count": 174,
   "id": "2a7dad41-f786-4487-ab87-d6bd446413cd",
   "metadata": {},
   "outputs": [],
   "source": [
    "row = tss_df[tss_df['Start'] == center_pos].iloc[0]"
   ]
  },
  {
   "cell_type": "code",
   "execution_count": 175,
   "id": "896beb4a-125c-4cf9-ad1b-7ce91a44a1f0",
   "metadata": {},
   "outputs": [],
   "source": [
    "gene_keys = [gene_key for gene_key in transcriptome.genes.keys() if row['gene_id'] in gene_key]"
   ]
  },
  {
   "cell_type": "code",
   "execution_count": 176,
   "id": "fdd6037a-ecdc-4d34-939b-e12b6488350c",
   "metadata": {},
   "outputs": [],
   "source": [
    "gene = transcriptome.genes[gene_keys[0]]"
   ]
  },
  {
   "cell_type": "code",
   "execution_count": 177,
   "id": "b7894ab3-8e70-42b5-8043-9be640c8de43",
   "metadata": {},
   "outputs": [],
   "source": [
    "start = center_pos - model.seq_length // 2\n",
    "end = center_pos + model.seq_length // 2\n",
    "seq_out_start = start + model.model_strides * model.target_crops\n",
    "seq_out_len = model.model_strides * model.target_lengths\n",
    "gene_slice = gene.output_slice(seq_out_start, seq_out_len, model.model_strides, False)"
   ]
  },
  {
   "cell_type": "code",
   "execution_count": 178,
   "id": "b24ceebf-8398-4c9e-9d60-6b42e965ba31",
   "metadata": {},
   "outputs": [],
   "source": [
    "sequence_one_hot = seq_parser.extract_seq_centered(chrom, center_pos, gene.strand, model.seq_length)[np.newaxis]"
   ]
  },
  {
   "cell_type": "code",
   "execution_count": 179,
   "id": "c4ec54d1-e50f-483a-9da9-926f4c270385",
   "metadata": {},
   "outputs": [],
   "source": [
    "preds = []\n",
    "for j, m in enumerate(model.models):\n",
    "    preds.append(m(sequence_one_hot)[:, None, ...].astype(\"float16\"))\n",
    "preds = np.concatenate(preds, axis=1)"
   ]
  },
  {
   "cell_type": "code",
   "execution_count": 180,
   "id": "cbe0b6d7-b482-439a-ad50-b307845b107c",
   "metadata": {},
   "outputs": [],
   "source": [
    "mean_preds = preds[0].mean(axis=0)[:, 6802]\n",
    "max_pred = mean_preds.max()"
   ]
  },
  {
   "cell_type": "code",
   "execution_count": 183,
   "id": "41cbe18b-7f5b-4ce7-99fa-887007f92b9b",
   "metadata": {},
   "outputs": [
    {
     "data": {
      "image/png": "[encoded data removed]",
      "text/plain": [
       "<Figure size 640x480 with 1 Axes>"
      ]
     },
     "metadata": {},
     "output_type": "display_data"
    }
   ],
   "source": [
    "plt.plot(mean_preds)\n",
    "for g in gene_slice:\n",
    "    plt.vlines(g, 0, max_pred, color='r', alpha=0.05)"
   ]
  },
  {
   "cell_type": "code",
   "execution_count": 153,
   "id": "7e37a579-fd73-4a4e-a61a-3f9ec60a9acd",
   "metadata": {},
   "outputs": [
    {
     "data": {
      "text/plain": [
       "[6802, 6803, 7086, 7087]"
      ]
     },
     "execution_count": 153,
     "metadata": {},
     "output_type": "execute_result"
    }
   ],
   "source": [
    "rna_tracks = [i for i, t in enumerate(target_df['description']) if\n",
    "              ('RNA' in t) and (t.split(':')[-1].strip() =='PC-3'\n",
    "                                                             )]\n",
    "\n",
    "rna_tracks"
   ]
  },
  {
   "cell_type": "code",
   "execution_count": 149,
   "id": "20bcb1ae-4188-4371-b7b1-92c9b6453600",
   "metadata": {},
   "outputs": [
    {
     "data": {
      "text/plain": [
       "{'GM12878': [0,\n",
       "  1,\n",
       "  2,\n",
       "  3,\n",
       "  4,\n",
       "  5,\n",
       "  6,\n",
       "  7,\n",
       "  8,\n",
       "  9,\n",
       "  20,\n",
       "  21,\n",
       "  24,\n",
       "  26,\n",
       "  29,\n",
       "  30,\n",
       "  31,\n",
       "  32,\n",
       "  43,\n",
       "  44,\n",
       "  45,\n",
       "  48],\n",
       " 'K562': [10,\n",
       "  11,\n",
       "  12,\n",
       "  13,\n",
       "  14,\n",
       "  15,\n",
       "  16,\n",
       "  17,\n",
       "  18,\n",
       "  19,\n",
       "  22,\n",
       "  23,\n",
       "  25,\n",
       "  27,\n",
       "  28,\n",
       "  35,\n",
       "  36,\n",
       "  37,\n",
       "  38,\n",
       "  41,\n",
       "  42,\n",
       "  46,\n",
       "  47],\n",
       " 'PC-3': [33, 34, 39, 40]}"
      ]
     },
     "execution_count": 149,
     "metadata": {},
     "output_type": "execute_result"
    }
   ],
   "source": [
    "rna_track_groups"
   ]
  },
  {
   "cell_type": "code",
   "execution_count": null,
   "id": "2b416b96-73bb-4d38-9e31-5ad2ee127471",
   "metadata": {},
   "outputs": [],
   "source": []
  }
 ],
 "metadata": {
  "kernelspec": {
   "display_name": "Python 3 (ipykernel)",
   "language": "python",
   "name": "python3"
  },
  "language_info": {
   "codemirror_mode": {
    "name": "ipython",
    "version": 3
   },
   "file_extension": ".py",
   "mimetype": "text/x-python",
   "name": "python",
   "nbconvert_exporter": "python",
   "pygments_lexer": "ipython3",
   "version": "3.9.16"
  }
 },
 "nbformat": 4,
 "nbformat_minor": 5
}
