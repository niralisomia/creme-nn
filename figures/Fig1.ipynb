{
 "cells": [
  {
   "cell_type": "markdown",
   "id": "7930ff53",
   "metadata": {},
   "source": [
    "# Figure 1 a"
   ]
  },
  {
   "cell_type": "code",
   "execution_count": 1,
   "id": "b9e944eb",
   "metadata": {},
   "outputs": [
    {
     "name": "stderr",
     "output_type": "stream",
     "text": [
      "/home/shush/miniconda3/lib/python3.9/site-packages/requests/__init__.py:102: RequestsDependencyWarning: urllib3 (1.26.7) or chardet (5.1.0)/charset_normalizer (2.0.4) doesn't match a supported version!\n",
      "  warnings.warn(\"urllib3 ({}) or chardet ({})/charset_normalizer ({}) doesn't match a supported \"\n"
     ]
    }
   ],
   "source": [
    "%load_ext autoreload\n",
    "%autoreload 2\n",
    "import matplotlib.pyplot as plt\n",
    "import seaborn as sns\n",
    "import sys\n",
    "import pandas as pd\n",
    "import util\n",
    "import classify_tss\n",
    "import glob, os\n",
    "from tqdm import tqdm\n",
    "import re\n",
    "import numpy as np\n",
    "import matplotlib as mpl"
   ]
  },
  {
   "cell_type": "code",
   "execution_count": 9,
   "id": "686319ff",
   "metadata": {},
   "outputs": [],
   "source": [
    "genome_path = '/shared/shush/genomes/hg19.fa'\n",
    "fasta_extractor = util.FastaStringExtractor(genome_path)\n",
    "model_path = 'https://tfhub.dev/deepmind/enformer/1'\n",
    "result_path = '/shared/shush/results/CREME/'\n",
    "tss_df = pd.read_csv(f'{result_path}/TSS.csv')\n",
    "# model = util.Enformer(model_path)\n",
    "track = 5111\n"
   ]
  },
  {
   "cell_type": "code",
   "execution_count": 10,
   "id": "d246c24d",
   "metadata": {},
   "outputs": [],
   "source": [
    "# ordered_list = []\n",
    "# for p in glob.glob('../CRE_analysis/results//tss_background_shuffle_10/*.csv'):\n",
    "#     ordered_list.append(p.split('/')[-1])\n",
    "# filenames = pd.DataFrame(ordered_list)\n",
    "# filenames.to_csv(f'{result_path}/filenames.csv')"
   ]
  },
  {
   "cell_type": "code",
   "execution_count": 26,
   "id": "a8a30741",
   "metadata": {},
   "outputs": [],
   "source": [
    "res_summary_path = 'tss_and_background_shuffle_results.csv'\n",
    "all_res_csvs = glob.glob('/shared/shush/results/CREME/tss_background_shuffle_10/*.csv')\n",
    "\n",
    "if os.path.isfile(res_summary_path):\n",
    "    res_summary = pd.read_csv(res_summary_path)\n",
    "else:\n",
    "    mean_res = []\n",
    "    for i, path in tqdm(enumerate(all_res_csvs)):\n",
    "        res = pd.read_csv(path).mean()\n",
    "\n",
    "        mean_res.append(res)\n",
    "    dinuc_not_tss = [m['dinuc_not_tss'] for m in mean_res]\n",
    "    random_not_tss = [m['random_not_tss'] for m in mean_res]\n",
    "    res_summary_all = pd.DataFrame({'dinuc': dinuc_not_tss, \n",
    "                                'random': random_not_tss\n",
    "                               }\n",
    "                              )\n",
    "    res_summary_all['path'] = [int(a.split('/')[-1].split('.')[0] )for a in all_res_csvs]\n",
    "    res_summary = res_summary_all.merge(tss_df, left_on='path', right_on='Unnamed: 0')\n",
    "    res_summary = res_summary.drop_duplicates(subset=['gene'])\n",
    "    res_summary.to_csv(res_summary_path, index=None)"
   ]
  },
  {
   "cell_type": "code",
   "execution_count": 23,
   "id": "18b8f95d",
   "metadata": {},
   "outputs": [
    {
     "data": {
      "image/png": "[encoded data removed]",
      "text/plain": [
       "<Figure size 504x288 with 1 Axes>"
      ]
     },
     "metadata": {},
     "output_type": "display_data"
    }
   ],
   "source": [
    "sns.set(font_scale = 1.1)\n",
    "sns.set_style(style='white')\n",
    "plt.rcParams['xtick.major.size'] = 9\n",
    "plt.rcParams['xtick.major.width'] = 1\n",
    "\n",
    "plt.rcParams['ytick.major.size'] = 9\n",
    "plt.rcParams['ytick.major.width'] = 1\n",
    "plt.rcParams['xtick.bottom'] = True\n",
    "plt.rcParams['ytick.left'] = True\n",
    "\n",
    "fig = plt.figure(figsize=[7, 4])\n",
    "ax = sns.histplot(data=res_summary, x='dinuc', color='#5A0896')\n",
    "ax.spines['top'].set_visible(False)\n",
    "ax.spines['right'].set_visible(False)\n",
    "plt.xlabel('Normalized TSS effect') # (WT - M) / WT\n",
    "plt.xlim([-2,1.1])\n",
    "plt.xticks([-2, -1, 0, 1])\n",
    "plt.yticks([100, 200, 300])\n",
    "plt.title('Context Dependence Test')\n",
    "fig.savefig('TSS_context_effect_hist.pdf', format='pdf', dpi=300, bbox_inches='tight')\n"
   ]
  },
  {
   "cell_type": "code",
   "execution_count": 24,
   "id": "2fe86abf",
   "metadata": {},
   "outputs": [
    {
     "name": "stderr",
     "output_type": "stream",
     "text": [
      "/tmp/ipykernel_3868141/1301156438.py:12: SettingWithCopyWarning: \n",
      "A value is trying to be set on a copy of a slice from a DataFrame.\n",
      "Try using .loc[row_indexer,col_indexer] = value instead\n",
      "\n",
      "See the caveats in the documentation: https://pandas.pydata.org/pandas-docs/stable/user_guide/indexing.html#returning-a-view-versus-a-copy\n",
      "  df['label'] = f'{label} N={df.shape[0]}'\n",
      "/tmp/ipykernel_3868141/1301156438.py:12: SettingWithCopyWarning: \n",
      "A value is trying to be set on a copy of a slice from a DataFrame.\n",
      "Try using .loc[row_indexer,col_indexer] = value instead\n",
      "\n",
      "See the caveats in the documentation: https://pandas.pydata.org/pandas-docs/stable/user_guide/indexing.html#returning-a-view-versus-a-copy\n",
      "  df['label'] = f'{label} N={df.shape[0]}'\n",
      "/tmp/ipykernel_3868141/1301156438.py:12: SettingWithCopyWarning: \n",
      "A value is trying to be set on a copy of a slice from a DataFrame.\n",
      "Try using .loc[row_indexer,col_indexer] = value instead\n",
      "\n",
      "See the caveats in the documentation: https://pandas.pydata.org/pandas-docs/stable/user_guide/indexing.html#returning-a-view-versus-a-copy\n",
      "  df['label'] = f'{label} N={df.shape[0]}'\n"
     ]
    }
   ],
   "source": [
    "threshold_upper_weak = 0.95\n",
    "threshold_lower = -0.5\n",
    "delta_diff_from_0 = 0.2\n",
    "dfs = [res_summary[(res_summary['dinuc'] > threshold_upper_weak) & (res_summary['random'] > threshold_upper_weak)],\n",
    "         res_summary[(res_summary['dinuc'] < threshold_lower) & (res_summary['random'] < threshold_lower)],\n",
    "         res_summary[\n",
    "             (np.abs(res_summary['dinuc']) < delta_diff_from_0) & (np.abs(res_summary['random']) < delta_diff_from_0)]]\n",
    "\n",
    "labeled = []\n",
    "\n",
    "for label, df in zip(['enhancers', 'repressors', 'neutral'], dfs):\n",
    "    df['label'] = f'{label} N={df.shape[0]}'\n",
    "    labeled.append(df)\n",
    "labeled = pd.concat(labeled)"
   ]
  },
  {
   "cell_type": "code",
   "execution_count": 25,
   "id": "4117187e",
   "metadata": {},
   "outputs": [
    {
     "data": {
      "text/plain": [
       "array(['enhancers N=152', 'repressors N=11', 'neutral N=40'], dtype=object)"
      ]
     },
     "execution_count": 25,
     "metadata": {},
     "output_type": "execute_result"
    }
   ],
   "source": [
    "labeled = labeled[['dinuc', 'label', 'path']].rename(columns={'path': 'TSS_index'})\n",
    "labeled.merge(tss_df, left_on='TSS_index', right_on='Unnamed: 0').to_csv('cre_search_regions.csv')\n",
    "for c, df in labeled.merge(tss_df, left_on='TSS_index', right_on='Unnamed: 0').groupby('label'):\n",
    "    df[['gene']].to_csv(f'{c.split()[0]}.csv')\n",
    "    \n",
    "grouped_res = res_summary.merge(labeled, how='outer')\n",
    "\n",
    "labeled = labeled.rename(columns={'label': 'context'})\n",
    "labeled['context'].unique()"
   ]
  },
  {
   "cell_type": "code",
   "execution_count": 27,
   "id": "69baff13",
   "metadata": {},
   "outputs": [],
   "source": [
    "labeled.to_csv('labelled.csv', index=None)"
   ]
  },
  {
   "cell_type": "code",
   "execution_count": 28,
   "id": "5ed4598a",
   "metadata": {},
   "outputs": [
    {
     "data": {
      "image/png": "[encoded data removed]",
      "text/plain": [
       "<Figure size 216x144 with 1 Axes>"
      ]
     },
     "metadata": {},
     "output_type": "display_data"
    }
   ],
   "source": [
    "# ax = sns.histplot(data=grouped_res, x='dinuc', hue='label', palette=['#F1E5F5', '#09EF1E', '#F60B04', '#0726C0'], alpha=0.5, bins=10)\n",
    "fig = plt.figure(figsize=[3, 2])\n",
    "sns.set(font_scale = 1.)\n",
    "sns.set_style(style='white')\n",
    "plt.rcParams['xtick.major.size'] = 9\n",
    "plt.rcParams['xtick.major.width'] = 1\n",
    "\n",
    "plt.rcParams['ytick.major.size'] = 9\n",
    "plt.rcParams['ytick.major.width'] = 1\n",
    "plt.rcParams['xtick.bottom'] = True\n",
    "plt.rcParams['ytick.left'] = True\n",
    "\n",
    "ax = sns.histplot(data=labeled, x='dinuc', hue='context', palette=['g', 'r', 'b'])\n",
    "\n",
    "\n",
    "ax.spines['top'].set_visible(False)\n",
    "ax.spines['right'].set_visible(False)\n",
    "# plt.legend(frameon=False);\n",
    "legend = ax.get_legend()\n",
    "handles = legend.legendHandles\n",
    "legend.remove()\n",
    "ax.legend(handles, ['enhancing (N=152)','repressing (N=11)',  'neutral (N=40)'], title='Context', frameon=False)\n",
    "\n",
    "\n",
    "plt.xlabel('')\n",
    "plt.ylabel('')\n",
    "\n",
    "plt.title('')\n",
    "plt.ylim(0,100)\n",
    "plt.xlim([-2,1.1])\n",
    "plt.yticks([0,50,100])\n",
    "fig.savefig('TSS_context_effect_inset.pdf', format='pdf', dpi=300, bbox_inches='tight')\n"
   ]
  },
  {
   "cell_type": "markdown",
   "id": "acdc5fbf",
   "metadata": {},
   "source": [
    "# Figure 1 b"
   ]
  },
  {
   "cell_type": "code",
   "execution_count": 20,
   "id": "dbf3b5d4",
   "metadata": {
    "scrolled": true
   },
   "outputs": [
    {
     "name": "stdout",
     "output_type": "stream",
     "text": [
      "strong\n"
     ]
    },
    {
     "data": {
      "image/png": "[encoded data removed]",
      "text/plain": [
       "<Figure size 360x72 with 1 Axes>"
      ]
     },
     "metadata": {},
     "output_type": "display_data"
    },
    {
     "data": {
      "image/png": "[encoded data removed]",
      "text/plain": [
       "<Figure size 108x50.4 with 1 Axes>"
      ]
     },
     "metadata": {},
     "output_type": "display_data"
    },
    {
     "name": "stdout",
     "output_type": "stream",
     "text": [
      "enhancing CRE\n"
     ]
    },
    {
     "data": {
      "image/png": "[encoded data removed]",
      "text/plain": [
       "<Figure size 360x72 with 1 Axes>"
      ]
     },
     "metadata": {},
     "output_type": "display_data"
    },
    {
     "data": {
      "image/png": "[encoded data removed]",
      "text/plain": [
       "<Figure size 108x50.4 with 1 Axes>"
      ]
     },
     "metadata": {},
     "output_type": "display_data"
    },
    {
     "name": "stdout",
     "output_type": "stream",
     "text": [
      "repressing CRE\n"
     ]
    },
    {
     "data": {
      "image/png": "[encoded data removed]",
      "text/plain": [
       "<Figure size 360x72 with 1 Axes>"
      ]
     },
     "metadata": {},
     "output_type": "display_data"
    },
    {
     "data": {
      "image/png": "[encoded data removed]",
      "text/plain": [
       "<Figure size 108x50.4 with 1 Axes>"
      ]
     },
     "metadata": {},
     "output_type": "display_data"
    }
   ],
   "source": [
    "\n",
    "padding = 196608\n",
    "tile_size = 5000\n",
    "half_window_around_tss = tile_size // 2\n",
    "\n",
    "strong_tss_case = np.argwhere((abs(res_summary.iloc[:,0]) < 0.1))[1][0]\n",
    "pos_CRE_case = np.argwhere((res_summary.iloc[:,0] > 0.99))[0][0]\n",
    "neg_CRE_case = np.argwhere((res_summary.iloc[:,0] < -1))[0][0]\n",
    "\n",
    "special_points = {\n",
    "                 'strong': ('blue', strong_tss_case),\n",
    "                 'enhancing CRE': ('green', pos_CRE_case),\n",
    "                 'repressing CRE': ('red', neg_CRE_case),\n",
    "}\n",
    "\n",
    "\n",
    "for k, (color, edge_case_index) in special_points.items():\n",
    "    name = str(k)\n",
    "    print(k)\n",
    "    edge_case_index = res_summary['path'][edge_case_index]\n",
    "    seq = util.get_seq(edge_case_index, tss_df, fasta_extractor)\n",
    "    seq_center = seq.shape[0] // 2\n",
    "    input_seq_end = seq.shape[0] - padding//2\n",
    "    input_seq_start = padding // 2\n",
    "    left_tss_border = seq_center - half_window_around_tss\n",
    "    right_tss_border = seq_center + half_window_around_tss\n",
    "    wt_pred = model.predict_on_batch(seq[np.newaxis])['human'][0, :, track]\n",
    "    all_except_tss_shuffled_seq = classify_tss.shuffle_seq_mixing_regions(seq, [[input_seq_start, left_tss_border], [right_tss_border, input_seq_end]], 'dinuc')\n",
    "    preds = [util.predict(model, all_except_tss_shuffled_seq) for _ in range(5)]\n",
    "    for zoom in [None, [425, 475]]:\n",
    "        if zoom:\n",
    "            fig = plt.figure(figsize=[1.5, .7])\n",
    "            name = name + '_zoom'\n",
    "        else:\n",
    "            fig = plt.figure(figsize=[5, 1])\n",
    "            \n",
    "        sns.set(font_scale = .8)\n",
    "\n",
    "        sns.set_style(style='white')\n",
    "        plt.rcParams['xtick.major.size'] = 5\n",
    "        plt.rcParams['xtick.major.width'] = 1\n",
    "\n",
    "        plt.rcParams['ytick.major.size'] = 5\n",
    "        plt.rcParams['ytick.major.width'] = 1\n",
    "        plt.rcParams['xtick.bottom'] = True\n",
    "        plt.rcParams['ytick.left'] = True\n",
    "\n",
    "        plt.plot(wt_pred, 'k', alpha=0.8)\n",
    "        plt.plot(np.concatenate(preds).mean(axis=0), color=color, alpha=0.85)\n",
    "        plt.xlim(0, 900)\n",
    "        \n",
    "        if zoom is None:\n",
    "            if k == 'strong':\n",
    "                plt.ylabel('TSS activity')\n",
    "            if k == 'repressing CRE':\n",
    "                plt.xlabel('Binned positions (128 nt)')\n",
    "                \n",
    "        if zoom:\n",
    "            sns.set(font_scale = .8)\n",
    "            plt.xticks([])\n",
    "            plt.yticks([])\n",
    "            plt.xlim(435, 461)\n",
    "        plt.gca().spines['top'].set_visible(False)\n",
    "        plt.gca().spines['right'].set_visible(False)\n",
    "        plt.show()\n",
    "        \n",
    "        fig.savefig(name+'.pdf', format='pdf', dpi=300, bbox_inches='tight')\n"
   ]
  },
  {
   "cell_type": "markdown",
   "id": "774ac0a6",
   "metadata": {},
   "source": [
    "# Figure 1 c"
   ]
  },
  {
   "cell_type": "code",
   "execution_count": 29,
   "id": "4a052adb",
   "metadata": {},
   "outputs": [
    {
     "data": {
      "text/plain": [
       "(203, 3)"
      ]
     },
     "execution_count": 29,
     "metadata": {},
     "output_type": "execute_result"
    }
   ],
   "source": [
    "labeled.shape"
   ]
  },
  {
   "cell_type": "code",
   "execution_count": 30,
   "id": "67399625",
   "metadata": {},
   "outputs": [
    {
     "data": {
      "text/plain": [
       "(203,)"
      ]
     },
     "execution_count": 30,
     "metadata": {},
     "output_type": "execute_result"
    }
   ],
   "source": [
    "unique_ids = labeled['TSS_index'].values\n",
    "unique_ids.shape"
   ]
  },
  {
   "cell_type": "code",
   "execution_count": 48,
   "id": "166dd1b1",
   "metadata": {},
   "outputs": [],
   "source": [
    "res_path = f'{result_path}/GIA_full/'\n",
    "test_result_path = f'{res_path}/every_TSS_everywhere.csv'\n",
    "if not os.path.isfile(test_result_path):\n",
    "    compiled_results = pd.concat([pd.read_csv(f).iloc[:,1:] for f in filtered_csvs])\n",
    "    compiled_results.reset_index().to_csv(test_result_path, index=None)\n",
    "else:\n",
    "    compiled_results = pd.read_csv(test_result_path).reset_index()"
   ]
  },
  {
   "cell_type": "code",
   "execution_count": 49,
   "id": "9f9bff8a",
   "metadata": {},
   "outputs": [
    {
     "data": {
      "text/plain": [
       "(453299, 6)"
      ]
     },
     "execution_count": 49,
     "metadata": {},
     "output_type": "execute_result"
    }
   ],
   "source": [
    "compiled_results.shape"
   ]
  },
  {
   "cell_type": "code",
   "execution_count": 50,
   "id": "2abba028",
   "metadata": {},
   "outputs": [],
   "source": [
    "compiled_results['background_id'] = [b.split('/')[-1].split('.')[0].split('_')[-1] for b in compiled_results['backgrounds_seq_path']]"
   ]
  },
  {
   "cell_type": "code",
   "execution_count": 51,
   "id": "305e14ca",
   "metadata": {},
   "outputs": [],
   "source": [
    "# mask = []\n",
    "# for _, row in tqdm(compiled_results.iterrows()):\n",
    "#     if int(row['background_id']) in unique_ids and int(row['insert_ids'].split('_')[-1]) in unique_ids:\n",
    "#         mask.append(True)\n",
    "#     else:\n",
    "#         mask.append(False)\n",
    "        \n",
    "# compiled_results = compiled_results[mask]\n"
   ]
  },
  {
   "cell_type": "code",
   "execution_count": 52,
   "id": "f43eb381",
   "metadata": {},
   "outputs": [
    {
     "data": {
      "text/plain": [
       "(453299, 7)"
      ]
     },
     "execution_count": 52,
     "metadata": {},
     "output_type": "execute_result"
    }
   ],
   "source": [
    "mask = [True if 'rshuffle' not in c else False for c in compiled_results['background_shuffle_mode']]\n",
    "compiled_results = compiled_results[mask]\n",
    "compiled_results.shape"
   ]
  },
  {
   "cell_type": "code",
   "execution_count": 53,
   "id": "a16960e9",
   "metadata": {},
   "outputs": [
    {
     "data": {
      "text/plain": [
       "1.5684919357299805"
      ]
     },
     "execution_count": 53,
     "metadata": {},
     "output_type": "execute_result"
    }
   ],
   "source": [
    "neg_control = pd.read_csv(f'{res_path}/just_background.csv')\n",
    "neg_control[neg_control['background_shuffle_mode']=='complete_dishuffles']['TSS_signal'].max()"
   ]
  },
  {
   "cell_type": "code",
   "execution_count": 54,
   "id": "07da814b",
   "metadata": {},
   "outputs": [],
   "source": [
    "positive_control = pd.read_csv(f'{res_path}/TSS_reinsert_into_same_seq.csv')\n",
    "\n",
    "\n",
    "mask = [True if 'rshuffle' not in c else False for c in positive_control['background_shuffle_mode']]\n",
    "\n",
    "positive_control = positive_control[mask]"
   ]
  },
  {
   "cell_type": "code",
   "execution_count": null,
   "id": "a018a9b6",
   "metadata": {},
   "outputs": [],
   "source": []
  },
  {
   "cell_type": "code",
   "execution_count": 55,
   "id": "b88f6cae",
   "metadata": {},
   "outputs": [],
   "source": [
    "res = {}\n",
    "shuffle_converter = {'no_tss_dishuffles': 'dinuc',\n",
    "                      'original': 'original'}\n",
    "labels = ['positive_control', 'test']\n",
    "for d, df in enumerate([positive_control, compiled_results]):\n",
    "    if 'Unnamed: 0' in df.columns:\n",
    "        df = df.drop(columns=['Unnamed: 0'])\n",
    "\n",
    "    df['background_id'] = [b.split('/')[-1].split('.')[0] for b in df['backgrounds_seq_path']]\n",
    "    df = df.drop(columns=['backgrounds_seq_path'])\n",
    "\n",
    "    mean_df = df.groupby(['background_shuffle_mode', 'insert_ids', 'background_id']).mean().reset_index()\n",
    "    mean_df['background_shuffle_mode'] = [shuffle_converter[m] for m in mean_df['background_shuffle_mode'].values]\n",
    "    res[labels[d]] = mean_df\n",
    "    "
   ]
  },
  {
   "cell_type": "code",
   "execution_count": 56,
   "id": "bc56e9eb",
   "metadata": {},
   "outputs": [
    {
     "name": "stderr",
     "output_type": "stream",
     "text": [
      "708it [00:00, 16141.06it/s]\n"
     ]
    }
   ],
   "source": [
    "\n",
    "\n",
    "mask = []\n",
    "for _, row in tqdm(res['positive_control'].iterrows()):\n",
    "    if int(row['background_id'].split('_')[-1]) in unique_ids and int(row['insert_ids'].split('_')[-1]) in unique_ids:\n",
    "        mask.append(True)\n",
    "    else:\n",
    "        mask.append(False)\n",
    "        \n",
    "res['positive_control'] = res['positive_control'][mask]"
   ]
  },
  {
   "cell_type": "code",
   "execution_count": 57,
   "id": "ba79fd29",
   "metadata": {},
   "outputs": [],
   "source": [
    "df_control = res['positive_control']\n",
    "df_control = df_control[df_control['background_shuffle_mode']=='original']"
   ]
  },
  {
   "cell_type": "code",
   "execution_count": 58,
   "id": "fedc7850",
   "metadata": {},
   "outputs": [],
   "source": [
    "N = labeled.shape[0]\n",
    "assert res['test'].shape[0] == N * N * 2 # n backgrounds * n TSSs *  n shuffle types\n",
    "assert df_control.shape[0] == N * 1 * 1 # n backgrounds * n shuffle types * n TSSs\n"
   ]
  },
  {
   "cell_type": "code",
   "execution_count": 59,
   "id": "624866d1",
   "metadata": {},
   "outputs": [
    {
     "name": "stdout",
     "output_type": "stream",
     "text": [
      "original\n",
      "dinuc\n"
     ]
    },
    {
     "name": "stderr",
     "output_type": "stream",
     "text": [
      "/tmp/ipykernel_3868141/272229269.py:6: SettingWithCopyWarning: \n",
      "A value is trying to be set on a copy of a slice from a DataFrame.\n",
      "Try using .loc[row_indexer,col_indexer] = value instead\n",
      "\n",
      "See the caveats in the documentation: https://pandas.pydata.org/pandas-docs/stable/user_guide/indexing.html#returning-a-view-versus-a-copy\n",
      "  df['background class'] = [b.split('_')[0] for b in df['background_id']]\n",
      "/tmp/ipykernel_3868141/272229269.py:7: SettingWithCopyWarning: \n",
      "A value is trying to be set on a copy of a slice from a DataFrame.\n",
      "Try using .loc[row_indexer,col_indexer] = value instead\n",
      "\n",
      "See the caveats in the documentation: https://pandas.pydata.org/pandas-docs/stable/user_guide/indexing.html#returning-a-view-versus-a-copy\n",
      "  df['tss class'] = [b.split('_')[1] for b in df['insert_ids']]\n",
      "/tmp/ipykernel_3868141/272229269.py:10: SettingWithCopyWarning: \n",
      "A value is trying to be set on a copy of a slice from a DataFrame.\n",
      "Try using .loc[row_indexer,col_indexer] = value instead\n",
      "\n",
      "See the caveats in the documentation: https://pandas.pydata.org/pandas-docs/stable/user_guide/indexing.html#returning-a-view-versus-a-copy\n",
      "  df_control['control class'] = [b.split('_')[0] for b in df_control['background_id']]\n",
      "/tmp/ipykernel_3868141/272229269.py:6: SettingWithCopyWarning: \n",
      "A value is trying to be set on a copy of a slice from a DataFrame.\n",
      "Try using .loc[row_indexer,col_indexer] = value instead\n",
      "\n",
      "See the caveats in the documentation: https://pandas.pydata.org/pandas-docs/stable/user_guide/indexing.html#returning-a-view-versus-a-copy\n",
      "  df['background class'] = [b.split('_')[0] for b in df['background_id']]\n",
      "/tmp/ipykernel_3868141/272229269.py:7: SettingWithCopyWarning: \n",
      "A value is trying to be set on a copy of a slice from a DataFrame.\n",
      "Try using .loc[row_indexer,col_indexer] = value instead\n",
      "\n",
      "See the caveats in the documentation: https://pandas.pydata.org/pandas-docs/stable/user_guide/indexing.html#returning-a-view-versus-a-copy\n",
      "  df['tss class'] = [b.split('_')[1] for b in df['insert_ids']]\n",
      "/tmp/ipykernel_3868141/272229269.py:10: SettingWithCopyWarning: \n",
      "A value is trying to be set on a copy of a slice from a DataFrame.\n",
      "Try using .loc[row_indexer,col_indexer] = value instead\n",
      "\n",
      "See the caveats in the documentation: https://pandas.pydata.org/pandas-docs/stable/user_guide/indexing.html#returning-a-view-versus-a-copy\n",
      "  df_control['control class'] = [b.split('_')[0] for b in df_control['background_id']]\n"
     ]
    }
   ],
   "source": [
    "merged_dfs = []\n",
    "for shuffle_mode in ['original', 'dinuc']: # original or dinuc\n",
    "    print(shuffle_mode)\n",
    "    df = res['test']\n",
    "    df = df[df['background_shuffle_mode']==shuffle_mode]\n",
    "    df['background class'] = [b.split('_')[0] for b in df['background_id']]\n",
    "    df['tss class'] = [b.split('_')[1] for b in df['insert_ids']]\n",
    "    # filter positive control rows for shuffle mode \n",
    "\n",
    "    df_control['control class'] = [b.split('_')[0] for b in df_control['background_id']]\n",
    "    merged_df = df.merge(df_control, on='insert_ids', suffixes=[' test', ' control'])\n",
    "#     merged_df = merged_df[['tss class', 'background class', 'TSS signal test', 'TSS signal control']]\n",
    "    merged_df['fold change over control'] = merged_df['TSS signal test'] / merged_df['TSS signal control']\n",
    "    merged_df = merged_df[(merged_df['background class']!='dinuc') & (merged_df['tss class']!='dinuc')]\n",
    "    merged_df['shuffle mode'] = shuffle_mode\n",
    "    merged_dfs.append(merged_df)\n",
    "    \n",
    "merged_dfs = pd.concat(merged_dfs)\n",
    "    "
   ]
  },
  {
   "cell_type": "code",
   "execution_count": 60,
   "id": "55871325",
   "metadata": {},
   "outputs": [
    {
     "data": {
      "text/html": [
       "<div>\n",
       "<style scoped>\n",
       "    .dataframe tbody tr th:only-of-type {\n",
       "        vertical-align: middle;\n",
       "    }\n",
       "\n",
       "    .dataframe tbody tr th {\n",
       "        vertical-align: top;\n",
       "    }\n",
       "\n",
       "    .dataframe thead th {\n",
       "        text-align: right;\n",
       "    }\n",
       "</style>\n",
       "<table border=\"1\" class=\"dataframe\">\n",
       "  <thead>\n",
       "    <tr style=\"text-align: right;\">\n",
       "      <th></th>\n",
       "      <th>background_shuffle_mode test</th>\n",
       "      <th>insert_ids</th>\n",
       "      <th>background_id test</th>\n",
       "      <th>level_0</th>\n",
       "      <th>index</th>\n",
       "      <th>TSS signal test</th>\n",
       "      <th>background class</th>\n",
       "      <th>tss class</th>\n",
       "      <th>background_shuffle_mode control</th>\n",
       "      <th>background_id control</th>\n",
       "      <th>TSS signal control</th>\n",
       "      <th>control class</th>\n",
       "      <th>fold change over control</th>\n",
       "      <th>shuffle mode</th>\n",
       "    </tr>\n",
       "  </thead>\n",
       "  <tbody>\n",
       "    <tr>\n",
       "      <th>0</th>\n",
       "      <td>original</td>\n",
       "      <td>194108_enhancing_101192</td>\n",
       "      <td>enhancing_101192</td>\n",
       "      <td>274118.0</td>\n",
       "      <td>0.0</td>\n",
       "      <td>175.74559</td>\n",
       "      <td>enhancing</td>\n",
       "      <td>enhancing</td>\n",
       "      <td>original</td>\n",
       "      <td>enhancing_101192</td>\n",
       "      <td>175.74559</td>\n",
       "      <td>enhancing</td>\n",
       "      <td>1.000000</td>\n",
       "      <td>original</td>\n",
       "    </tr>\n",
       "    <tr>\n",
       "      <th>1</th>\n",
       "      <td>original</td>\n",
       "      <td>194108_enhancing_101192</td>\n",
       "      <td>enhancing_101276</td>\n",
       "      <td>314589.0</td>\n",
       "      <td>0.0</td>\n",
       "      <td>196.42766</td>\n",
       "      <td>enhancing</td>\n",
       "      <td>enhancing</td>\n",
       "      <td>original</td>\n",
       "      <td>enhancing_101192</td>\n",
       "      <td>175.74559</td>\n",
       "      <td>enhancing</td>\n",
       "      <td>1.117682</td>\n",
       "      <td>original</td>\n",
       "    </tr>\n",
       "  </tbody>\n",
       "</table>\n",
       "</div>"
      ],
      "text/plain": [
       "  background_shuffle_mode test               insert_ids background_id test   \n",
       "0                     original  194108_enhancing_101192   enhancing_101192  \\\n",
       "1                     original  194108_enhancing_101192   enhancing_101276   \n",
       "\n",
       "    level_0  index  TSS signal test background class  tss class   \n",
       "0  274118.0    0.0        175.74559        enhancing  enhancing  \\\n",
       "1  314589.0    0.0        196.42766        enhancing  enhancing   \n",
       "\n",
       "  background_shuffle_mode control background_id control  TSS signal control   \n",
       "0                        original      enhancing_101192           175.74559  \\\n",
       "1                        original      enhancing_101192           175.74559   \n",
       "\n",
       "  control class  fold change over control shuffle mode  \n",
       "0     enhancing                  1.000000     original  \n",
       "1     enhancing                  1.117682     original  "
      ]
     },
     "execution_count": 60,
     "metadata": {},
     "output_type": "execute_result"
    }
   ],
   "source": [
    "merged_dfs.head(2)"
   ]
  },
  {
   "cell_type": "code",
   "execution_count": 61,
   "id": "194e271b",
   "metadata": {},
   "outputs": [],
   "source": [
    "\n",
    "mpl.rcParams.update(mpl.rcParamsDefault)"
   ]
  },
  {
   "cell_type": "code",
   "execution_count": 62,
   "id": "d8b34f40",
   "metadata": {},
   "outputs": [
    {
     "name": "stdout",
     "output_type": "stream",
     "text": [
      "background class\n",
      "enhancing     23104\n",
      "neutral        6080\n",
      "repressing     1672\n",
      "Name: insert_ids, dtype: int64\n",
      "background class\n",
      "enhancing     6080\n",
      "neutral       1600\n",
      "repressing     440\n",
      "Name: insert_ids, dtype: int64\n",
      "background class\n",
      "enhancing     1672\n",
      "neutral        440\n",
      "repressing     121\n",
      "Name: insert_ids, dtype: int64\n"
     ]
    },
    {
     "data": {
      "image/png": "[encoded data removed]",
      "text/plain": [
       "<Figure size 1000x250 with 3 Axes>"
      ]
     },
     "metadata": {},
     "output_type": "display_data"
    },
    {
     "name": "stdout",
     "output_type": "stream",
     "text": [
      "background class\n",
      "enhancing     23104\n",
      "neutral        6080\n",
      "repressing     1672\n",
      "Name: insert_ids, dtype: int64\n",
      "background class\n",
      "enhancing     6080\n",
      "neutral       1600\n",
      "repressing     440\n",
      "Name: insert_ids, dtype: int64\n",
      "background class\n",
      "enhancing     1672\n",
      "neutral        440\n",
      "repressing     121\n",
      "Name: insert_ids, dtype: int64\n"
     ]
    },
    {
     "data": {
      "image/png": "[encoded data removed]",
      "text/plain": [
       "<Figure size 1000x250 with 3 Axes>"
      ]
     },
     "metadata": {},
     "output_type": "display_data"
    },
    {
     "data": {
      "text/plain": [
       "<Figure size 640x480 with 0 Axes>"
      ]
     },
     "metadata": {},
     "output_type": "display_data"
    }
   ],
   "source": [
    "donor_name = {'enhancing': 'enhanced', 'neutral': 'neutral', 'repressing': 'repressed'}\n",
    "ylims = [2, 1.5, 7.5]\n",
    "sns.set(font_scale = .9)\n",
    "sns.set_style(style='white')\n",
    "plt.rcParams['xtick.major.size'] = 5\n",
    "plt.rcParams['xtick.major.width'] = 1\n",
    "\n",
    "plt.rcParams['ytick.major.size'] = 5\n",
    "plt.rcParams['ytick.major.width'] = 1\n",
    "plt.rcParams['xtick.bottom'] = True\n",
    "plt.rcParams['ytick.left'] = True\n",
    "\n",
    "for shuffle_mode in ['original', 'dinuc']:\n",
    "    df_per_shuffle = merged_dfs[merged_dfs['shuffle mode']==shuffle_mode]\n",
    "    fig, axes = plt.subplots(1, 3, sharey=False, figsize=[10, 2.5])\n",
    "    \n",
    "    for i, (donor, df) in enumerate(df_per_shuffle.groupby('tss class')):\n",
    "        ax = axes[i]\n",
    "#         df['background class'] = [acceptor_name[d] + ' TSS' for d in df['background class']] \n",
    "        elements = ['enhancing', 'neutral', 'repressing']\n",
    "        pvals, pairs = util.get_pvals(elements, df, 'background class', 'fold change over control', 'ks_2samp')\n",
    "        sns.boxplot(data=df, x='background class', y='fold change over control', \n",
    "                    showfliers=False,  \n",
    "                    palette=['g', 'b', 'r'], ax=ax)\n",
    "#         ax.set_xlabel('')\n",
    "        print(df.groupby('background class').count()['insert_ids'])\n",
    "        if i == 0:\n",
    "            ax.set_ylabel('Fold change over control', fontsize=10)\n",
    "        else:\n",
    "            ax.set_ylabel('')\n",
    "#         ax.set_ylim(-1, 5)\n",
    "        \n",
    "    \n",
    "        \n",
    "        x1, x2 = ax.get_xlim()\n",
    "        ax.set_ylim(0, ylims[i])\n",
    "        \n",
    "        ax.hlines(1, x1, x2, color='r', linestyles='--')\n",
    "        ax.set_title(donor_name[donor]+' TSS', fontsize=10)\n",
    "        ax.spines['top'].set_visible(False)\n",
    "        ax.spines['right'].set_visible(False)\n",
    "        ax.set_xlabel('Context', fontsize=10)\n",
    "        \n",
    "    plt.show()\n",
    "    fig.savefig(shuffle_mode+'.pdf', format='pdf', dpi=300, bbox_inches='tight')\n",
    "    \n",
    "plt.tight_layout()"
   ]
  },
  {
   "cell_type": "code",
   "execution_count": 47,
   "id": "9315758f",
   "metadata": {},
   "outputs": [
    {
     "data": {
      "text/html": [
       "<div>\n",
       "<style scoped>\n",
       "    .dataframe tbody tr th:only-of-type {\n",
       "        vertical-align: middle;\n",
       "    }\n",
       "\n",
       "    .dataframe tbody tr th {\n",
       "        vertical-align: top;\n",
       "    }\n",
       "\n",
       "    .dataframe thead th {\n",
       "        text-align: right;\n",
       "    }\n",
       "</style>\n",
       "<table border=\"1\" class=\"dataframe\">\n",
       "  <thead>\n",
       "    <tr style=\"text-align: right;\">\n",
       "      <th></th>\n",
       "      <th>background_shuffle_mode test</th>\n",
       "      <th>insert_ids</th>\n",
       "      <th>background_id test</th>\n",
       "      <th>level_0</th>\n",
       "      <th>index</th>\n",
       "      <th>TSS signal test</th>\n",
       "      <th>tss class</th>\n",
       "      <th>background_shuffle_mode control</th>\n",
       "      <th>background_id control</th>\n",
       "      <th>TSS signal control</th>\n",
       "      <th>control class</th>\n",
       "      <th>fold change over control</th>\n",
       "      <th>shuffle mode</th>\n",
       "    </tr>\n",
       "    <tr>\n",
       "      <th>background class</th>\n",
       "      <th></th>\n",
       "      <th></th>\n",
       "      <th></th>\n",
       "      <th></th>\n",
       "      <th></th>\n",
       "      <th></th>\n",
       "      <th></th>\n",
       "      <th></th>\n",
       "      <th></th>\n",
       "      <th></th>\n",
       "      <th></th>\n",
       "      <th></th>\n",
       "      <th></th>\n",
       "    </tr>\n",
       "  </thead>\n",
       "  <tbody>\n",
       "    <tr>\n",
       "      <th>enhancing</th>\n",
       "      <td>1672</td>\n",
       "      <td>1672</td>\n",
       "      <td>1672</td>\n",
       "      <td>1672</td>\n",
       "      <td>1672</td>\n",
       "      <td>1672</td>\n",
       "      <td>1672</td>\n",
       "      <td>1672</td>\n",
       "      <td>1672</td>\n",
       "      <td>1672</td>\n",
       "      <td>1672</td>\n",
       "      <td>1672</td>\n",
       "      <td>1672</td>\n",
       "    </tr>\n",
       "    <tr>\n",
       "      <th>neutral</th>\n",
       "      <td>440</td>\n",
       "      <td>440</td>\n",
       "      <td>440</td>\n",
       "      <td>440</td>\n",
       "      <td>440</td>\n",
       "      <td>440</td>\n",
       "      <td>440</td>\n",
       "      <td>440</td>\n",
       "      <td>440</td>\n",
       "      <td>440</td>\n",
       "      <td>440</td>\n",
       "      <td>440</td>\n",
       "      <td>440</td>\n",
       "    </tr>\n",
       "    <tr>\n",
       "      <th>repressing</th>\n",
       "      <td>121</td>\n",
       "      <td>121</td>\n",
       "      <td>121</td>\n",
       "      <td>121</td>\n",
       "      <td>121</td>\n",
       "      <td>121</td>\n",
       "      <td>121</td>\n",
       "      <td>121</td>\n",
       "      <td>121</td>\n",
       "      <td>121</td>\n",
       "      <td>121</td>\n",
       "      <td>121</td>\n",
       "      <td>121</td>\n",
       "    </tr>\n",
       "  </tbody>\n",
       "</table>\n",
       "</div>"
      ],
      "text/plain": [
       "                  background_shuffle_mode test  insert_ids   \n",
       "background class                                             \n",
       "enhancing                                 1672        1672  \\\n",
       "neutral                                    440         440   \n",
       "repressing                                 121         121   \n",
       "\n",
       "                  background_id test  level_0  index  TSS signal test   \n",
       "background class                                                        \n",
       "enhancing                       1672     1672   1672             1672  \\\n",
       "neutral                          440      440    440              440   \n",
       "repressing                       121      121    121              121   \n",
       "\n",
       "                  tss class  background_shuffle_mode control   \n",
       "background class                                               \n",
       "enhancing              1672                             1672  \\\n",
       "neutral                 440                              440   \n",
       "repressing              121                              121   \n",
       "\n",
       "                  background_id control  TSS signal control  control class   \n",
       "background class                                                             \n",
       "enhancing                          1672                1672           1672  \\\n",
       "neutral                             440                 440            440   \n",
       "repressing                          121                 121            121   \n",
       "\n",
       "                  fold change over control  shuffle mode  \n",
       "background class                                          \n",
       "enhancing                             1672          1672  \n",
       "neutral                                440           440  \n",
       "repressing                             121           121  "
      ]
     },
     "execution_count": 47,
     "metadata": {},
     "output_type": "execute_result"
    }
   ],
   "source": [
    "df.groupby('background class').count()"
   ]
  },
  {
   "cell_type": "code",
   "execution_count": null,
   "id": "8ae03725",
   "metadata": {},
   "outputs": [],
   "source": []
  }
 ],
 "metadata": {
  "kernelspec": {
   "display_name": "Python 3 (ipykernel)",
   "language": "python",
   "name": "python3"
  },
  "language_info": {
   "codemirror_mode": {
    "name": "ipython",
    "version": 3
   },
   "file_extension": ".py",
   "mimetype": "text/x-python",
   "name": "python",
   "nbconvert_exporter": "python",
   "pygments_lexer": "ipython3",
   "version": "3.9.16"
  }
 },
 "nbformat": 4,
 "nbformat_minor": 5
}
