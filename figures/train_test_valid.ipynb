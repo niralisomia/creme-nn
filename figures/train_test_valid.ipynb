{
 "cells": [
  {
   "cell_type": "code",
   "execution_count": 2,
   "id": "daf026d4-df88-4728-a30b-d541d6d0bff0",
   "metadata": {},
   "outputs": [
    {
     "name": "stderr",
     "output_type": "stream",
     "text": [
      "2023-12-30 08:13:06.025017: I tensorflow/core/platform/cpu_feature_guard.cc:193] This TensorFlow binary is optimized with oneAPI Deep Neural Network Library (oneDNN) to use the following CPU instructions in performance-critical operations:  SSE4.1 SSE4.2 AVX AVX2 FMA\n",
      "To enable them in other operations, rebuild TensorFlow with the appropriate compiler flags.\n"
     ]
    }
   ],
   "source": [
    "%load_ext autoreload\n",
    "%autoreload 2\n",
    "import pandas as pd\n",
    "import numpy as np\n",
    "import sys\n",
    "sys.path.append('../creme/')\n",
    "import custom_model\n",
    "import creme\n",
    "import utils\n",
    "import glob\n",
    "from tqdm import tqdm\n",
    "import matplotlib.pyplot as plt\n",
    "import seaborn as sns\n",
    "import pyranges as pr\n",
    "import shutil\n",
    "import pickle, os, subprocess\n",
    "from itertools import combinations\n",
    "import scipy\n",
    "from sklearn.metrics import mean_squared_error"
   ]
  },
  {
   "cell_type": "code",
   "execution_count": 34,
   "id": "4014767d-a43b-4664-8588-b38d70effec2",
   "metadata": {},
   "outputs": [],
   "source": [
    "sequences = pd.read_csv('../data/enformer_sequences.bed', header=None, sep='\\t')\n",
    "bin_index = [447, 448]\n",
    "model_name = 'enformer'\n",
    "seq_length = 196608\n",
    "outdir = utils.make_dir('../results/train_test_valid/')"
   ]
  },
  {
   "cell_type": "code",
   "execution_count": 4,
   "id": "16335341-79e5-4f07-a8cf-9545237cc3fa",
   "metadata": {},
   "outputs": [],
   "source": [
    "# Trivial but horrible\n",
    "for fold in sequences[3].unique():\n",
    "\n",
    "    cmd = f'less ../data/enformer_sequences.bed | grep {fold}  > tmp.bed;'\n",
    "    cmd += f'bedtools sort -i tmp.bed > tmp_s.bed;'\n",
    "    cmd += f'bedtools merge -i tmp_s.bed > {outdir}/enformer_{fold}_sequences_merged.bed; rm tmp.bed tmp_s.bed'\n",
    "    \n",
    "    results = subprocess.run(\n",
    "        cmd, shell=True)\n"
   ]
  },
  {
   "cell_type": "code",
   "execution_count": 30,
   "id": "82d6d8b4-9f1a-4a52-befd-a6f2b16d9f1a",
   "metadata": {},
   "outputs": [],
   "source": [
    "paths = glob.glob(f'../results/context_dependence_test_100/{model_name}/*pickle')\n"
   ]
  },
  {
   "cell_type": "code",
   "execution_count": 31,
   "id": "08697941-37df-45b2-a0cb-d4e05c04dccc",
   "metadata": {},
   "outputs": [],
   "source": [
    "for path in paths:\n",
    "    res = utils.read_pickle(path)\n",
    "    res['mut'][bin_index]"
   ]
  },
  {
   "cell_type": "code",
   "execution_count": 33,
   "id": "55fdde8b-4d06-456b-afb2-0412a639bae1",
   "metadata": {},
   "outputs": [
    {
     "data": {
      "text/plain": [
       "(896, 3)"
      ]
     },
     "execution_count": 33,
     "metadata": {},
     "output_type": "execute_result"
    }
   ],
   "source": [
    "res['mut'][]"
   ]
  },
  {
   "cell_type": "code",
   "execution_count": null,
   "id": "f01ae9e6-c257-4d25-8f0c-957ce919e60f",
   "metadata": {},
   "outputs": [],
   "source": [
    "classified_seq_cell = {}\n",
    "for cell, cell_context_test_results in context_test_results.groupby('cell_line'):\n",
    "    print(cell)\n",
    "    ### expand selected TSS sequences to enformer sequence length and save into => ../results/{cell}_tss_selected.bed\n",
    "    sequences_with_tss = []\n",
    "    for file_prefix in tqdm([p.split('/')[-1].split('.')[0] for p in cell_context_test_results['path']]):\n",
    "        chrom_i, tss_i = file_prefix.split('_')[1:3]\n",
    "        start_i, end_i = int(tss_i) - seq_length//2, int(tss_i) + seq_length//2\n",
    "        if start_i >= 0:\n",
    "            sequences_with_tss.append([chrom_i, start_i, end_i])\n",
    "    print(len(sequences_with_tss))\n",
    "    pd.DataFrame(sequences_with_tss).to_csv('tmp.bed', sep='\\t', header=None, index=None)\n",
    "    \n",
    "    cmd = f'bedtools sort -i tmp.bed > {outdir}/{cell}_tss_selected.bed; rm tmp.bed'\n",
    "    r = subprocess.run(cmd, shell=True)\n",
    "    print(r)\n",
    "    fold_seq_dfs = []\n",
    "    for fold in sequences[3].unique():\n",
    "        fold_seqs = []\n",
    "        cell_fold_bed = f'../results/{cell}_{fold}.bed'\n",
    "        cmd = f'bedtools intersect -a {outdir}/{cell}_tss_selected.bed -b {outdir}/enformer_{fold}_sequences_merged.bed  -wa -f 1.0 > {cell_fold_bed}'\n",
    "    \n",
    "        subprocess.run(\n",
    "            cmd, shell=True)\n",
    "        df = pd.read_csv(cell_fold_bed, header=None, sep='\\t')\n",
    "        for i, row in df.iterrows():\n",
    "            paths = glob.glob(f'../results/context_dependence_test_100/{model_name}/*{row[0]}_{row[1]+seq_length//2}*')\n",
    "            assert len(paths) > 0, 'File not found'\n",
    "            fold_seqs.append(paths[0])\n",
    "        fold_seqs = pd.DataFrame(fold_seqs)\n",
    "        fold_seqs.columns=['path']\n",
    "        fold_seqs['fold'] = fold\n",
    "        fold_seq_dfs.append(fold_seqs)\n",
    "    fold_seq_dfs = pd.concat(fold_seq_dfs)\n",
    "    cell_context_test_results['seq_id'] = [p.split('/')[-1] for p in cell_context_test_results['path']]\n",
    "    fold_seq_dfs['seq_id'] = [p.split('/')[-1] for p in fold_seq_dfs['path']]\n",
    "    classified_seqs = cell_context_test_results.merge(fold_seq_dfs, on='seq_id')\n",
    "\n",
    "    classified_seq_cell[cell] = classified_seqs"
   ]
  },
  {
   "cell_type": "code",
   "execution_count": 5,
   "id": "b9d09eb6-860c-456f-8677-927e90edc90f",
   "metadata": {},
   "outputs": [],
   "source": [
    "context_test_results = pd.read_csv('../results/summary_csvs/enformer/context_dependence_test.csv')"
   ]
  },
  {
   "cell_type": "code",
   "execution_count": 43,
   "id": "74d4c70a-2c47-48ce-aea7-80b5200ac959",
   "metadata": {},
   "outputs": [
    {
     "name": "stdout",
     "output_type": "stream",
     "text": [
      "GM12878\n"
     ]
    },
    {
     "name": "stderr",
     "output_type": "stream",
     "text": [
      "100%|████████████████████████████████████████████████████████| 10000/10000 [00:00<00:00, 867021.66it/s]"
     ]
    },
    {
     "name": "stdout",
     "output_type": "stream",
     "text": [
      "9996\n",
      "CompletedProcess(args='bedtools sort -i tmp.bed > ../results/train_test_valid//GM12878_tss_selected.bed; rm tmp.bed', returncode=0)\n",
      "train (7665, 3)\n"
     ]
    },
    {
     "name": "stderr",
     "output_type": "stream",
     "text": [
      "\n"
     ]
    },
    {
     "name": "stdout",
     "output_type": "stream",
     "text": [
      "valid (694, 3)\n",
      "test (948, 3)\n",
      "K562\n"
     ]
    },
    {
     "name": "stderr",
     "output_type": "stream",
     "text": [
      "100%|████████████████████████████████████████████████████████| 10000/10000 [00:00<00:00, 949474.59it/s]"
     ]
    },
    {
     "name": "stdout",
     "output_type": "stream",
     "text": [
      "9996\n",
      "CompletedProcess(args='bedtools sort -i tmp.bed > ../results/train_test_valid//K562_tss_selected.bed; rm tmp.bed', returncode=0)\n",
      "train (7605, 3)\n"
     ]
    },
    {
     "name": "stderr",
     "output_type": "stream",
     "text": [
      "\n"
     ]
    },
    {
     "name": "stdout",
     "output_type": "stream",
     "text": [
      "valid (691, 3)\n",
      "test (994, 3)\n",
      "PC-3\n"
     ]
    },
    {
     "name": "stderr",
     "output_type": "stream",
     "text": [
      "100%|████████████████████████████████████████████████████████| 10000/10000 [00:00<00:00, 954943.76it/s]"
     ]
    },
    {
     "name": "stdout",
     "output_type": "stream",
     "text": [
      "9996\n",
      "CompletedProcess(args='bedtools sort -i tmp.bed > ../results/train_test_valid//PC-3_tss_selected.bed; rm tmp.bed', returncode=0)\n",
      "train (7727, 3)\n"
     ]
    },
    {
     "name": "stderr",
     "output_type": "stream",
     "text": [
      "\n"
     ]
    },
    {
     "name": "stdout",
     "output_type": "stream",
     "text": [
      "valid (691, 3)\n",
      "test (927, 3)\n"
     ]
    }
   ],
   "source": [
    "classified_seq_cell = {}\n",
    "for cell, cell_context_test_results in context_test_results.groupby('cell_line'):\n",
    "    print(cell)\n",
    "    ### expand selected TSS sequences to enformer sequence length and save into => ../results/{cell}_tss_selected.bed\n",
    "    sequences_with_tss = []\n",
    "    for file_prefix in tqdm([p.split('/')[-1].split('.')[0] for p in cell_context_test_results['path']]):\n",
    "        chrom_i, tss_i = file_prefix.split('_')[1:3]\n",
    "        start_i, end_i = int(tss_i) - seq_length//2, int(tss_i) + seq_length//2\n",
    "        if start_i >= 0:\n",
    "            sequences_with_tss.append([chrom_i, start_i, end_i])\n",
    "    print(len(sequences_with_tss))\n",
    "    pd.DataFrame(sequences_with_tss).to_csv('tmp.bed', sep='\\t', header=None, index=None)\n",
    "    \n",
    "    cmd = f'bedtools sort -i tmp.bed > {outdir}/{cell}_tss_selected.bed; rm tmp.bed'\n",
    "    r = subprocess.run(cmd, shell=True)\n",
    "    print(r)\n",
    "    fold_seq_dfs = []\n",
    "    for fold in sequences[3].unique():\n",
    "        fold_seqs = []\n",
    "        cell_fold_bed = f'../results/{cell}_{fold}.bed'\n",
    "        cmd = f'bedtools intersect -a {outdir}/{cell}_tss_selected.bed -b {outdir}/enformer_{fold}_sequences_merged.bed  -wa -f 1.0 > {cell_fold_bed}'\n",
    "    \n",
    "        subprocess.run(\n",
    "            cmd, shell=True)\n",
    "        df = pd.read_csv(cell_fold_bed, header=None, sep='\\t')\n",
    "        print(fold, df.shape)\n",
    "        for i, row in df.iterrows():\n",
    "            paths = glob.glob(f'../results/context_dependence_test_100/{model_name}/*{row[0]}_{row[1]+seq_length//2}*')\n",
    "            assert len(paths) > 0, 'File not found'\n",
    "            fold_seqs.append(paths[0])\n",
    "        fold_seqs = pd.DataFrame(fold_seqs)\n",
    "        fold_seqs.columns=['path']\n",
    "        fold_seqs['fold'] = fold\n",
    "        fold_seq_dfs.append(fold_seqs)\n",
    "    fold_seq_dfs = pd.concat(fold_seq_dfs)\n",
    "    cell_context_test_results['seq_id'] = [p.split('/')[-1] for p in cell_context_test_results['path']]\n",
    "    fold_seq_dfs['seq_id'] = [p.split('/')[-1] for p in fold_seq_dfs['path']]\n",
    "    classified_seqs = cell_context_test_results.merge(fold_seq_dfs, on='seq_id')\n",
    "\n",
    "    classified_seq_cell[cell] = classified_seqs"
   ]
  },
  {
   "cell_type": "code",
   "execution_count": 42,
   "id": "ed816399-0082-4f35-8575-a34255f6fcb3",
   "metadata": {},
   "outputs": [
    {
     "data": {
      "text/plain": [
       "array(['train', 'valid', 'test'], dtype=object)"
      ]
     },
     "execution_count": 42,
     "metadata": {},
     "output_type": "execute_result"
    }
   ],
   "source": [
    "classified_seqs['fold'].unique()"
   ]
  },
  {
   "cell_type": "code",
   "execution_count": 37,
   "id": "1c7d1d94-12ed-487f-a9b2-169dcc44cfe9",
   "metadata": {},
   "outputs": [],
   "source": [
    "folds = sequences[3].unique()\n",
    "pairs = list(combinations(folds, r=2))\n",
    "x = 'fold'\n",
    "y ='delta_mean'"
   ]
  },
  {
   "cell_type": "code",
   "execution_count": 38,
   "id": "8d4e03ff-9008-497b-92bc-5856e0145303",
   "metadata": {},
   "outputs": [
    {
     "name": "stdout",
     "output_type": "stream",
     "text": [
      "train valid 0.0009901811221437868\n",
      "train test 4.901277535324399e-05\n",
      "valid test 0.7618315346157665\n"
     ]
    },
    {
     "data": {
      "image/png": "[encoded data removed]",
      "text/plain": [
       "<Figure size 640x480 with 1 Axes>"
      ]
     },
     "metadata": {},
     "output_type": "display_data"
    },
    {
     "name": "stdout",
     "output_type": "stream",
     "text": [
      "train valid 0.451119055620833\n",
      "train test 0.2300802353204956\n",
      "valid test 0.15973840153070684\n"
     ]
    },
    {
     "data": {
      "image/png": "[encoded data removed]",
      "text/plain": [
       "<Figure size 640x480 with 1 Axes>"
      ]
     },
     "metadata": {},
     "output_type": "display_data"
    },
    {
     "name": "stdout",
     "output_type": "stream",
     "text": [
      "train valid 0.006124187119411338\n",
      "train test 0.015924660907864395\n",
      "valid test 0.6465444997867731\n"
     ]
    },
    {
     "data": {
      "image/png": "[encoded data removed]",
      "text/plain": [
       "<Figure size 640x480 with 1 Axes>"
      ]
     },
     "metadata": {},
     "output_type": "display_data"
    }
   ],
   "source": [
    "for cell, classified_seqs in classified_seq_cell.items():\n",
    "    for pair in pairs:\n",
    "        f1, f2 = pair\n",
    "        a = classified_seqs[classified_seqs[x]==f1][y]\n",
    "        b = classified_seqs[classified_seqs[x]==f2][y]\n",
    "        stat, pvalue = scipy.stats.mannwhitneyu(a, b)\n",
    "        print(f'{f1} {f2} {pvalue}')\n",
    "\n",
    "    ax=sns.boxplot(data=classified_seqs, hue=x, y=y)\n",
    "    plt.title(cell)\n",
    "    plt.show()"
   ]
  },
  {
   "cell_type": "code",
   "execution_count": 26,
   "id": "a4e8cc4e-8e34-4a01-8f86-8d0e6048df65",
   "metadata": {},
   "outputs": [
    {
     "data": {
      "text/html": [
       "<div>\n",
       "<style scoped>\n",
       "    .dataframe tbody tr th:only-of-type {\n",
       "        vertical-align: middle;\n",
       "    }\n",
       "\n",
       "    .dataframe tbody tr th {\n",
       "        vertical-align: top;\n",
       "    }\n",
       "\n",
       "    .dataframe thead th {\n",
       "        text-align: right;\n",
       "    }\n",
       "</style>\n",
       "<table border=\"1\" class=\"dataframe\">\n",
       "  <thead>\n",
       "    <tr style=\"text-align: right;\">\n",
       "      <th></th>\n",
       "      <th>Unnamed: 0</th>\n",
       "      <th>delta_mean</th>\n",
       "      <th>path_x</th>\n",
       "      <th>wt</th>\n",
       "      <th>std</th>\n",
       "      <th>mean_mut</th>\n",
       "      <th>seq_id</th>\n",
       "      <th>context</th>\n",
       "      <th>cell_line</th>\n",
       "      <th>path_y</th>\n",
       "      <th>fold</th>\n",
       "    </tr>\n",
       "  </thead>\n",
       "  <tbody>\n",
       "    <tr>\n",
       "      <th>0</th>\n",
       "      <td>0</td>\n",
       "      <td>0.477846</td>\n",
       "      <td>../results//context_dependence_test_100/enform...</td>\n",
       "      <td>14.784366</td>\n",
       "      <td>2.222776</td>\n",
       "      <td>7.719713</td>\n",
       "      <td>XPO5_chr6_43576038_-.pickle</td>\n",
       "      <td>other</td>\n",
       "      <td>PC-3</td>\n",
       "      <td>../results/context_dependence_test_100/enforme...</td>\n",
       "      <td>train</td>\n",
       "    </tr>\n",
       "    <tr>\n",
       "      <th>1</th>\n",
       "      <td>1</td>\n",
       "      <td>0.927049</td>\n",
       "      <td>../results//context_dependence_test_100/enform...</td>\n",
       "      <td>14.783938</td>\n",
       "      <td>0.652025</td>\n",
       "      <td>1.078504</td>\n",
       "      <td>UPK2_chr11_118956297_+.pickle</td>\n",
       "      <td>other</td>\n",
       "      <td>PC-3</td>\n",
       "      <td>../results/context_dependence_test_100/enforme...</td>\n",
       "      <td>train</td>\n",
       "    </tr>\n",
       "    <tr>\n",
       "      <th>2</th>\n",
       "      <td>2</td>\n",
       "      <td>0.879795</td>\n",
       "      <td>../results//context_dependence_test_100/enform...</td>\n",
       "      <td>14.816709</td>\n",
       "      <td>1.007191</td>\n",
       "      <td>1.781050</td>\n",
       "      <td>PLEKHB1_chr11_73647625_+.pickle</td>\n",
       "      <td>other</td>\n",
       "      <td>PC-3</td>\n",
       "      <td>../results/context_dependence_test_100/enforme...</td>\n",
       "      <td>train</td>\n",
       "    </tr>\n",
       "    <tr>\n",
       "      <th>3</th>\n",
       "      <td>3</td>\n",
       "      <td>-1.282113</td>\n",
       "      <td>../results//context_dependence_test_100/enform...</td>\n",
       "      <td>14.803543</td>\n",
       "      <td>6.064398</td>\n",
       "      <td>33.783363</td>\n",
       "      <td>ZNF606_chr19_58002819_-.pickle</td>\n",
       "      <td>silencing</td>\n",
       "      <td>PC-3</td>\n",
       "      <td>../results/context_dependence_test_100/enforme...</td>\n",
       "      <td>train</td>\n",
       "    </tr>\n",
       "    <tr>\n",
       "      <th>4</th>\n",
       "      <td>4</td>\n",
       "      <td>0.871365</td>\n",
       "      <td>../results//context_dependence_test_100/enform...</td>\n",
       "      <td>14.812580</td>\n",
       "      <td>1.361411</td>\n",
       "      <td>1.905413</td>\n",
       "      <td>SLC25A30_chr13_45418373_-.pickle</td>\n",
       "      <td>other</td>\n",
       "      <td>PC-3</td>\n",
       "      <td>../results/context_dependence_test_100/enforme...</td>\n",
       "      <td>train</td>\n",
       "    </tr>\n",
       "    <tr>\n",
       "      <th>...</th>\n",
       "      <td>...</td>\n",
       "      <td>...</td>\n",
       "      <td>...</td>\n",
       "      <td>...</td>\n",
       "      <td>...</td>\n",
       "      <td>...</td>\n",
       "      <td>...</td>\n",
       "      <td>...</td>\n",
       "      <td>...</td>\n",
       "      <td>...</td>\n",
       "      <td>...</td>\n",
       "    </tr>\n",
       "    <tr>\n",
       "      <th>9339</th>\n",
       "      <td>9995</td>\n",
       "      <td>0.696849</td>\n",
       "      <td>../results//context_dependence_test_100/enform...</td>\n",
       "      <td>447.238680</td>\n",
       "      <td>36.277294</td>\n",
       "      <td>135.580690</td>\n",
       "      <td>CCT3_chr1_156338257_-.pickle</td>\n",
       "      <td>other</td>\n",
       "      <td>PC-3</td>\n",
       "      <td>../results/context_dependence_test_100/enforme...</td>\n",
       "      <td>train</td>\n",
       "    </tr>\n",
       "    <tr>\n",
       "      <th>9340</th>\n",
       "      <td>9996</td>\n",
       "      <td>0.673640</td>\n",
       "      <td>../results//context_dependence_test_100/enform...</td>\n",
       "      <td>449.256040</td>\n",
       "      <td>28.989002</td>\n",
       "      <td>146.619230</td>\n",
       "      <td>MDH2_chr7_76048105_+.pickle</td>\n",
       "      <td>other</td>\n",
       "      <td>PC-3</td>\n",
       "      <td>../results/context_dependence_test_100/enforme...</td>\n",
       "      <td>train</td>\n",
       "    </tr>\n",
       "    <tr>\n",
       "      <th>9341</th>\n",
       "      <td>9997</td>\n",
       "      <td>0.550541</td>\n",
       "      <td>../results//context_dependence_test_100/enform...</td>\n",
       "      <td>451.634580</td>\n",
       "      <td>31.148926</td>\n",
       "      <td>202.991270</td>\n",
       "      <td>HSP90B1_chr12_103930409_+.pickle</td>\n",
       "      <td>other</td>\n",
       "      <td>PC-3</td>\n",
       "      <td>../results/context_dependence_test_100/enforme...</td>\n",
       "      <td>train</td>\n",
       "    </tr>\n",
       "    <tr>\n",
       "      <th>9342</th>\n",
       "      <td>9998</td>\n",
       "      <td>0.529612</td>\n",
       "      <td>../results//context_dependence_test_100/enform...</td>\n",
       "      <td>454.693760</td>\n",
       "      <td>20.745981</td>\n",
       "      <td>213.882630</td>\n",
       "      <td>ITGB1_chr10_32958230_-.pickle</td>\n",
       "      <td>other</td>\n",
       "      <td>PC-3</td>\n",
       "      <td>../results/context_dependence_test_100/enforme...</td>\n",
       "      <td>train</td>\n",
       "    </tr>\n",
       "    <tr>\n",
       "      <th>9343</th>\n",
       "      <td>9999</td>\n",
       "      <td>0.435500</td>\n",
       "      <td>../results//context_dependence_test_100/enform...</td>\n",
       "      <td>482.527680</td>\n",
       "      <td>36.675526</td>\n",
       "      <td>272.386660</td>\n",
       "      <td>CSTB_chr21_43776318_-.pickle</td>\n",
       "      <td>other</td>\n",
       "      <td>PC-3</td>\n",
       "      <td>../results/context_dependence_test_100/enforme...</td>\n",
       "      <td>train</td>\n",
       "    </tr>\n",
       "  </tbody>\n",
       "</table>\n",
       "<p>9344 rows × 11 columns</p>\n",
       "</div>"
      ],
      "text/plain": [
       "      Unnamed: 0  delta_mean   \n",
       "0              0    0.477846  \\\n",
       "1              1    0.927049   \n",
       "2              2    0.879795   \n",
       "3              3   -1.282113   \n",
       "4              4    0.871365   \n",
       "...          ...         ...   \n",
       "9339        9995    0.696849   \n",
       "9340        9996    0.673640   \n",
       "9341        9997    0.550541   \n",
       "9342        9998    0.529612   \n",
       "9343        9999    0.435500   \n",
       "\n",
       "                                                 path_x          wt   \n",
       "0     ../results//context_dependence_test_100/enform...   14.784366  \\\n",
       "1     ../results//context_dependence_test_100/enform...   14.783938   \n",
       "2     ../results//context_dependence_test_100/enform...   14.816709   \n",
       "3     ../results//context_dependence_test_100/enform...   14.803543   \n",
       "4     ../results//context_dependence_test_100/enform...   14.812580   \n",
       "...                                                 ...         ...   \n",
       "9339  ../results//context_dependence_test_100/enform...  447.238680   \n",
       "9340  ../results//context_dependence_test_100/enform...  449.256040   \n",
       "9341  ../results//context_dependence_test_100/enform...  451.634580   \n",
       "9342  ../results//context_dependence_test_100/enform...  454.693760   \n",
       "9343  ../results//context_dependence_test_100/enform...  482.527680   \n",
       "\n",
       "            std    mean_mut                            seq_id    context   \n",
       "0      2.222776    7.719713       XPO5_chr6_43576038_-.pickle      other  \\\n",
       "1      0.652025    1.078504     UPK2_chr11_118956297_+.pickle      other   \n",
       "2      1.007191    1.781050   PLEKHB1_chr11_73647625_+.pickle      other   \n",
       "3      6.064398   33.783363    ZNF606_chr19_58002819_-.pickle  silencing   \n",
       "4      1.361411    1.905413  SLC25A30_chr13_45418373_-.pickle      other   \n",
       "...         ...         ...                               ...        ...   \n",
       "9339  36.277294  135.580690      CCT3_chr1_156338257_-.pickle      other   \n",
       "9340  28.989002  146.619230       MDH2_chr7_76048105_+.pickle      other   \n",
       "9341  31.148926  202.991270  HSP90B1_chr12_103930409_+.pickle      other   \n",
       "9342  20.745981  213.882630     ITGB1_chr10_32958230_-.pickle      other   \n",
       "9343  36.675526  272.386660      CSTB_chr21_43776318_-.pickle      other   \n",
       "\n",
       "     cell_line                                             path_y   fold  \n",
       "0         PC-3  ../results/context_dependence_test_100/enforme...  train  \n",
       "1         PC-3  ../results/context_dependence_test_100/enforme...  train  \n",
       "2         PC-3  ../results/context_dependence_test_100/enforme...  train  \n",
       "3         PC-3  ../results/context_dependence_test_100/enforme...  train  \n",
       "4         PC-3  ../results/context_dependence_test_100/enforme...  train  \n",
       "...        ...                                                ...    ...  \n",
       "9339      PC-3  ../results/context_dependence_test_100/enforme...  train  \n",
       "9340      PC-3  ../results/context_dependence_test_100/enforme...  train  \n",
       "9341      PC-3  ../results/context_dependence_test_100/enforme...  train  \n",
       "9342      PC-3  ../results/context_dependence_test_100/enforme...  train  \n",
       "9343      PC-3  ../results/context_dependence_test_100/enforme...  train  \n",
       "\n",
       "[9344 rows x 11 columns]"
      ]
     },
     "execution_count": 26,
     "metadata": {},
     "output_type": "execute_result"
    }
   ],
   "source": [
    "classified_seqs"
   ]
  },
  {
   "cell_type": "code",
   "execution_count": null,
   "id": "d9db529f-e727-4d54-85ea-73edc15bee30",
   "metadata": {},
   "outputs": [],
   "source": []
  }
 ],
 "metadata": {
  "kernelspec": {
   "display_name": "Python 3 (ipykernel)",
   "language": "python",
   "name": "python3"
  },
  "language_info": {
   "codemirror_mode": {
    "name": "ipython",
    "version": 3
   },
   "file_extension": ".py",
   "mimetype": "text/x-python",
   "name": "python",
   "nbconvert_exporter": "python",
   "pygments_lexer": "ipython3",
   "version": "3.9.16"
  }
 },
 "nbformat": 4,
 "nbformat_minor": 5
}
