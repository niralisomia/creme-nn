{
 "cells": [
  {
   "cell_type": "code",
   "execution_count": 1,
   "id": "daf026d4-df88-4728-a30b-d541d6d0bff0",
   "metadata": {},
   "outputs": [
    {
     "name": "stderr",
     "output_type": "stream",
     "text": [
      "2024-01-02 09:00:46.599943: I tensorflow/core/platform/cpu_feature_guard.cc:193] This TensorFlow binary is optimized with oneAPI Deep Neural Network Library (oneDNN) to use the following CPU instructions in performance-critical operations:  SSE4.1 SSE4.2 AVX AVX2 FMA\n",
      "To enable them in other operations, rebuild TensorFlow with the appropriate compiler flags.\n"
     ]
    }
   ],
   "source": [
    "%load_ext autoreload\n",
    "%autoreload 2\n",
    "import pandas as pd\n",
    "import numpy as np\n",
    "import sys\n",
    "sys.path.append('../creme/')\n",
    "import custom_model\n",
    "import creme\n",
    "import utils\n",
    "import glob\n",
    "from tqdm import tqdm\n",
    "import matplotlib.pyplot as plt\n",
    "import seaborn as sns\n",
    "import pyranges as pr\n",
    "import shutil\n",
    "import pickle, os, subprocess\n",
    "from itertools import combinations\n",
    "import scipy\n",
    "from sklearn.metrics import mean_squared_error"
   ]
  },
  {
   "cell_type": "code",
   "execution_count": 2,
   "id": "4014767d-a43b-4664-8588-b38d70effec2",
   "metadata": {},
   "outputs": [],
   "source": [
    "sequences = pd.read_csv('../data/enformer_sequences.bed', header=None, sep='\\t')\n",
    "bin_index = [447, 448]\n",
    "model_name = 'enformer'\n",
    "seq_length = 196608\n",
    "outdir = utils.make_dir('../results/train_test_valid/')"
   ]
  },
  {
   "cell_type": "code",
   "execution_count": 3,
   "id": "16335341-79e5-4f07-a8cf-9545237cc3fa",
   "metadata": {},
   "outputs": [],
   "source": [
    "# Trivial but horrible\n",
    "for fold in sequences[3].unique():\n",
    "\n",
    "    cmd = f'less ../data/enformer_sequences.bed | grep {fold}  > tmp.bed;'\n",
    "    cmd += f'bedtools sort -i tmp.bed > tmp_s.bed;'\n",
    "    cmd += f'bedtools merge -i tmp_s.bed > {outdir}/enformer_{fold}_sequences_merged.bed; rm tmp.bed tmp_s.bed'\n",
    "    \n",
    "    results = subprocess.run(\n",
    "        cmd, shell=True)\n"
   ]
  },
  {
   "cell_type": "code",
   "execution_count": 5,
   "id": "b9d09eb6-860c-456f-8677-927e90edc90f",
   "metadata": {},
   "outputs": [],
   "source": [
    "context_test_results = pd.read_csv('../results/summary_csvs/enformer/context_dependence_test.csv')"
   ]
  },
  {
   "cell_type": "code",
   "execution_count": 39,
   "id": "9f5e172f-ef2e-4650-b16f-8eecac9f7dfd",
   "metadata": {},
   "outputs": [],
   "source": [
    "res_dir_name = 'context_dependence_test_10'\n",
    "context_test_results = pd.read_csv(f'../results/{res_dir_name}/enformer_result_summary.csv')"
   ]
  },
  {
   "cell_type": "code",
   "execution_count": 88,
   "id": "0971ba12-0559-4d23-82bf-f24b8ed9cd64",
   "metadata": {},
   "outputs": [
    {
     "name": "stdout",
     "output_type": "stream",
     "text": [
      "51990\n"
     ]
    },
    {
     "name": "stderr",
     "output_type": "stream",
     "text": [
      "39167it [23:00, 28.38it/s]\n",
      "3973it [02:19, 28.47it/s]\n",
      "2502it [01:28, 28.12it/s]IOPub message rate exceeded.\n",
      "The Jupyter server will temporarily stop sending output\n",
      "to the client in order to avoid crashing it.\n",
      "To change this limit, set the config variable\n",
      "`--ServerApp.iopub_msg_rate_limit`.\n",
      "\n",
      "Current values:\n",
      "ServerApp.iopub_msg_rate_limit=1000.0 (msgs/sec)\n",
      "ServerApp.rate_limit_window=3.0 (secs)\n",
      "\n"
     ]
    }
   ],
   "source": [
    "sequences_with_tss = []\n",
    "\n",
    "for path in glob.glob('../results/gencode_tss_predictions/enformer/*npy'):\n",
    "    ### expand selected TSS sequences to enformer sequence length and save into => ../results/{cell}_tss_selected.bed\n",
    "    file_prefix = path.split('/')[-1].split('.')[0]\n",
    "    chrom_i, tss_i = file_prefix.split('_')[1:3]\n",
    "    start_i, end_i = int(tss_i) - seq_length//2, int(tss_i) + seq_length//2\n",
    "    if start_i >= 0:\n",
    "        sequences_with_tss.append([chrom_i, start_i, end_i])\n",
    "print(len(sequences_with_tss))\n",
    "pd.DataFrame(sequences_with_tss).to_csv('tmp.bed', sep='\\t', header=None, index=None)\n",
    "    \n",
    "cmd = f'bedtools sort -i tmp.bed > {outdir}/all_tss_selected.bed; rm tmp.bed'\n",
    "subprocess.run(cmd, shell=True)\n",
    "\n",
    "fold_seq_dfs = []\n",
    "for fold in sequences[3].unique():\n",
    "    fold_seqs = []\n",
    "    fold_bed = f'{outdir}/{fold}.bed'\n",
    "    cmd = f'bedtools intersect -a {outdir}/all_tss_selected.bed -b {outdir}/enformer_{fold}_sequences_merged.bed  -wa -f 1.0 > {fold_bed}'\n",
    "\n",
    "    subprocess.run(\n",
    "        cmd, shell=True)\n",
    "    df = pd.read_csv(fold_bed, header=None, sep='\\t')\n",
    "    df.columns = ['chr', 'start', 'end']\n",
    "    seq_ids = []\n",
    "    for i, row in tqdm(df.iterrows()):\n",
    "        seq_ids.append(glob.glob(f'../results/gencode_tss_predictions/enformer/*{row[\"chr\"]}_{row[\"start\"]+98304}*')[0].split('/')[-1].split('.')[0])#     for i, row in df.iterrows():\n",
    "    df['seq_id'] = seq_ids\n",
    "    fold_seq_dfs.append(df)\n",
    "\n",
    "\n",
    "\n",
    "    "
   ]
  },
  {
   "cell_type": "code",
   "execution_count": 67,
   "id": "b772ac6c-c91b-415d-8d27-d3318e2af7dd",
   "metadata": {},
   "outputs": [],
   "source": []
  },
  {
   "cell_type": "code",
   "execution_count": 85,
   "id": "727e5ab8-2ef8-4ee5-9b5f-699638d2b6a6",
   "metadata": {},
   "outputs": [
    {
     "name": "stderr",
     "output_type": "stream",
     "text": [
      "67it [00:02, 27.50it/s]\n"
     ]
    },
    {
     "ename": "KeyboardInterrupt",
     "evalue": "",
     "output_type": "error",
     "traceback": [
      "\u001b[0;31m---------------------------------------------------------------------------\u001b[0m",
      "\u001b[0;31mKeyboardInterrupt\u001b[0m                         Traceback (most recent call last)",
      "Cell \u001b[0;32mIn[85], line 4\u001b[0m\n\u001b[1;32m      2\u001b[0m seq_ids \u001b[38;5;241m=\u001b[39m []\n\u001b[1;32m      3\u001b[0m \u001b[38;5;28;01mfor\u001b[39;00m i, row \u001b[38;5;129;01min\u001b[39;00m tqdm(df\u001b[38;5;241m.\u001b[39miterrows()):\n\u001b[0;32m----> 4\u001b[0m     seq_ids\u001b[38;5;241m.\u001b[39mappend(\u001b[43mglob\u001b[49m\u001b[38;5;241;43m.\u001b[39;49m\u001b[43mglob\u001b[49m\u001b[43m(\u001b[49m\u001b[38;5;124;43mf\u001b[39;49m\u001b[38;5;124;43m'\u001b[39;49m\u001b[38;5;124;43m../results/gencode_tss_predictions/enformer/*\u001b[39;49m\u001b[38;5;132;43;01m{\u001b[39;49;00m\u001b[43mrow\u001b[49m\u001b[43m[\u001b[49m\u001b[38;5;124;43m\"\u001b[39;49m\u001b[38;5;124;43mchr\u001b[39;49m\u001b[38;5;124;43m\"\u001b[39;49m\u001b[43m]\u001b[49m\u001b[38;5;132;43;01m}\u001b[39;49;00m\u001b[38;5;124;43m_\u001b[39;49m\u001b[38;5;132;43;01m{\u001b[39;49;00m\u001b[43mrow\u001b[49m\u001b[43m[\u001b[49m\u001b[38;5;124;43m\"\u001b[39;49m\u001b[38;5;124;43mstart\u001b[39;49m\u001b[38;5;124;43m\"\u001b[39;49m\u001b[43m]\u001b[49m\u001b[38;5;241;43m+\u001b[39;49m\u001b[38;5;241;43m98304\u001b[39;49m\u001b[38;5;132;43;01m}\u001b[39;49;00m\u001b[38;5;124;43m*\u001b[39;49m\u001b[38;5;124;43m'\u001b[39;49m\u001b[43m)\u001b[49m[\u001b[38;5;241m0\u001b[39m]\u001b[38;5;241m.\u001b[39msplit(\u001b[38;5;124m'\u001b[39m\u001b[38;5;124m/\u001b[39m\u001b[38;5;124m'\u001b[39m)[\u001b[38;5;241m-\u001b[39m\u001b[38;5;241m1\u001b[39m]\u001b[38;5;241m.\u001b[39msplit(\u001b[38;5;124m'\u001b[39m\u001b[38;5;124m.\u001b[39m\u001b[38;5;124m'\u001b[39m)[\u001b[38;5;241m0\u001b[39m])\n",
      "File \u001b[0;32m~/.conda/envs/tf/lib/python3.9/glob.py:22\u001b[0m, in \u001b[0;36mglob\u001b[0;34m(pathname, recursive)\u001b[0m\n\u001b[1;32m     11\u001b[0m \u001b[38;5;28;01mdef\u001b[39;00m \u001b[38;5;21mglob\u001b[39m(pathname, \u001b[38;5;241m*\u001b[39m, recursive\u001b[38;5;241m=\u001b[39m\u001b[38;5;28;01mFalse\u001b[39;00m):\n\u001b[1;32m     12\u001b[0m \u001b[38;5;250m    \u001b[39m\u001b[38;5;124;03m\"\"\"Return a list of paths matching a pathname pattern.\u001b[39;00m\n\u001b[1;32m     13\u001b[0m \n\u001b[1;32m     14\u001b[0m \u001b[38;5;124;03m    The pattern may contain simple shell-style wildcards a la\u001b[39;00m\n\u001b[0;32m   (...)\u001b[0m\n\u001b[1;32m     20\u001b[0m \u001b[38;5;124;03m    zero or more directories and subdirectories.\u001b[39;00m\n\u001b[1;32m     21\u001b[0m \u001b[38;5;124;03m    \"\"\"\u001b[39;00m\n\u001b[0;32m---> 22\u001b[0m     \u001b[38;5;28;01mreturn\u001b[39;00m \u001b[38;5;28;43mlist\u001b[39;49m\u001b[43m(\u001b[49m\u001b[43miglob\u001b[49m\u001b[43m(\u001b[49m\u001b[43mpathname\u001b[49m\u001b[43m,\u001b[49m\u001b[43m \u001b[49m\u001b[43mrecursive\u001b[49m\u001b[38;5;241;43m=\u001b[39;49m\u001b[43mrecursive\u001b[49m\u001b[43m)\u001b[49m\u001b[43m)\u001b[49m\n",
      "File \u001b[0;32m~/.conda/envs/tf/lib/python3.9/glob.py:75\u001b[0m, in \u001b[0;36m_iglob\u001b[0;34m(pathname, recursive, dironly)\u001b[0m\n\u001b[1;32m     73\u001b[0m     glob_in_dir \u001b[38;5;241m=\u001b[39m _glob0\n\u001b[1;32m     74\u001b[0m \u001b[38;5;28;01mfor\u001b[39;00m dirname \u001b[38;5;129;01min\u001b[39;00m dirs:\n\u001b[0;32m---> 75\u001b[0m     \u001b[38;5;28;01mfor\u001b[39;00m name \u001b[38;5;129;01min\u001b[39;00m \u001b[43mglob_in_dir\u001b[49m\u001b[43m(\u001b[49m\u001b[43mdirname\u001b[49m\u001b[43m,\u001b[49m\u001b[43m \u001b[49m\u001b[43mbasename\u001b[49m\u001b[43m,\u001b[49m\u001b[43m \u001b[49m\u001b[43mdironly\u001b[49m\u001b[43m)\u001b[49m:\n\u001b[1;32m     76\u001b[0m         \u001b[38;5;28;01myield\u001b[39;00m os\u001b[38;5;241m.\u001b[39mpath\u001b[38;5;241m.\u001b[39mjoin(dirname, name)\n",
      "File \u001b[0;32m~/.conda/envs/tf/lib/python3.9/glob.py:86\u001b[0m, in \u001b[0;36m_glob1\u001b[0;34m(dirname, pattern, dironly)\u001b[0m\n\u001b[1;32m     84\u001b[0m \u001b[38;5;28;01mif\u001b[39;00m \u001b[38;5;129;01mnot\u001b[39;00m _ishidden(pattern):\n\u001b[1;32m     85\u001b[0m     names \u001b[38;5;241m=\u001b[39m (x \u001b[38;5;28;01mfor\u001b[39;00m x \u001b[38;5;129;01min\u001b[39;00m names \u001b[38;5;28;01mif\u001b[39;00m \u001b[38;5;129;01mnot\u001b[39;00m _ishidden(x))\n\u001b[0;32m---> 86\u001b[0m \u001b[38;5;28;01mreturn\u001b[39;00m \u001b[43mfnmatch\u001b[49m\u001b[38;5;241;43m.\u001b[39;49m\u001b[43mfilter\u001b[49m\u001b[43m(\u001b[49m\u001b[43mnames\u001b[49m\u001b[43m,\u001b[49m\u001b[43m \u001b[49m\u001b[43mpattern\u001b[49m\u001b[43m)\u001b[49m\n",
      "File \u001b[0;32m~/.conda/envs/tf/lib/python3.9/fnmatch.py:62\u001b[0m, in \u001b[0;36mfilter\u001b[0;34m(names, pat)\u001b[0m\n\u001b[1;32m     59\u001b[0m \u001b[38;5;28;01mif\u001b[39;00m os\u001b[38;5;241m.\u001b[39mpath \u001b[38;5;129;01mis\u001b[39;00m posixpath:\n\u001b[1;32m     60\u001b[0m     \u001b[38;5;66;03m# normcase on posix is NOP. Optimize it away from the loop.\u001b[39;00m\n\u001b[1;32m     61\u001b[0m     \u001b[38;5;28;01mfor\u001b[39;00m name \u001b[38;5;129;01min\u001b[39;00m names:\n\u001b[0;32m---> 62\u001b[0m         \u001b[38;5;28;01mif\u001b[39;00m \u001b[43mmatch\u001b[49m\u001b[43m(\u001b[49m\u001b[43mname\u001b[49m\u001b[43m)\u001b[49m:\n\u001b[1;32m     63\u001b[0m             result\u001b[38;5;241m.\u001b[39mappend(name)\n\u001b[1;32m     64\u001b[0m \u001b[38;5;28;01melse\u001b[39;00m:\n",
      "\u001b[0;31mKeyboardInterrupt\u001b[0m: "
     ]
    }
   ],
   "source": []
  },
  {
   "cell_type": "code",
   "execution_count": 87,
   "id": "10f7640a-7084-4e8f-9121-a4a72d7b9cb6",
   "metadata": {},
   "outputs": [
    {
     "data": {
      "text/plain": [
       "['RHOU_chr1_228735478_+',\n",
       " 'LYPD8_chr1_248755759_-',\n",
       " 'ZNF248_chr10_37857197_-',\n",
       " 'ZNF248_chr10_37857558_-',\n",
       " 'ZNF248_chr10_37857610_-',\n",
       " 'ZNF248_chr10_37857636_-',\n",
       " 'ZNF25_chr10_37976647_-',\n",
       " 'ZNF33A_chr10_38010649_+',\n",
       " 'ZNF33A_chr10_38010654_+',\n",
       " 'ZNF33A_chr10_38010669_+',\n",
       " 'ZNF33A_chr10_38010674_+',\n",
       " 'ZNF33A_chr10_38010685_+',\n",
       " 'ZNF37A_chr10_38094333_+',\n",
       " 'ZNF37A_chr10_38094335_+',\n",
       " 'ZNF37A_chr10_38094336_+',\n",
       " 'ZNF37A_chr10_38094346_+',\n",
       " 'PLD5P1_chr10_38094367_+',\n",
       " 'ANO3_chr11_26188841_+',\n",
       " 'ANO3_chr11_26309598_+',\n",
       " 'ANO3_chr11_26332120_+',\n",
       " 'ANO3_chr11_26332129_+',\n",
       " 'ANO3_chr11_26473901_+',\n",
       " 'MUC15_chr11_26567094_-',\n",
       " 'MUC15_chr11_26572142_-',\n",
       " 'MUC15_chr11_26572263_-',\n",
       " 'SLC5A12_chr11_26721999_-',\n",
       " 'SLC5A12_chr11_26722060_-',\n",
       " 'FIBIN_chr11_26994111_+',\n",
       " 'BBOX1_chr11_27040724_+',\n",
       " 'BBOX1_chr11_27040814_+',\n",
       " 'BBOX1_chr11_27041312_+',\n",
       " 'BBOX1_chr11_27055216_+',\n",
       " 'CCDC34_chr11_27363215_-',\n",
       " 'CCDC34_chr11_27363234_-',\n",
       " 'LGR4_chr11_27472314_-',\n",
       " 'LGR4_chr11_27472775_-',\n",
       " 'LIN7C_chr11_27506769_-',\n",
       " 'BDNF_chr11_27659658_-',\n",
       " 'KIF18A_chr11_28108156_-',\n",
       " 'METTL15_chr11_28108247_+',\n",
       " 'METTL15_chr11_28108319_+',\n",
       " 'METTL15_chr11_28108387_+',\n",
       " 'METTL15_chr11_28110311_+',\n",
       " 'METTL15_chr11_28110314_+',\n",
       " 'KCNA4_chr11_30017030_-',\n",
       " 'FSHB_chr11_30231013_+',\n",
       " 'FSHB_chr11_30231015_+',\n",
       " 'ARL14EP_chr11_30323103_+',\n",
       " 'MPPED2_chr11_30586281_-',\n",
       " 'MPPED2_chr11_30586353_-',\n",
       " 'DCDC1_chr11_30992686_-',\n",
       " 'DCDC1_chr11_31328280_-',\n",
       " 'DCDC1_chr11_31369739_-',\n",
       " 'DCDC1_chr11_31369774_-',\n",
       " 'DNAJC24_chr11_31369859_+',\n",
       " 'IMMP1L_chr11_31509574_-',\n",
       " 'IMMP1L_chr11_31509622_-',\n",
       " 'IMMP1L_chr11_31509645_-',\n",
       " 'ELP4_chr11_31509754_+',\n",
       " 'ELP4_chr11_31509758_+',\n",
       " 'ELP4_chr11_31509761_+',\n",
       " 'ELP4_chr11_31509766_+',\n",
       " 'ELP4_chr11_31509769_+',\n",
       " 'ELP4_chr11_31509771_+',\n",
       " 'ELP4_chr11_31509777_+',\n",
       " 'PAX6_chr11_31804046_-',\n",
       " 'PAX6_chr11_31804059_-']"
      ]
     },
     "execution_count": 87,
     "metadata": {},
     "output_type": "execute_result"
    }
   ],
   "source": [
    "seq_ids"
   ]
  },
  {
   "cell_type": "code",
   "execution_count": 86,
   "id": "c116df24-aa95-47a5-8979-374dfc3a1705",
   "metadata": {},
   "outputs": [
    {
     "data": {
      "text/plain": [
       "37857197"
      ]
     },
     "execution_count": 86,
     "metadata": {},
     "output_type": "execute_result"
    }
   ],
   "source": [
    "(37758893 + 98304)"
   ]
  },
  {
   "cell_type": "code",
   "execution_count": null,
   "id": "9adc3fb9-798f-4002-8dcd-e2d7d7072633",
   "metadata": {},
   "outputs": [],
   "source": []
  },
  {
   "cell_type": "code",
   "execution_count": null,
   "id": "d1ce0e83-5e88-4d8f-8f4d-184ee918fbb4",
   "metadata": {},
   "outputs": [],
   "source": []
  },
  {
   "cell_type": "code",
   "execution_count": 49,
   "id": "f01ae9e6-c257-4d25-8f0c-957ce919e60f",
   "metadata": {},
   "outputs": [
    {
     "name": "stdout",
     "output_type": "stream",
     "text": [
      "GM12878\n"
     ]
    },
    {
     "name": "stderr",
     "output_type": "stream",
     "text": [
      "100%|████████████████████████████████████████████████████████| 10000/10000 [00:00<00:00, 970813.81it/s]"
     ]
    },
    {
     "name": "stdout",
     "output_type": "stream",
     "text": [
      "9996\n",
      "CompletedProcess(args='bedtools sort -i tmp.bed > ../results/train_test_valid//GM12878_tss_selected.bed; rm tmp.bed', returncode=0)\n"
     ]
    },
    {
     "name": "stderr",
     "output_type": "stream",
     "text": [
      "\n"
     ]
    },
    {
     "name": "stdout",
     "output_type": "stream",
     "text": [
      "K562\n"
     ]
    },
    {
     "name": "stderr",
     "output_type": "stream",
     "text": [
      "100%|███████████████████████████████████████████████████████| 10000/10000 [00:00<00:00, 1045882.85it/s]"
     ]
    },
    {
     "name": "stdout",
     "output_type": "stream",
     "text": [
      "9996\n",
      "CompletedProcess(args='bedtools sort -i tmp.bed > ../results/train_test_valid//K562_tss_selected.bed; rm tmp.bed', returncode=0)\n"
     ]
    },
    {
     "name": "stderr",
     "output_type": "stream",
     "text": [
      "\n"
     ]
    },
    {
     "name": "stdout",
     "output_type": "stream",
     "text": [
      "PC-3\n"
     ]
    },
    {
     "name": "stderr",
     "output_type": "stream",
     "text": [
      "100%|████████████████████████████████████████████████████████| 10000/10000 [00:00<00:00, 991092.63it/s]"
     ]
    },
    {
     "name": "stdout",
     "output_type": "stream",
     "text": [
      "9996\n",
      "CompletedProcess(args='bedtools sort -i tmp.bed > ../results/train_test_valid//PC-3_tss_selected.bed; rm tmp.bed', returncode=0)\n"
     ]
    },
    {
     "name": "stderr",
     "output_type": "stream",
     "text": [
      "\n"
     ]
    }
   ],
   "source": [
    "classified_seq_cell = {}\n",
    "for cell, cell_context_test_results in context_test_results.groupby('cell line'):\n",
    "    print(cell)\n",
    "    ### expand selected TSS sequences to enformer sequence length and save into => ../results/{cell}_tss_selected.bed\n",
    "    sequences_with_tss = []\n",
    "    for file_prefix in tqdm([p.split('/')[-1].split('.')[0] for p in cell_context_test_results['path']]):\n",
    "        chrom_i, tss_i = file_prefix.split('_')[1:3]\n",
    "        start_i, end_i = int(tss_i) - seq_length//2, int(tss_i) + seq_length//2\n",
    "        if start_i >= 0:\n",
    "            sequences_with_tss.append([chrom_i, start_i, end_i])\n",
    "    print(len(sequences_with_tss))\n",
    "    pd.DataFrame(sequences_with_tss).to_csv('tmp.bed', sep='\\t', header=None, index=None)\n",
    "    \n",
    "    cmd = f'bedtools sort -i tmp.bed > {outdir}/{cell}_tss_selected.bed; rm tmp.bed'\n",
    "    r = subprocess.run(cmd, shell=True)\n",
    "    print(r)\n",
    "    fold_seq_dfs = []\n",
    "    for fold in sequences[3].unique():\n",
    "        fold_seqs = []\n",
    "        cell_fold_bed = f'../results/{cell}_{fold}.bed'\n",
    "        cmd = f'bedtools intersect -a {outdir}/{cell}_tss_selected.bed -b {outdir}/enformer_{fold}_sequences_merged.bed  -wa -f 1.0 > {cell_fold_bed}'\n",
    "    \n",
    "        subprocess.run(\n",
    "            cmd, shell=True)\n",
    "        df = pd.read_csv(cell_fold_bed, header=None, sep='\\t')\n",
    "        for i, row in df.iterrows():\n",
    "            paths = glob.glob(f'../results/{res_dir_name}/{model_name}/*{row[0]}_{row[1]+seq_length//2}*')\n",
    "            assert len(paths) > 0, 'File not found'\n",
    "            fold_seqs.append(paths[0])\n",
    "        fold_seqs = pd.DataFrame(fold_seqs)\n",
    "        fold_seqs.columns=['path']\n",
    "        fold_seqs['fold'] = fold\n",
    "        fold_seq_dfs.append(fold_seqs)\n",
    "    fold_seq_dfs = pd.concat(fold_seq_dfs)\n",
    "    cell_context_test_results['seq_id'] = [p.split('/')[-1] for p in cell_context_test_results['path']]\n",
    "    fold_seq_dfs['seq_id'] = [p.split('/')[-1] for p in fold_seq_dfs['path']]\n",
    "    classified_seqs = cell_context_test_results.merge(fold_seq_dfs, on='seq_id')\n",
    "\n",
    "    classified_seq_cell[cell] = classified_seqs\n",
    "    "
   ]
  },
  {
   "cell_type": "code",
   "execution_count": 61,
   "id": "28fd3c32-0ae5-4637-a902-0c67ebd10689",
   "metadata": {},
   "outputs": [],
   "source": [
    "seqid_fold = []\n",
    "for cell, df in (classified_seq_cell).items():\n",
    "    df['seq_id'] = [s.split('.')[0] for s in df['seq_id']]\n",
    "    seqid_fold.append(df[['seq_id', 'cell line', 'fold']])\n",
    "seqid_fold = pd.concat(seqid_fold)"
   ]
  },
  {
   "cell_type": "code",
   "execution_count": 62,
   "id": "c2f3badd-f415-4d88-a210-4a98ef121ba0",
   "metadata": {},
   "outputs": [
    {
     "data": {
      "text/html": [
       "<div>\n",
       "<style scoped>\n",
       "    .dataframe tbody tr th:only-of-type {\n",
       "        vertical-align: middle;\n",
       "    }\n",
       "\n",
       "    .dataframe tbody tr th {\n",
       "        vertical-align: top;\n",
       "    }\n",
       "\n",
       "    .dataframe thead th {\n",
       "        text-align: right;\n",
       "    }\n",
       "</style>\n",
       "<table border=\"1\" class=\"dataframe\">\n",
       "  <thead>\n",
       "    <tr style=\"text-align: right;\">\n",
       "      <th></th>\n",
       "      <th>seq_id</th>\n",
       "      <th>cell line</th>\n",
       "      <th>fold</th>\n",
       "    </tr>\n",
       "  </thead>\n",
       "  <tbody>\n",
       "    <tr>\n",
       "      <th>0</th>\n",
       "      <td>ZNF471_chr19_56507854_+</td>\n",
       "      <td>GM12878</td>\n",
       "      <td>test</td>\n",
       "    </tr>\n",
       "    <tr>\n",
       "      <th>1</th>\n",
       "      <td>KCTD21_chr11_78188626_-</td>\n",
       "      <td>GM12878</td>\n",
       "      <td>train</td>\n",
       "    </tr>\n",
       "    <tr>\n",
       "      <th>2</th>\n",
       "      <td>MEGF8_chr19_42325608_+</td>\n",
       "      <td>GM12878</td>\n",
       "      <td>test</td>\n",
       "    </tr>\n",
       "    <tr>\n",
       "      <th>3</th>\n",
       "      <td>ACSF2_chr17_50426217_+</td>\n",
       "      <td>GM12878</td>\n",
       "      <td>train</td>\n",
       "    </tr>\n",
       "    <tr>\n",
       "      <th>4</th>\n",
       "      <td>RGS20_chr8_53880893_+</td>\n",
       "      <td>GM12878</td>\n",
       "      <td>train</td>\n",
       "    </tr>\n",
       "    <tr>\n",
       "      <th>...</th>\n",
       "      <td>...</td>\n",
       "      <td>...</td>\n",
       "      <td>...</td>\n",
       "    </tr>\n",
       "    <tr>\n",
       "      <th>9340</th>\n",
       "      <td>CCT3_chr1_156338257_-</td>\n",
       "      <td>PC-3</td>\n",
       "      <td>train</td>\n",
       "    </tr>\n",
       "    <tr>\n",
       "      <th>9341</th>\n",
       "      <td>MDH2_chr7_76048105_+</td>\n",
       "      <td>PC-3</td>\n",
       "      <td>train</td>\n",
       "    </tr>\n",
       "    <tr>\n",
       "      <th>9342</th>\n",
       "      <td>HSP90B1_chr12_103930409_+</td>\n",
       "      <td>PC-3</td>\n",
       "      <td>train</td>\n",
       "    </tr>\n",
       "    <tr>\n",
       "      <th>9343</th>\n",
       "      <td>ITGB1_chr10_32958230_-</td>\n",
       "      <td>PC-3</td>\n",
       "      <td>train</td>\n",
       "    </tr>\n",
       "    <tr>\n",
       "      <th>9344</th>\n",
       "      <td>CSTB_chr21_43776318_-</td>\n",
       "      <td>PC-3</td>\n",
       "      <td>train</td>\n",
       "    </tr>\n",
       "  </tbody>\n",
       "</table>\n",
       "<p>27941 rows × 3 columns</p>\n",
       "</div>"
      ],
      "text/plain": [
       "                         seq_id cell line   fold\n",
       "0       ZNF471_chr19_56507854_+   GM12878   test\n",
       "1       KCTD21_chr11_78188626_-   GM12878  train\n",
       "2        MEGF8_chr19_42325608_+   GM12878   test\n",
       "3        ACSF2_chr17_50426217_+   GM12878  train\n",
       "4         RGS20_chr8_53880893_+   GM12878  train\n",
       "...                         ...       ...    ...\n",
       "9340      CCT3_chr1_156338257_-      PC-3  train\n",
       "9341       MDH2_chr7_76048105_+      PC-3  train\n",
       "9342  HSP90B1_chr12_103930409_+      PC-3  train\n",
       "9343     ITGB1_chr10_32958230_-      PC-3  train\n",
       "9344      CSTB_chr21_43776318_-      PC-3  train\n",
       "\n",
       "[27941 rows x 3 columns]"
      ]
     },
     "execution_count": 62,
     "metadata": {},
     "output_type": "execute_result"
    }
   ],
   "source": [
    "seqid_fold"
   ]
  },
  {
   "cell_type": "code",
   "execution_count": 46,
   "id": "1c7d1d94-12ed-487f-a9b2-169dcc44cfe9",
   "metadata": {},
   "outputs": [],
   "source": [
    "folds = sequences[3].unique()\n",
    "pairs = list(combinations(folds, r=2))\n",
    "x = 'fold'\n",
    "y ='delta mean'"
   ]
  },
  {
   "cell_type": "code",
   "execution_count": 48,
   "id": "8d4e03ff-9008-497b-92bc-5856e0145303",
   "metadata": {},
   "outputs": [
    {
     "name": "stdout",
     "output_type": "stream",
     "text": [
      "train valid 0.0005662252372699119\n",
      "train test 5.717318248860889e-05\n",
      "valid test 0.8828556970276282\n"
     ]
    },
    {
     "data": {
      "image/png": "[encoded data removed]",
      "text/plain": [
       "<Figure size 640x480 with 1 Axes>"
      ]
     },
     "metadata": {},
     "output_type": "display_data"
    }
   ],
   "source": [
    "for cell, classified_seqs in classified_seq_cell.items():\n",
    "    for pair in pairs:\n",
    "        f1, f2 = pair\n",
    "        a = classified_seqs[classified_seqs[x]==f1][y]\n",
    "        b = classified_seqs[classified_seqs[x]==f2][y]\n",
    "        stat, pvalue = scipy.stats.mannwhitneyu(a, b)\n",
    "        print(f'{f1} {f2} {pvalue}')\n",
    "\n",
    "    ax=sns.boxplot(data=classified_seqs, x=x, y=y, showfliers=False)\n",
    "    plt.title(cell)\n",
    "    plt.show()"
   ]
  },
  {
   "cell_type": "code",
   "execution_count": 26,
   "id": "a4e8cc4e-8e34-4a01-8f86-8d0e6048df65",
   "metadata": {},
   "outputs": [
    {
     "data": {
      "text/html": [
       "<div>\n",
       "<style scoped>\n",
       "    .dataframe tbody tr th:only-of-type {\n",
       "        vertical-align: middle;\n",
       "    }\n",
       "\n",
       "    .dataframe tbody tr th {\n",
       "        vertical-align: top;\n",
       "    }\n",
       "\n",
       "    .dataframe thead th {\n",
       "        text-align: right;\n",
       "    }\n",
       "</style>\n",
       "<table border=\"1\" class=\"dataframe\">\n",
       "  <thead>\n",
       "    <tr style=\"text-align: right;\">\n",
       "      <th></th>\n",
       "      <th>Unnamed: 0</th>\n",
       "      <th>delta_mean</th>\n",
       "      <th>path_x</th>\n",
       "      <th>wt</th>\n",
       "      <th>std</th>\n",
       "      <th>mean_mut</th>\n",
       "      <th>seq_id</th>\n",
       "      <th>context</th>\n",
       "      <th>cell_line</th>\n",
       "      <th>path_y</th>\n",
       "      <th>fold</th>\n",
       "    </tr>\n",
       "  </thead>\n",
       "  <tbody>\n",
       "    <tr>\n",
       "      <th>0</th>\n",
       "      <td>0</td>\n",
       "      <td>0.477846</td>\n",
       "      <td>../results//context_dependence_test_100/enform...</td>\n",
       "      <td>14.784366</td>\n",
       "      <td>2.222776</td>\n",
       "      <td>7.719713</td>\n",
       "      <td>XPO5_chr6_43576038_-.pickle</td>\n",
       "      <td>other</td>\n",
       "      <td>PC-3</td>\n",
       "      <td>../results/context_dependence_test_100/enforme...</td>\n",
       "      <td>train</td>\n",
       "    </tr>\n",
       "    <tr>\n",
       "      <th>1</th>\n",
       "      <td>1</td>\n",
       "      <td>0.927049</td>\n",
       "      <td>../results//context_dependence_test_100/enform...</td>\n",
       "      <td>14.783938</td>\n",
       "      <td>0.652025</td>\n",
       "      <td>1.078504</td>\n",
       "      <td>UPK2_chr11_118956297_+.pickle</td>\n",
       "      <td>other</td>\n",
       "      <td>PC-3</td>\n",
       "      <td>../results/context_dependence_test_100/enforme...</td>\n",
       "      <td>train</td>\n",
       "    </tr>\n",
       "    <tr>\n",
       "      <th>2</th>\n",
       "      <td>2</td>\n",
       "      <td>0.879795</td>\n",
       "      <td>../results//context_dependence_test_100/enform...</td>\n",
       "      <td>14.816709</td>\n",
       "      <td>1.007191</td>\n",
       "      <td>1.781050</td>\n",
       "      <td>PLEKHB1_chr11_73647625_+.pickle</td>\n",
       "      <td>other</td>\n",
       "      <td>PC-3</td>\n",
       "      <td>../results/context_dependence_test_100/enforme...</td>\n",
       "      <td>train</td>\n",
       "    </tr>\n",
       "    <tr>\n",
       "      <th>3</th>\n",
       "      <td>3</td>\n",
       "      <td>-1.282113</td>\n",
       "      <td>../results//context_dependence_test_100/enform...</td>\n",
       "      <td>14.803543</td>\n",
       "      <td>6.064398</td>\n",
       "      <td>33.783363</td>\n",
       "      <td>ZNF606_chr19_58002819_-.pickle</td>\n",
       "      <td>silencing</td>\n",
       "      <td>PC-3</td>\n",
       "      <td>../results/context_dependence_test_100/enforme...</td>\n",
       "      <td>train</td>\n",
       "    </tr>\n",
       "    <tr>\n",
       "      <th>4</th>\n",
       "      <td>4</td>\n",
       "      <td>0.871365</td>\n",
       "      <td>../results//context_dependence_test_100/enform...</td>\n",
       "      <td>14.812580</td>\n",
       "      <td>1.361411</td>\n",
       "      <td>1.905413</td>\n",
       "      <td>SLC25A30_chr13_45418373_-.pickle</td>\n",
       "      <td>other</td>\n",
       "      <td>PC-3</td>\n",
       "      <td>../results/context_dependence_test_100/enforme...</td>\n",
       "      <td>train</td>\n",
       "    </tr>\n",
       "    <tr>\n",
       "      <th>...</th>\n",
       "      <td>...</td>\n",
       "      <td>...</td>\n",
       "      <td>...</td>\n",
       "      <td>...</td>\n",
       "      <td>...</td>\n",
       "      <td>...</td>\n",
       "      <td>...</td>\n",
       "      <td>...</td>\n",
       "      <td>...</td>\n",
       "      <td>...</td>\n",
       "      <td>...</td>\n",
       "    </tr>\n",
       "    <tr>\n",
       "      <th>9339</th>\n",
       "      <td>9995</td>\n",
       "      <td>0.696849</td>\n",
       "      <td>../results//context_dependence_test_100/enform...</td>\n",
       "      <td>447.238680</td>\n",
       "      <td>36.277294</td>\n",
       "      <td>135.580690</td>\n",
       "      <td>CCT3_chr1_156338257_-.pickle</td>\n",
       "      <td>other</td>\n",
       "      <td>PC-3</td>\n",
       "      <td>../results/context_dependence_test_100/enforme...</td>\n",
       "      <td>train</td>\n",
       "    </tr>\n",
       "    <tr>\n",
       "      <th>9340</th>\n",
       "      <td>9996</td>\n",
       "      <td>0.673640</td>\n",
       "      <td>../results//context_dependence_test_100/enform...</td>\n",
       "      <td>449.256040</td>\n",
       "      <td>28.989002</td>\n",
       "      <td>146.619230</td>\n",
       "      <td>MDH2_chr7_76048105_+.pickle</td>\n",
       "      <td>other</td>\n",
       "      <td>PC-3</td>\n",
       "      <td>../results/context_dependence_test_100/enforme...</td>\n",
       "      <td>train</td>\n",
       "    </tr>\n",
       "    <tr>\n",
       "      <th>9341</th>\n",
       "      <td>9997</td>\n",
       "      <td>0.550541</td>\n",
       "      <td>../results//context_dependence_test_100/enform...</td>\n",
       "      <td>451.634580</td>\n",
       "      <td>31.148926</td>\n",
       "      <td>202.991270</td>\n",
       "      <td>HSP90B1_chr12_103930409_+.pickle</td>\n",
       "      <td>other</td>\n",
       "      <td>PC-3</td>\n",
       "      <td>../results/context_dependence_test_100/enforme...</td>\n",
       "      <td>train</td>\n",
       "    </tr>\n",
       "    <tr>\n",
       "      <th>9342</th>\n",
       "      <td>9998</td>\n",
       "      <td>0.529612</td>\n",
       "      <td>../results//context_dependence_test_100/enform...</td>\n",
       "      <td>454.693760</td>\n",
       "      <td>20.745981</td>\n",
       "      <td>213.882630</td>\n",
       "      <td>ITGB1_chr10_32958230_-.pickle</td>\n",
       "      <td>other</td>\n",
       "      <td>PC-3</td>\n",
       "      <td>../results/context_dependence_test_100/enforme...</td>\n",
       "      <td>train</td>\n",
       "    </tr>\n",
       "    <tr>\n",
       "      <th>9343</th>\n",
       "      <td>9999</td>\n",
       "      <td>0.435500</td>\n",
       "      <td>../results//context_dependence_test_100/enform...</td>\n",
       "      <td>482.527680</td>\n",
       "      <td>36.675526</td>\n",
       "      <td>272.386660</td>\n",
       "      <td>CSTB_chr21_43776318_-.pickle</td>\n",
       "      <td>other</td>\n",
       "      <td>PC-3</td>\n",
       "      <td>../results/context_dependence_test_100/enforme...</td>\n",
       "      <td>train</td>\n",
       "    </tr>\n",
       "  </tbody>\n",
       "</table>\n",
       "<p>9344 rows × 11 columns</p>\n",
       "</div>"
      ],
      "text/plain": [
       "      Unnamed: 0  delta_mean   \n",
       "0              0    0.477846  \\\n",
       "1              1    0.927049   \n",
       "2              2    0.879795   \n",
       "3              3   -1.282113   \n",
       "4              4    0.871365   \n",
       "...          ...         ...   \n",
       "9339        9995    0.696849   \n",
       "9340        9996    0.673640   \n",
       "9341        9997    0.550541   \n",
       "9342        9998    0.529612   \n",
       "9343        9999    0.435500   \n",
       "\n",
       "                                                 path_x          wt   \n",
       "0     ../results//context_dependence_test_100/enform...   14.784366  \\\n",
       "1     ../results//context_dependence_test_100/enform...   14.783938   \n",
       "2     ../results//context_dependence_test_100/enform...   14.816709   \n",
       "3     ../results//context_dependence_test_100/enform...   14.803543   \n",
       "4     ../results//context_dependence_test_100/enform...   14.812580   \n",
       "...                                                 ...         ...   \n",
       "9339  ../results//context_dependence_test_100/enform...  447.238680   \n",
       "9340  ../results//context_dependence_test_100/enform...  449.256040   \n",
       "9341  ../results//context_dependence_test_100/enform...  451.634580   \n",
       "9342  ../results//context_dependence_test_100/enform...  454.693760   \n",
       "9343  ../results//context_dependence_test_100/enform...  482.527680   \n",
       "\n",
       "            std    mean_mut                            seq_id    context   \n",
       "0      2.222776    7.719713       XPO5_chr6_43576038_-.pickle      other  \\\n",
       "1      0.652025    1.078504     UPK2_chr11_118956297_+.pickle      other   \n",
       "2      1.007191    1.781050   PLEKHB1_chr11_73647625_+.pickle      other   \n",
       "3      6.064398   33.783363    ZNF606_chr19_58002819_-.pickle  silencing   \n",
       "4      1.361411    1.905413  SLC25A30_chr13_45418373_-.pickle      other   \n",
       "...         ...         ...                               ...        ...   \n",
       "9339  36.277294  135.580690      CCT3_chr1_156338257_-.pickle      other   \n",
       "9340  28.989002  146.619230       MDH2_chr7_76048105_+.pickle      other   \n",
       "9341  31.148926  202.991270  HSP90B1_chr12_103930409_+.pickle      other   \n",
       "9342  20.745981  213.882630     ITGB1_chr10_32958230_-.pickle      other   \n",
       "9343  36.675526  272.386660      CSTB_chr21_43776318_-.pickle      other   \n",
       "\n",
       "     cell_line                                             path_y   fold  \n",
       "0         PC-3  ../results/context_dependence_test_100/enforme...  train  \n",
       "1         PC-3  ../results/context_dependence_test_100/enforme...  train  \n",
       "2         PC-3  ../results/context_dependence_test_100/enforme...  train  \n",
       "3         PC-3  ../results/context_dependence_test_100/enforme...  train  \n",
       "4         PC-3  ../results/context_dependence_test_100/enforme...  train  \n",
       "...        ...                                                ...    ...  \n",
       "9339      PC-3  ../results/context_dependence_test_100/enforme...  train  \n",
       "9340      PC-3  ../results/context_dependence_test_100/enforme...  train  \n",
       "9341      PC-3  ../results/context_dependence_test_100/enforme...  train  \n",
       "9342      PC-3  ../results/context_dependence_test_100/enforme...  train  \n",
       "9343      PC-3  ../results/context_dependence_test_100/enforme...  train  \n",
       "\n",
       "[9344 rows x 11 columns]"
      ]
     },
     "execution_count": 26,
     "metadata": {},
     "output_type": "execute_result"
    }
   ],
   "source": [
    "classified_seqs"
   ]
  },
  {
   "cell_type": "code",
   "execution_count": null,
   "id": "d9db529f-e727-4d54-85ea-73edc15bee30",
   "metadata": {},
   "outputs": [],
   "source": []
  }
 ],
 "metadata": {
  "kernelspec": {
   "display_name": "Python 3 (ipykernel)",
   "language": "python",
   "name": "python3"
  },
  "language_info": {
   "codemirror_mode": {
    "name": "ipython",
    "version": 3
   },
   "file_extension": ".py",
   "mimetype": "text/x-python",
   "name": "python",
   "nbconvert_exporter": "python",
   "pygments_lexer": "ipython3",
   "version": "3.9.16"
  }
 },
 "nbformat": 4,
 "nbformat_minor": 5
}
