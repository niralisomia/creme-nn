{
 "cells": [
  {
   "cell_type": "code",
   "execution_count": 3,
   "id": "a124605e-bc17-4fe6-8f6b-1760b1d56039",
   "metadata": {},
   "outputs": [
    {
     "name": "stdout",
     "output_type": "stream",
     "text": [
      "The autoreload extension is already loaded. To reload it, use:\n",
      "  %reload_ext autoreload\n"
     ]
    }
   ],
   "source": [
    "%load_ext autoreload\n",
    "%autoreload 2\n",
    "import pandas as pd\n",
    "import numpy as np\n",
    "import sys\n",
    "sys.path.append('../creme/')\n",
    "import custom_model\n",
    "import creme\n",
    "import utils\n",
    "import glob\n",
    "from tqdm import tqdm\n",
    "import matplotlib.pyplot as plt\n",
    "import seaborn as sns\n",
    "import pyranges as pr\n",
    "import shutil\n",
    "import pickle\n",
    "import kipoiseq\n",
    "from itertools import combinations\n",
    "import scipy\n",
    "import pyBigWig\n",
    "import os\n",
    "import umap\n",
    "import scipy\n",
    "from sklearn.preprocessing import StandardScaler\n",
    "import statsmodels\n",
    "from statannotations.Annotator import Annotator\n",
    "import plotly.express as px"
   ]
  },
  {
   "cell_type": "code",
   "execution_count": 4,
   "id": "9816e786-0a97-420b-b37f-6e94de7eb1b9",
   "metadata": {},
   "outputs": [
    {
     "name": "stderr",
     "output_type": "stream",
     "text": [
      "2024-01-24 01:54:47.058193: I tensorflow/core/platform/cpu_feature_guard.cc:193] This TensorFlow binary is optimized with oneAPI Deep Neural Network Library (oneDNN) to use the following CPU instructions in performance-critical operations:  SSE4.1 SSE4.2 AVX AVX2 FMA\n",
      "To enable them in other operations, rebuild TensorFlow with the appropriate compiler flags.\n",
      "2024-01-24 01:54:47.489494: I tensorflow/core/common_runtime/gpu/gpu_device.cc:1613] Created device /job:localhost/replica:0/task:0/device:GPU:0 with 61273 MB memory:  -> device: 0, name: NVIDIA A100 80GB PCIe, pci bus id: 0000:07:00.0, compute capability: 8.0\n"
     ]
    }
   ],
   "source": [
    "targets = pd.read_csv('../data/enformer_targets_human.txt', sep='\\t')\n",
    "cre_size = 5000\n",
    "model = custom_model.Enformer()"
   ]
  },
  {
   "cell_type": "code",
   "execution_count": 5,
   "id": "24f71b36-cf97-4fc5-92f3-1fc527a899fc",
   "metadata": {},
   "outputs": [],
   "source": [
    "def convert_pvalue_to_asterisks(pvalue):\n",
    "    if pvalue <= 0.0001:\n",
    "        return \"****\"\n",
    "    elif pvalue <= 0.001:\n",
    "        return \"***\"\n",
    "    elif pvalue <= 0.01:\n",
    "        return \"**\"\n",
    "    elif pvalue <= 0.05:\n",
    "        return \"*\"\n",
    "    return \"ns\"\n",
    "\n"
   ]
  },
  {
   "cell_type": "code",
   "execution_count": 6,
   "id": "3082816c-df6c-4a25-a9d6-17fb0ce834d3",
   "metadata": {},
   "outputs": [],
   "source": [
    "def plot_umap(all_features, labels):\n",
    "    reducer = umap.UMAP(random_state=42)\n",
    "    scaled_penguin_data = StandardScaler().fit_transform(all_features)\n",
    "    embedding = reducer.fit_transform(scaled_penguin_data)\n",
    "    print(embedding.shape)\n",
    "    ax=sns.scatterplot(\n",
    "        x=embedding[:, 0],\n",
    "        y=embedding[:, 1], hue=labels, alpha=0.3, palette=['g', 'r'])\n",
    "    \n",
    "    ax.spines['top'].set_visible(False)\n",
    "    ax.spines['right'].set_visible(False)"
   ]
  },
  {
   "cell_type": "code",
   "execution_count": 7,
   "id": "bec0730d-33b1-4e21-83fc-b53807f1f9dd",
   "metadata": {},
   "outputs": [],
   "source": [
    "cre_classifier = 'sufficiency'\n",
    "\n",
    "cres = pd.read_csv(f'../results/summary_csvs/enformer/sufficient_CREs.csv')"
   ]
  },
  {
   "cell_type": "code",
   "execution_count": 8,
   "id": "17652d69-5ae5-4749-9579-5b1d6d2af56b",
   "metadata": {},
   "outputs": [],
   "source": [
    "pdf_dir = utils.make_dir('pdfs/biochemistry/')"
   ]
  },
  {
   "cell_type": "code",
   "execution_count": 46,
   "id": "9b85a80e-a245-4ca5-85f8-5f551e171770",
   "metadata": {},
   "outputs": [],
   "source": [
    "three_mark_dfs = []\n",
    "for assay in ['histone', 'accessibility', 'tf']:\n",
    "    all_features = []\n",
    "    for cell_line in ['K562', 'GM12878', 'PC-3']:    \n",
    "        metadata = pd.read_csv(f'../data/{cell_line}/{assay}/metadata.csv')        \n",
    "        cell_df = cres[cres['cell_line']==cell_line]\n",
    "\n",
    "        for m, metadata_row in metadata.iterrows(): # per bigwig track\n",
    "            # get generic descriptors\n",
    "            bw_id = metadata_row['File accession']\n",
    "            \n",
    "            if assay == 'accessibility':\n",
    "                descr = metadata_row['Assay']\n",
    "            else:\n",
    "                descr = metadata_row['Experiment target'].split('-')[0]\n",
    "                \n",
    "            # read in values\n",
    "            bw = pyBigWig.open(f'../data/{cell_line}/{assay}/{bw_id}.bigWig')\n",
    "            \n",
    "            for cre_type, df in cell_df.groupby('tile class'): \n",
    "                vals = []\n",
    "                cre_types = []\n",
    "                cre_id = []\n",
    "                for i, row in df.iterrows():\n",
    "                    chrom, tss = row['seq_id'].split('_')[1:3]\n",
    "                    seq_start = int(tss) - model.seq_length//2\n",
    "                    cre_start = seq_start + row['tile_start']\n",
    "                    cre_end = cre_start + cre_size\n",
    "                    v = bw.values(chrom, cre_start, cre_end)\n",
    "                    vals.append(np.max(v))\n",
    "                    cre_types.append(cre_type)\n",
    "                    cre_id.append(f\"{chrom}_{cre_start}_{cre_end}\")\n",
    "                df = pd.DataFrame([vals, cre_types, cre_id]).T\n",
    "                df.columns=['Mean coverage', 'CRE type', 'CRE id']\n",
    "                df['assay'] = assay\n",
    "                df['cell line'] = cell_line    \n",
    "                df['epigenetic mark'] = descr\n",
    "                df['track_id'] = m\n",
    "                \n",
    "                all_features.append(df)\n",
    "                \n",
    "    all_features = pd.concat(all_features)\n",
    "    three_mark_dfs.append(all_features)\n",
    "histone_df, accessibility_df, tf_df = three_mark_dfs"
   ]
  },
  {
   "cell_type": "markdown",
   "id": "8b246c9c-958a-45f2-ac83-68317ff5cecd",
   "metadata": {},
   "source": [
    "# Histone marks"
   ]
  },
  {
   "cell_type": "code",
   "execution_count": 47,
   "id": "260e1242-068a-4d09-910c-61e25036fb8b",
   "metadata": {},
   "outputs": [
    {
     "data": {
      "image/png": "[encoded data removed]",
      "text/plain": [
       "<Figure size 1300x200 with 1 Axes>"
      ]
     },
     "metadata": {},
     "output_type": "display_data"
    },
    {
     "data": {
      "image/png": "[encoded data removed]",
      "text/plain": [
       "<Figure size 1300x200 with 1 Axes>"
      ]
     },
     "metadata": {},
     "output_type": "display_data"
    },
    {
     "data": {
      "image/png": "[encoded data removed]",
      "text/plain": [
       "<Figure size 1300x200 with 1 Axes>"
      ]
     },
     "metadata": {},
     "output_type": "display_data"
    }
   ],
   "source": [
    "unique_histone_df = []\n",
    "for cell_line in ['K562', 'GM12878', 'PC-3']:\n",
    "    cell_line_hist_features = histone_df[histone_df['cell line']==cell_line]\n",
    "    if cell_line == 'K562':\n",
    "        epi_diff_vals = []\n",
    "        for mark, mark_df in cell_line_hist_features.groupby('epigenetic mark'):\n",
    "            enh_df, sil_df = [df['Mean coverage'].mean() for _, df in mark_df.groupby('CRE type')]\n",
    "            diff = enh_df - sil_df\n",
    "            epi_diff_vals.append([mark, diff])\n",
    "        epi_diff_vals = pd.DataFrame(epi_diff_vals)\n",
    "        hist_order = epi_diff_vals.sort_values(1)[0].values[::-1]\n",
    "\n",
    "    mean_df = []\n",
    "    for (mark, _), mark_df in cell_line_hist_features.groupby(['epigenetic mark', 'CRE id']):\n",
    "        if mark_df.shape[0] > 1:\n",
    "            mark_df['Mean coverage'] = mark_df['Mean coverage'].values.mean()\n",
    "        mark_df = mark_df.iloc[0]\n",
    "        mean_df.append(mark_df)\n",
    "    mean_df = pd.DataFrame(mean_df)\n",
    "    unique_histone_df.append(mean_df)\n",
    "    fig, axes = plt.subplots(1, figsize=[13,2])\n",
    "\n",
    "    ax=sns.boxplot(data=mean_df.sort_values('CRE type'), x='epigenetic mark', y='Mean coverage', hue='CRE type', showfliers=False,\n",
    "                   order=hist_order,\n",
    "                  palette={'Enhancer':'g', 'Silencer':'r'})\n",
    "    ax.spines['top'].set_visible(False)\n",
    "    ax.spines['right'].set_visible(False)\n",
    "    ax.set_title(cell_line)\n",
    "    nobs = []\n",
    "    for mark in hist_order:\n",
    "        df = mean_df[mean_df['epigenetic mark'] == mark]\n",
    "        if df.shape[0] > 0:\n",
    "            annotation = convert_pvalue_to_asterisks(scipy.stats.mannwhitneyu(df[df['CRE type']=='Enhancer']['Mean coverage'].values, \n",
    "                                                                               df[df['CRE type']=='Silencer']['Mean coverage'].values)[1])\n",
    "            nobs.append(annotation)\n",
    "        else:\n",
    "            nobs.append('')\n",
    "    pos = range(len(nobs))\n",
    "\n",
    "    for tick,label in zip(pos, ax.get_xticklabels()):\n",
    "        ax.text(pos[tick]-0.18,\n",
    "                ax.get_yticks().max()*0.6,\n",
    "                nobs[tick])\n",
    "    plt.legend(bbox_to_anchor=[1.15,1])\n",
    "    plt.show()\n",
    "unique_histone_df = pd.concat(unique_histone_df)"
   ]
  },
  {
   "cell_type": "markdown",
   "id": "321050cb-79b1-47f6-863c-8aa3bdcb16b9",
   "metadata": {},
   "source": [
    "# Accessibility"
   ]
  },
  {
   "cell_type": "code",
   "execution_count": 48,
   "id": "df7ba336-71ba-4817-ac9c-63d0d98168e0",
   "metadata": {},
   "outputs": [
    {
     "data": {
      "image/png": "[encoded data removed]",
      "text/plain": [
       "<Figure size 300x200 with 1 Axes>"
      ]
     },
     "metadata": {},
     "output_type": "display_data"
    },
    {
     "data": {
      "image/png": "[encoded data removed]",
      "text/plain": [
       "<Figure size 300x200 with 1 Axes>"
      ]
     },
     "metadata": {},
     "output_type": "display_data"
    },
    {
     "data": {
      "image/png": "[encoded data removed]",
      "text/plain": [
       "<Figure size 300x200 with 1 Axes>"
      ]
     },
     "metadata": {},
     "output_type": "display_data"
    },
    {
     "data": {
      "image/png": "[encoded data removed]",
      "text/plain": [
       "<Figure size 300x200 with 1 Axes>"
      ]
     },
     "metadata": {},
     "output_type": "display_data"
    },
    {
     "data": {
      "image/png": "[encoded data removed]",
      "text/plain": [
       "<Figure size 300x200 with 1 Axes>"
      ]
     },
     "metadata": {},
     "output_type": "display_data"
    },
    {
     "data": {
      "image/png": "[encoded data removed]",
      "text/plain": [
       "<Figure size 300x200 with 1 Axes>"
      ]
     },
     "metadata": {},
     "output_type": "display_data"
    }
   ],
   "source": [
    "unique_acc_df = []\n",
    "for cell_line in ['K562', 'GM12878', 'PC-3']:\n",
    "    cell_line_acc_features = accessibility_df[accessibility_df['cell line']==cell_line]\n",
    "    order = ['DNase-seq', 'ATAC-seq']\n",
    "\n",
    "    mean_df = []\n",
    "    for (mark, _), mark_df in cell_line_acc_features.groupby(['epigenetic mark', 'CRE id']):\n",
    "        if mark_df.shape[0] > 1:\n",
    "            mark_df['Mean coverage'] = mark_df['Mean coverage'].values.mean()\n",
    "        mark_df = mark_df.iloc[0]\n",
    "        mean_df.append(mark_df)\n",
    "    mean_df = pd.DataFrame(mean_df)\n",
    "    unique_acc_df.append(mean_df)\n",
    "\n",
    "    for acc_type, acc_df in mean_df.groupby('epigenetic mark'):\n",
    "        fig, axes = plt.subplots(1, figsize=[3,2])\n",
    "    \n",
    "        ax=sns.boxplot(data=acc_df.sort_values('CRE type'), x='epigenetic mark', y='Mean coverage', hue='CRE type', showfliers=False,\n",
    "                       # order=order,\n",
    "                       \n",
    "                      palette={'Enhancer':'g', 'Silencer':'r'})\n",
    "        ax.spines['top'].set_visible(False)\n",
    "        ax.spines['right'].set_visible(False)\n",
    "        \n",
    "        ax.set_title(cell_line)\n",
    "        nobs = [convert_pvalue_to_asterisks(scipy.stats.mannwhitneyu(acc_df[acc_df['CRE type']=='Enhancer']['Mean coverage'].values, \n",
    "                                                                     acc_df[acc_df['CRE type']=='Silencer']['Mean coverage'].values)[1])]\n",
    "\n",
    "        pos = range(len(nobs))\n",
    "    \n",
    "        for tick,label in zip(pos, ax.get_xticklabels()):\n",
    "            ax.text(pos[tick]-0.05,\n",
    "                    ax.get_yticks().max()*0.6,\n",
    "                    nobs[tick])\n",
    "        plt.legend(bbox_to_anchor=[1.3,1])\n",
    "        plt.show()\n",
    "unique_acc_df = pd.concat(unique_acc_df)"
   ]
  },
  {
   "cell_type": "code",
   "execution_count": null,
   "id": "96b8146a-a1f5-46b7-ab27-d068640fbffa",
   "metadata": {},
   "outputs": [],
   "source": []
  },
  {
   "cell_type": "code",
   "execution_count": null,
   "id": "a94d9e6c-9985-47fc-a450-92a41c6ff2bc",
   "metadata": {},
   "outputs": [],
   "source": []
  },
  {
   "cell_type": "markdown",
   "id": "937a74d7-6652-4398-bb57-921516950903",
   "metadata": {},
   "source": [
    "# TF"
   ]
  },
  {
   "cell_type": "code",
   "execution_count": 49,
   "id": "10a691e8-d97b-4877-8384-af25b6a05311",
   "metadata": {},
   "outputs": [],
   "source": [
    "unique_tf_df = []\n",
    "for cell_line in ['K562', 'GM12878', 'PC-3']:\n",
    "    cell_line_tf_features = tf_df[tf_df['cell line']==cell_line]\n",
    "\n",
    "    mean_df = []\n",
    "    for (mark, _), mark_df in cell_line_tf_features.groupby(['epigenetic mark', 'CRE id']):\n",
    "        if mark_df.shape[0] > 1:\n",
    "            mark_df['Mean coverage'] = mark_df['Mean coverage'].values.mean()\n",
    "        mark_df = mark_df.iloc[0]\n",
    "        mean_df.append(mark_df)\n",
    "    mean_df = pd.DataFrame(mean_df)\n",
    "    unique_tf_df.append(mean_df)\n",
    "unique_tf_df = pd.concat(unique_tf_df)"
   ]
  },
  {
   "cell_type": "code",
   "execution_count": 66,
   "id": "87c4dd6a-ae9a-4bf8-b5e9-6e5e87cfeafa",
   "metadata": {},
   "outputs": [],
   "source": [
    "p_vals = []\n",
    "fcs = []\n",
    "logfc = []\n",
    "marks = []\n",
    "one_tf_df = unique_tf_df[unique_tf_df['cell line']=='K562']\n",
    "for epi_mark, df in one_tf_df.groupby('epigenetic mark'):\n",
    "    x = df[df['CRE type']=='Enhancer']['Mean coverage'].values\n",
    "    y = df[df['CRE type']=='Silencer']['Mean coverage'].values\n",
    "    p_val = scipy.stats.mannwhitneyu(x, y)[1]\n",
    "    p_vals.append(p_val)\n",
    "    logfc.append(np.log(x.mean()/y.mean()))\n",
    "    fcs.append(x.mean()/y.mean())\n",
    "    marks.append(epi_mark)\n",
    "\n",
    "res = statsmodels.stats.multitest.multipletests(p_vals, method='bonferroni')[1]\n",
    "adjusted_pvals = -np.log10(res)\n",
    "df = pd.DataFrame([fcs, logfc, adjusted_pvals, p_vals, marks]).T\n",
    "df.columns =  ['enhancer / silencer', 'log(enhancer / silencer)', '-log10(pvalue)', 'pvalue', 'mark']\n",
    "p_thresh = -np.log10(0.05)\n",
    "df['sign'] = [True if p> p_thresh else False for p in df['-log10(pvalue)'].values]\n",
    "color_dict = {True: 'red', False: 'grey'}"
   ]
  },
  {
   "cell_type": "code",
   "execution_count": 67,
   "id": "b7346802-f5ef-436c-b01a-bbc4a0819f9b",
   "metadata": {},
   "outputs": [
    {
     "data": {
      "image/png": "[encoded data removed]",
      "text/plain": [
       "<Figure size 640x480 with 1 Axes>"
      ]
     },
     "metadata": {},
     "output_type": "display_data"
    }
   ],
   "source": [
    "ax=sns.scatterplot(data=df, x='log(enhancer / silencer)', y='-log10(pvalue)', alpha=0.3, hue='sign', palette=color_dict, edgecolor=None)\n",
    "p_thresh = -np.log10(0.05)\n",
    "plt.hlines(p_thresh, -0.8, 0.8, color='r')\n",
    "ax.spines['top'].set_visible(False)\n",
    "ax.spines['right'].set_visible(False)"
   ]
  },
  {
   "cell_type": "code",
   "execution_count": 52,
   "id": "be9903fa-eb70-4a24-95ec-3b6aadf5e53c",
   "metadata": {},
   "outputs": [
    {
     "data": {
      "application/vnd.plotly.v1+json": {
       "config": {
        "plotlyServerURL": "https://plot.ly"
       },
       "data": [
        {
         "customdata": [
          [
           "ADNP"
          ],
          [
           "AFF4"
          ],
          [
           "AGO1"
          ],
          [
           "ARHGAP35"
          ],
          [
           "ARID2"
          ],
          [
           "ARID3B"
          ],
          [
           "ARID4B"
          ],
          [
           "ARNT"
          ],
          [
           "ASH1L"
          ],
          [
           "ATF1"
          ],
          [
           "ATF2"
          ],
          [
           "ATF3"
          ],
          [
           "ATF6"
          ],
          [
           "ATF7"
          ],
          [
           "BACH1"
          ],
          [
           "BCL6"
          ],
          [
           "BCLAF1"
          ],
          [
           "BDP1"
          ],
          [
           "BMI1"
          ],
          [
           "BRCA1"
          ],
          [
           "BRF1"
          ],
          [
           "BRF2"
          ],
          [
           "C11orf30"
          ],
          [
           "CAMTA2"
          ],
          [
           "CBFA2T2"
          ],
          [
           "CBFA2T3"
          ],
          [
           "CBFB"
          ],
          [
           "CBX2"
          ],
          [
           "CBX3"
          ],
          [
           "CBX8"
          ],
          [
           "CC2D1A"
          ],
          [
           "CCAR2"
          ],
          [
           "CCNT2"
          ],
          [
           "CDC5L"
          ],
          [
           "CEBPG"
          ],
          [
           "CEBPZ"
          ],
          [
           "CGGBP1"
          ],
          [
           "CHAMP1"
          ],
          [
           "CHCHD3"
          ],
          [
           "CHD1"
          ],
          [
           "CHD2"
          ],
          [
           "CHD4"
          ],
          [
           "CHD7"
          ],
          [
           "CLOCK"
          ],
          [
           "COPS2"
          ],
          [
           "CREB1"
          ],
          [
           "CREB3"
          ],
          [
           "CREB3L1"
          ],
          [
           "CREB5"
          ],
          [
           "CREBBP"
          ],
          [
           "CREM"
          ],
          [
           "CSDE1"
          ],
          [
           "CTBP1"
          ],
          [
           "CTCF"
          ],
          [
           "CTCFL"
          ],
          [
           "DACH1"
          ],
          [
           "DDIT3"
          ],
          [
           "DDX20"
          ],
          [
           "DEAF1"
          ],
          [
           "DIDO1"
          ],
          [
           "DLX4"
          ],
          [
           "DMTF1"
          ],
          [
           "DNMT1"
          ],
          [
           "E2F3"
          ],
          [
           "E2F4"
          ],
          [
           "E2F5"
          ],
          [
           "E2F6"
          ],
          [
           "E2F7"
          ],
          [
           "E2F8"
          ],
          [
           "EGR1"
          ],
          [
           "EHMT2"
          ],
          [
           "ELF1"
          ],
          [
           "ELF2"
          ],
          [
           "ELF4"
          ],
          [
           "ELK1"
          ],
          [
           "ELK3"
          ],
          [
           "EP400"
          ],
          [
           "ERF"
          ],
          [
           "ESRRA"
          ],
          [
           "ESRRB"
          ],
          [
           "ETS1"
          ],
          [
           "ETS2"
          ],
          [
           "ETV1"
          ],
          [
           "ETV5"
          ],
          [
           "ETV6"
          ],
          [
           "EWSR1"
          ],
          [
           "EZH2"
          ],
          [
           "FIP1L1"
          ],
          [
           "FOS"
          ],
          [
           "FOSL1"
          ],
          [
           "FOXA1"
          ],
          [
           "FOXA3"
          ],
          [
           "FOXJ2"
          ],
          [
           "FOXJ3"
          ],
          [
           "FOXK1"
          ],
          [
           "FOXM1"
          ],
          [
           "FOXO4"
          ],
          [
           "FOXP1"
          ],
          [
           "FOXP4"
          ],
          [
           "FUS"
          ],
          [
           "GABPA"
          ],
          [
           "GABPB2"
          ],
          [
           "GATA1"
          ],
          [
           "GATA2"
          ],
          [
           "GATAD2A"
          ],
          [
           "GATAD2B"
          ],
          [
           "GMEB1"
          ],
          [
           "GTF2A2"
          ],
          [
           "GTF2B"
          ],
          [
           "GTF2E2"
          ],
          [
           "GTF2F1"
          ],
          [
           "GTF2I"
          ],
          [
           "GTF3C2"
          ],
          [
           "HDAC1"
          ],
          [
           "HDAC2"
          ],
          [
           "HDAC3"
          ],
          [
           "HDAC6"
          ],
          [
           "HDAC8"
          ],
          [
           "HEY1"
          ],
          [
           "HINFP"
          ],
          [
           "HIVEP1"
          ],
          [
           "HLTF"
          ],
          [
           "HMBOX1"
          ],
          [
           "HMG20B"
          ],
          [
           "HMGN3"
          ],
          [
           "HNRNPH1"
          ],
          [
           "HNRNPK"
          ],
          [
           "HNRNPL"
          ],
          [
           "HNRNPLL"
          ],
          [
           "HNRNPUL1"
          ],
          [
           "HOMEZ"
          ],
          [
           "HOXB6"
          ],
          [
           "HSF4"
          ],
          [
           "ID3"
          ],
          [
           "IFI16"
          ],
          [
           "ILF3"
          ],
          [
           "ILK"
          ],
          [
           "IRF1"
          ],
          [
           "IRF2"
          ],
          [
           "IRF9"
          ],
          [
           "JUN"
          ],
          [
           "JUNB"
          ],
          [
           "KAT2B"
          ],
          [
           "KAT8"
          ],
          [
           "KDM2B"
          ],
          [
           "KDM4B"
          ],
          [
           "KDM5B"
          ],
          [
           "KHSRP"
          ],
          [
           "KLF1"
          ],
          [
           "KLF10"
          ],
          [
           "KLF13"
          ],
          [
           "KLF16"
          ],
          [
           "L3MBTL2"
          ],
          [
           "LARP7"
          ],
          [
           "LEF1"
          ],
          [
           "MAFF"
          ],
          [
           "MAFG"
          ],
          [
           "MAFK"
          ],
          [
           "MAX"
          ],
          [
           "MBD1"
          ],
          [
           "MBD2"
          ],
          [
           "MCM2"
          ],
          [
           "MCM3"
          ],
          [
           "MCM5"
          ],
          [
           "MCM7"
          ],
          [
           "MED1"
          ],
          [
           "MEF2A"
          ],
          [
           "MEF2D"
          ],
          [
           "MEIS2"
          ],
          [
           "MGA"
          ],
          [
           "MIER1"
          ],
          [
           "MITF"
          ],
          [
           "MLLT1"
          ],
          [
           "MNT"
          ],
          [
           "MTA1"
          ],
          [
           "MTA2"
          ],
          [
           "MTA3"
          ],
          [
           "MTF1"
          ],
          [
           "MXD1"
          ],
          [
           "MYBL2"
          ],
          [
           "MYC"
          ],
          [
           "MYNN"
          ],
          [
           "NCOA1"
          ],
          [
           "NCOA2"
          ],
          [
           "NCOA4"
          ],
          [
           "NCOA6"
          ],
          [
           "NCOR1"
          ],
          [
           "NELFE"
          ],
          [
           "NEUROD1"
          ],
          [
           "NFATC3"
          ],
          [
           "NFE2"
          ],
          [
           "NFE2L1"
          ],
          [
           "NFIC"
          ],
          [
           "NFIX"
          ],
          [
           "NFRKB"
          ],
          [
           "NFXL1"
          ],
          [
           "NFYA"
          ],
          [
           "NFYB"
          ],
          [
           "NKRF"
          ],
          [
           "NONO"
          ],
          [
           "NR0B1"
          ],
          [
           "NR1H2"
          ],
          [
           "NR2C1"
          ],
          [
           "NR2C2"
          ],
          [
           "NR2F6"
          ],
          [
           "NR3C1"
          ],
          [
           "NR4A1"
          ],
          [
           "NRF1"
          ],
          [
           "NUFIP1"
          ],
          [
           "OTX1"
          ],
          [
           "PATZ1"
          ],
          [
           "PBX2"
          ],
          [
           "PCBP1"
          ],
          [
           "PCBP2"
          ],
          [
           "PHB"
          ],
          [
           "PHF20"
          ],
          [
           "PHF21A"
          ],
          [
           "PHF8"
          ],
          [
           "PHTF2"
          ],
          [
           "PKNOX1"
          ],
          [
           "POLR2A"
          ],
          [
           "POLR2AphosphoS2"
          ],
          [
           "POLR2AphosphoS5"
          ],
          [
           "POLR2B"
          ],
          [
           "POLR2G"
          ],
          [
           "POLR2H"
          ],
          [
           "POLR3A"
          ],
          [
           "POLR3G"
          ],
          [
           "POU5F1"
          ],
          [
           "PPARD"
          ],
          [
           "PRDM10"
          ],
          [
           "PREB"
          ],
          [
           "PRPF4"
          ],
          [
           "PTBP1"
          ],
          [
           "PTRF"
          ],
          [
           "PTTG1"
          ],
          [
           "PURB"
          ],
          [
           "PYGO2"
          ],
          [
           "RAD21"
          ],
          [
           "RAD51"
          ],
          [
           "RB1"
          ],
          [
           "RBBP5"
          ],
          [
           "RBM14"
          ],
          [
           "RBM15"
          ],
          [
           "RBM17"
          ],
          [
           "RBM22"
          ],
          [
           "RBM25"
          ],
          [
           "RBM34"
          ],
          [
           "RBM39"
          ],
          [
           "RBPJ"
          ],
          [
           "RELA"
          ],
          [
           "RERE"
          ],
          [
           "REST"
          ],
          [
           "RFX1"
          ],
          [
           "RFX7"
          ],
          [
           "RHOXF2B"
          ],
          [
           "RLF"
          ],
          [
           "RNF2"
          ],
          [
           "RNF219"
          ],
          [
           "RREB1"
          ],
          [
           "RUNX1"
          ],
          [
           "SAFB"
          ],
          [
           "SAFB2"
          ],
          [
           "SAP30"
          ],
          [
           "SFPQ"
          ],
          [
           "SIN3A"
          ],
          [
           "SIN3B"
          ],
          [
           "SIRT6"
          ],
          [
           "SIX5"
          ],
          [
           "SKIL"
          ],
          [
           "SLC30A9"
          ],
          [
           "SMAD1"
          ],
          [
           "SMAD2"
          ],
          [
           "SMAD5"
          ],
          [
           "SMARCB1"
          ],
          [
           "SMC3"
          ],
          [
           "SNAPC5"
          ],
          [
           "SNIP1"
          ],
          [
           "SNRNP70"
          ],
          [
           "SOX6"
          ],
          [
           "SP1"
          ],
          [
           "SP2"
          ],
          [
           "SPI1"
          ],
          [
           "SREBF1"
          ],
          [
           "SREBF2"
          ],
          [
           "SRF"
          ],
          [
           "SRSF1"
          ],
          [
           "SRSF3"
          ],
          [
           "SRSF7"
          ],
          [
           "SRSF9"
          ],
          [
           "STAT5A"
          ],
          [
           "STAT5B"
          ],
          [
           "SUPT5H"
          ],
          [
           "SUZ12"
          ],
          [
           "TAF1"
          ],
          [
           "TAF15"
          ],
          [
           "TAF7"
          ],
          [
           "TAF9B"
          ],
          [
           "TAL1"
          ],
          [
           "TARDBP"
          ],
          [
           "TBP"
          ],
          [
           "TBPL1"
          ],
          [
           "TBX18"
          ],
          [
           "TCF12"
          ],
          [
           "TCF15"
          ],
          [
           "TCF7"
          ],
          [
           "TCF7L2"
          ],
          [
           "TCFL5"
          ],
          [
           "TEAD2"
          ],
          [
           "TEAD4"
          ],
          [
           "TFAM"
          ],
          [
           "TFCP2"
          ],
          [
           "TFDP1"
          ],
          [
           "TFE3"
          ],
          [
           "TGIF2"
          ],
          [
           "THAP1"
          ],
          [
           "THAP12"
          ],
          [
           "THAP7"
          ],
          [
           "THRA"
          ],
          [
           "THRAP3"
          ],
          [
           "THRB"
          ],
          [
           "TOE1"
          ],
          [
           "TRIM24"
          ],
          [
           "TRIM25"
          ],
          [
           "TRIM28"
          ],
          [
           "TRIP13"
          ],
          [
           "TSC22D4"
          ],
          [
           "TSHZ1"
          ],
          [
           "U2AF1"
          ],
          [
           "U2AF2"
          ],
          [
           "UBTF"
          ],
          [
           "USF1"
          ],
          [
           "USF2"
          ],
          [
           "VEZF1"
          ],
          [
           "XRCC3"
          ],
          [
           "XRCC4"
          ],
          [
           "XRCC5"
          ],
          [
           "YBX1"
          ],
          [
           "YBX3"
          ],
          [
           "YY1"
          ],
          [
           "ZBED1"
          ],
          [
           "ZBTB1"
          ],
          [
           "ZBTB11"
          ],
          [
           "ZBTB12"
          ],
          [
           "ZBTB2"
          ],
          [
           "ZBTB26"
          ],
          [
           "ZBTB33"
          ],
          [
           "ZBTB34"
          ],
          [
           "ZBTB40"
          ],
          [
           "ZBTB43"
          ],
          [
           "ZBTB49"
          ],
          [
           "ZBTB5"
          ],
          [
           "ZBTB7A"
          ],
          [
           "ZBTB8A"
          ],
          [
           "ZBTB9"
          ],
          [
           "ZC3H11A"
          ],
          [
           "ZC3H4"
          ],
          [
           "ZC3H8"
          ],
          [
           "ZEB2"
          ],
          [
           "ZFP1"
          ],
          [
           "ZFP30"
          ],
          [
           "ZFP36"
          ],
          [
           "ZFP91"
          ],
          [
           "ZFPM2"
          ],
          [
           "ZFX"
          ],
          [
           "ZHX1"
          ],
          [
           "ZKSCAN1"
          ],
          [
           "ZKSCAN3"
          ],
          [
           "ZKSCAN8"
          ],
          [
           "ZMYM3"
          ],
          [
           "ZNF12"
          ],
          [
           "ZNF121"
          ],
          [
           "ZNF133"
          ],
          [
           "ZNF134"
          ],
          [
           "ZNF140"
          ],
          [
           "ZNF143"
          ],
          [
           "ZNF146"
          ],
          [
           "ZNF148"
          ],
          [
           "ZNF165"
          ],
          [
           "ZNF174"
          ],
          [
           "ZNF175"
          ],
          [
           "ZNF184"
          ],
          [
           "ZNF197"
          ],
          [
           "ZNF212"
          ],
          [
           "ZNF215"
          ],
          [
           "ZNF217"
          ],
          [
           "ZNF224"
          ],
          [
           "ZNF232"
          ],
          [
           "ZNF253"
          ],
          [
           "ZNF257"
          ],
          [
           "ZNF263"
          ],
          [
           "ZNF274"
          ],
          [
           "ZNF277"
          ],
          [
           "ZNF280A"
          ],
          [
           "ZNF280B"
          ],
          [
           "ZNF282"
          ],
          [
           "ZNF3"
          ],
          [
           "ZNF311"
          ],
          [
           "ZNF316"
          ],
          [
           "ZNF318"
          ],
          [
           "ZNF319"
          ],
          [
           "ZNF324"
          ],
          [
           "ZNF347"
          ],
          [
           "ZNF354B"
          ],
          [
           "ZNF354C"
          ],
          [
           "ZNF395"
          ],
          [
           "ZNF397"
          ],
          [
           "ZNF398"
          ],
          [
           "ZNF407"
          ],
          [
           "ZNF408"
          ],
          [
           "ZNF41"
          ],
          [
           "ZNF431"
          ],
          [
           "ZNF436"
          ],
          [
           "ZNF444"
          ],
          [
           "ZNF445"
          ],
          [
           "ZNF449"
          ],
          [
           "ZNF507"
          ],
          [
           "ZNF511"
          ],
          [
           "ZNF512"
          ],
          [
           "ZNF518B"
          ],
          [
           "ZNF551"
          ],
          [
           "ZNF561"
          ],
          [
           "ZNF57"
          ],
          [
           "ZNF583"
          ],
          [
           "ZNF584"
          ],
          [
           "ZNF586"
          ],
          [
           "ZNF589"
          ],
          [
           "ZNF609"
          ],
          [
           "ZNF639"
          ],
          [
           "ZNF644"
          ],
          [
           "ZNF655"
          ],
          [
           "ZNF668"
          ],
          [
           "ZNF695"
          ],
          [
           "ZNF696"
          ],
          [
           "ZNF699"
          ],
          [
           "ZNF7"
          ],
          [
           "ZNF700"
          ],
          [
           "ZNF707"
          ],
          [
           "ZNF717"
          ],
          [
           "ZNF740"
          ],
          [
           "ZNF75A"
          ],
          [
           "ZNF76"
          ],
          [
           "ZNF764"
          ],
          [
           "ZNF766"
          ],
          [
           "ZNF77"
          ],
          [
           "ZNF778"
          ],
          [
           "ZNF780A"
          ],
          [
           "ZNF785"
          ],
          [
           "ZNF79"
          ],
          [
           "ZNF83"
          ],
          [
           "ZNF830"
          ],
          [
           "ZNF84"
          ],
          [
           "ZSCAN29"
          ],
          [
           "ZSCAN32"
          ],
          [
           "ZZZ3"
          ]
         ],
         "hovertemplate": "sign=False<br>log(enhancer / silencer)=%{x}<br>-log10(pvalue)=%{y}<br>mark=%{customdata[0]}<extra></extra>",
         "legendgroup": "False",
         "marker": {
          "color": "#636efa",
          "opacity": 0.5,
          "symbol": "circle"
         },
         "mode": "markers",
         "name": "False",
         "orientation": "v",
         "showlegend": true,
         "type": "scatter",
         "x": [
          0.04806076727164953,
          0.10746823889763031,
          -0.29159046072726263,
          0.0026476305373618293,
          0.09040558234412467,
          0.08383003970977426,
          0.1211296099094798,
          0.11957051952337971,
          0.1905541800337699,
          -0.026311256276217675,
          -0.011808326356374176,
          0.25720992376331775,
          0.10935878396820589,
          0.4243050614881823,
          0.21534020006016455,
          0.043009038351783664,
          0.044234280090228686,
          -0.0675694464348491,
          0.11788715019418529,
          -0.08282281496111708,
          -0.12404463447792165,
          -0.10019804831704308,
          0.4258454646132709,
          0.06906586934496535,
          1.096150145701561,
          1.555879155737368,
          0.07052591794974211,
          -0.015315695742913053,
          -0.2322704099887677,
          0.004968361278512198,
          0.226993773560377,
          0.09839076791542709,
          0.45764252056946825,
          0.1451149108314416,
          0.4389031561965036,
          0.0684779884103378,
          0.1164053043355738,
          0.061850560240515454,
          0.07882324991446238,
          0.2724713075752423,
          0.16680864013392974,
          0.1748301257067342,
          0.0847148483459453,
          0.06700561654048508,
          -0.10269819259265633,
          0.15307336816438596,
          0.04326661716329191,
          -0.02515202448226472,
          -0.017726275881508685,
          0.043602184052977395,
          0.3362015927976473,
          0.07434033950389293,
          0.30561220204360384,
          0.47132278089123425,
          -0.0556700334425055,
          0.11859927008226247,
          0.1594095313320783,
          0.12157811994920295,
          0.1149193200572505,
          0.09879210296654747,
          0.004600215206456872,
          0.030836029318142732,
          0.07010287273914315,
          0.10620340523118205,
          0.2614625778563382,
          0.12887558573736632,
          0.5051552661798971,
          0.27879425661783724,
          0.6075563349215537,
          0.41880383302537016,
          0.05764207555251096,
          0.3467095649705586,
          0.07099264069873519,
          0.05988446832459827,
          0.0361232991753883,
          0.101832169435195,
          0.13203154454421842,
          0.07434442167546343,
          0.5023973410112332,
          -0.015095731340824314,
          0.1320514672539287,
          0.004677944828382224,
          0.4430095597476974,
          0.32010276205959587,
          0.030131148921879312,
          -0.05743396390599165,
          0.05662422196847346,
          0.04120563630594607,
          0.32620233898822554,
          0.19423489889596587,
          -0.07332654949239882,
          0.19213523638702953,
          0.25348913860645866,
          -0.06832556455034045,
          0.060371817995581126,
          0.1992893312427435,
          0.10109729873702065,
          0.157246510388096,
          0.0713934989924057,
          0.0007918935634321621,
          0.28851612026544554,
          0.08124538411799063,
          0.4132155412148251,
          0.5165942014456324,
          0.08851111040332878,
          0.09410447251556091,
          -0.21603329228381196,
          0.034256735621954415,
          -0.09843580812910677,
          0.10859172355337808,
          0.04040238163820461,
          -0.03193869102162254,
          0.07878757440895023,
          0.36130052383728284,
          0.2979795652550339,
          0.17101044860736223,
          -0.07469216294460732,
          0.11005157945254283,
          0.08733585587605845,
          0.026066550172093753,
          0.10316491918701383,
          0.13752165474082662,
          0.3731861142754508,
          -0.017150667606701666,
          0.2936255962997896,
          -0.04867477987328482,
          0.11423355560738527,
          0.14391733638384116,
          0.2049316594881288,
          0.0500949549728934,
          0.07158186615344576,
          0.09798022449921835,
          0.12442049527978054,
          0.1445549479374381,
          0.11433544254932389,
          0.015217347652330201,
          0.003135466162300271,
          0.16817365242352605,
          0.29251794634057776,
          0.1410501177284399,
          0.3085449237864043,
          0.20180966261318847,
          -0.028303438352122172,
          0.05988669865630292,
          0.036549843538902914,
          0.043222830060574424,
          0.40294234264318274,
          0.08477054055449834,
          0.06654766971436937,
          0.014082615160447086,
          0.20588429851356946,
          0.4367081561089863,
          0.09219002837609687,
          0.1113887485062594,
          0.11205930197078247,
          0.49382476777937445,
          0.5247973063235004,
          0.46066997063013243,
          0.48161242989243364,
          0.039063414541369544,
          0.18073057292426015,
          -0.06794540380243252,
          -0.07391116566490398,
          -0.07774918328056868,
          -0.002505334091125767,
          -0.10060798421228288,
          0.07759116764418819,
          0.10015940486738181,
          0.4619003786271842,
          -0.008119355210927623,
          0.10850955950575464,
          0.28725790587752514,
          0.20108666124197153,
          0.5907931522765296,
          0.15522305090249858,
          0.39432359684220863,
          0.07879827063215554,
          0.09673966322615818,
          0.056825180991536,
          -0.10613279474601126,
          0.3614461576341991,
          0.021718589488610437,
          0.20678200542801173,
          0.013691204407686754,
          0.021217364720912207,
          -0.018869261308179796,
          0.4135952812749947,
          -0.15663430169841866,
          0.6168373075323769,
          0.12362901348423509,
          0.3005875464581583,
          0.0014738364050579328,
          0.14594883049155585,
          -0.06019289643146035,
          0.08843530793446093,
          0.0796470736115076,
          0.04524025428820697,
          0.16134632173404198,
          0.2585599488081114,
          0.14818507493813673,
          -0.012782023265668525,
          0.07917550428437006,
          0.06184712525175386,
          0.031486037271547244,
          0.12695361125638469,
          -0.026483934472109182,
          0.1111485891990401,
          0.5629800136359654,
          -0.03803791158735668,
          0.12808324341010155,
          0.017036990696784077,
          0.08965192676609843,
          0.11807033061764931,
          0.02113527580482474,
          0.017380859544721617,
          -0.06378294163964596,
          -0.026812495060771924,
          0.40092978235799287,
          0.012467245326507071,
          -0.04924529972623937,
          0.4475123388220822,
          0.09840766766199065,
          0.6048977170663588,
          0.0660240226558217,
          0.48651622238200687,
          0.18925263102777032,
          -0.10359554407131503,
          -0.058776849753588246,
          0.07964231664434554,
          0.03768451774112886,
          1.9690858120593795,
          0.01974373293997905,
          0.014780378489178906,
          0.11695362479402853,
          0.006405963480731291,
          0.036489843984291136,
          -0.065964019270497,
          0.07310775277166814,
          0.36567531401652076,
          0.3653805509338787,
          0.03350905677632982,
          0.4800357262665422,
          0.03215668407719146,
          -0.013820191093669776,
          0.002821100080688209,
          0.036737344722904346,
          0.1724631838667831,
          0.014958002958668868,
          0.08571478290838179,
          -0.015219361245457476,
          0.17834720740263754,
          -0.029294090525288693,
          0.03896892456988719,
          1.02283171267389,
          0.09166530172138347,
          0.15681261214824938,
          0.01411889269509939,
          0.13250885241147262,
          0.03951240964712474,
          0.18922222231598726,
          0.0068832929169511435,
          -0.11535306244370204,
          -0.08368901232324351,
          0.3981260431965638,
          -0.022424724388227586,
          0.245028779614506,
          -0.03207056061698473,
          0.02519406553281406,
          -0.16363138180326162,
          -0.09942711986879517,
          -0.02641823106837967,
          0.2613656350557908,
          0.0786135510751555,
          0.27280425616200066,
          0.11980765696762737,
          0.3149786862071109,
          0.005911806171671566,
          0.022599483403685536,
          -0.02939227355078317,
          0.23862579590815572,
          0.2066620735028532,
          0.2567692653138124,
          0.6431762254370103,
          0.12938856474733323,
          0.0899264668048047,
          0.21193556871471678,
          -0.026839872564748853,
          0.0609914404629827,
          -0.03187657557597493,
          -0.034245409200639614,
          0.420801763737585,
          0.016789757728054848,
          0.17788532405014634,
          -0.04532704977978587,
          0.3944769557921789,
          0.061623048524504766,
          -0.06317060668595016,
          0.13489163187815606,
          1.2454429601871635,
          0.08600431477146649,
          0.4234235822944523,
          0.1271703779035069,
          0.09263613856293232,
          0.8858883311992749,
          0.08048315955907448,
          0.006020186274588263,
          0.25368296637037113,
          0.08002276191931508,
          -0.0509012068213815,
          0.5122587515676066,
          -0.05499328147494002,
          0.24391190905706603,
          0.13871597721779863,
          0.3795850258775512,
          -0.05012205139306826,
          -0.08665283361937565,
          0.12893340911483653,
          0.02440127752998286,
          -0.006141131015859398,
          0.02292412714512907,
          0.1407102602197407,
          0.16570017204910098,
          0.27754259712608964,
          0.13487704679495505,
          -0.32346106182649864,
          -0.017749617852265566,
          -0.0035584336662653512,
          0.08748300448892372,
          0.02253371152041418,
          -0.10623399958611647,
          0.3681200594287851,
          0.30142832995777974,
          0.22643581995540832,
          0.5296960658138598,
          -0.25020237131138134,
          -0.11009779417190876,
          0.08928142344278356,
          0.008647974116112045,
          0.06448952598395077,
          0.3400517405527021,
          0.06568720014904982,
          0.0684626514538853,
          0.07520402661119607,
          0.10498517259830023,
          0.19219804363937598,
          0.145845782603473,
          0.10784650527849801,
          0.02826220452909381,
          0.35190901736612185,
          0.1104381808992939,
          -0.004175635177930905,
          0.01664883273064676,
          0.3663804390774896,
          -0.06448617039205234,
          0.24446061190113813,
          0.1443400077286917,
          -0.09194837733729098,
          0.08796876919292979,
          0.26889593350003305,
          0.06393482320173771,
          0.016079956314317037,
          0.14821266497852226,
          0.07908951645096123,
          0.11856614779514926,
          0.3037410256671252,
          0.03510178057110659,
          0.3056945841709441,
          0.01336902702678317,
          0.1073809106662091,
          0.2139976835458785,
          0.14305729314183557,
          0.05444084757207017,
          0.034395484863060675,
          0.38804106933127236,
          0.02320463642064506,
          -0.1123416363670646,
          0.05133487891845298,
          0.2360880197987844,
          0.11808342918059599,
          0.07466426276216864,
          0.20061348661999628,
          -0.08223157282381784,
          0.03860204906608093,
          0.13227393122889072,
          0.19587078303037347,
          -0.05212474166350357,
          -0.008818046863240298,
          0.015593275506333201,
          0.03370617312780665,
          0.1570626312975628,
          0.1427084222294125,
          -0.9685999016517526,
          0.006047688413400083,
          -0.46357568965231,
          -0.1347433838275714,
          0.01342752112279469,
          0.02536585788991917,
          0.1499246705588949,
          0.37057460715074775,
          0.07365826865745692,
          0.07537424286687468,
          -0.04726831367923683,
          0.03679897050268089,
          0.04262549019779529,
          -0.04863467419811203,
          0.23837589479828725,
          0.07951863060482176,
          0.014169543929293175,
          0.08733345952293516,
          -0.010827329203740464,
          0.13621737301255232,
          0.04597964742187598,
          0.06556662378812306,
          0.1390159915553342,
          0.049963240782468825,
          0.0893332940117348,
          0.0563729389434344,
          -0.003014500955536747,
          0.08811287687927191,
          0.009815822163796749,
          0.020293256842456846,
          0.09371969711077204,
          0.0864086489262868,
          0.18549753176549408,
          0.10798387856125263,
          0.09857199189090378,
          0.23370375021024503,
          0.0737866809634638,
          0.11306158220695862,
          0.12531806290143974,
          -0.0450053895504432,
          0.07148612543047747,
          0.12476820248777591,
          0.05759221992086425,
          -0.08938603511510856,
          0.19969795639449794,
          0.04535782149293199,
          0.0746016963184118,
          0.04563188941949092,
          0.15644281101949975,
          -1.146585340824004,
          0.15806826003412544,
          0.14728608835486887,
          0.18664761242959646,
          -0.02699721206190457,
          0.004198268295046606,
          -0.021698102376367587,
          0.00568952553884159,
          0.10478997552065808,
          0.08388765625059229,
          0.010997892657606648,
          0.11342721914935293,
          0.3534881027625595,
          0.13592824136692983,
          0.10478528087718383
         ],
         "xaxis": "x",
         "y": [
          0,
          0,
          0,
          0,
          0,
          0,
          0,
          0.21641438171287802,
          0,
          0,
          0,
          1.212704403386765,
          0,
          0,
          0,
          0,
          0,
          0,
          0,
          0.0804209564987459,
          0,
          0,
          0,
          0,
          0,
          0,
          0,
          0,
          0,
          0,
          0.5505639908968325,
          0,
          0,
          0.4908444988679039,
          0,
          0,
          0,
          0,
          0,
          0,
          0,
          0.691774148351904,
          0,
          0,
          0.22754840106584143,
          0,
          0,
          0,
          0,
          0,
          1.2518768150265556,
          0,
          0.2878811132392797,
          0.38892260198662354,
          0,
          0,
          0.7022314736149768,
          1.2546203602129131,
          0,
          0,
          0,
          0,
          0,
          0,
          0,
          0.07812119920174605,
          0,
          0,
          0,
          0,
          0,
          0.32028605936022747,
          0,
          0,
          0,
          0.2676850162196647,
          0.8121683880016735,
          0,
          0,
          0,
          0,
          0,
          0,
          0.9844652874046325,
          0,
          0,
          0,
          0,
          0,
          0,
          0,
          0,
          0,
          0,
          0,
          0.9974695856937948,
          0.12120346589154568,
          0,
          0,
          0,
          0,
          0,
          0,
          0,
          0,
          0,
          0.8015025191400922,
          0,
          0,
          0,
          0,
          0,
          0,
          1.0095886944613577,
          0.16635918718301665,
          0,
          0,
          0,
          0,
          0,
          0,
          0,
          0,
          0,
          0,
          0,
          0,
          0,
          0,
          0,
          0,
          0,
          0,
          0,
          0.44219559100714567,
          0,
          0,
          0,
          0,
          0,
          0.7192281110525257,
          0.2416079791343307,
          0,
          0,
          0,
          0,
          0.6397886040450662,
          0,
          0,
          0,
          0,
          0,
          0,
          0,
          0,
          0.8769035470211057,
          0,
          1.1029505353065157,
          0,
          0,
          0,
          0,
          0,
          0,
          0,
          0,
          0,
          0,
          0,
          0,
          0,
          0,
          0.9650802324718797,
          0.6481853542187754,
          0,
          1.2769953601443742,
          0,
          0.3933645894054672,
          0,
          1.2252606704830522,
          0.9315024776449021,
          0,
          1.184931615886015,
          0,
          0,
          0,
          0.5741073040073532,
          0.34938741038855015,
          0.7222356006571783,
          0.023463773161961753,
          0,
          0,
          0,
          0,
          0,
          0,
          0,
          0,
          0,
          0,
          0,
          0,
          0,
          0,
          0,
          0,
          0,
          0,
          0,
          0.2783744410472648,
          0,
          0,
          0,
          0,
          0,
          0,
          0,
          0,
          0,
          0.5115305457951128,
          0.3569580619999283,
          0,
          0.3160473923220358,
          0,
          0,
          0,
          0,
          0,
          0,
          0,
          0.8669419883347027,
          0,
          0,
          0,
          0,
          0,
          0,
          0,
          0,
          1.1556807892048453,
          0,
          0.5792443322047023,
          0,
          0,
          0,
          0,
          0,
          0,
          0,
          0,
          0.3748876231418181,
          0,
          0,
          0,
          0,
          0.13618766001999796,
          0,
          0,
          0,
          0.9028326488206349,
          0,
          0,
          0,
          0,
          0,
          0,
          0,
          0,
          0,
          0,
          0,
          0,
          0,
          0,
          0,
          0,
          0,
          0,
          0,
          0,
          0.7231016386665683,
          0,
          0,
          0,
          0,
          0,
          0,
          0,
          0,
          0,
          0,
          0,
          0,
          0,
          0,
          0,
          0,
          0,
          0.2935853226416283,
          0,
          0,
          0,
          0,
          0,
          0,
          0,
          0,
          0,
          0,
          0,
          0,
          0,
          0.4372331810341257,
          0,
          0,
          0,
          0,
          0,
          0,
          0,
          0,
          0.2044773362507058,
          0,
          1.0639685969344361,
          0,
          0,
          0,
          0.33170586207742186,
          0,
          0,
          0.7524134668324055,
          0,
          0,
          0,
          0,
          0,
          0,
          0,
          0,
          0,
          0,
          0,
          0,
          0,
          1.0277769558514844,
          0.8523978272706483,
          0,
          0,
          0.3988071079243285,
          0,
          0,
          0,
          0,
          0,
          0.5107717289761784,
          0,
          0,
          0,
          0.7923225197767249,
          0,
          0,
          0,
          0,
          0,
          0,
          0,
          0,
          0,
          0.5135208827092611,
          0,
          0,
          0,
          0,
          0.2416388069898094,
          0,
          0,
          0,
          0,
          0,
          0,
          0,
          0,
          0,
          0.5914734917454656,
          1.0155666801287355,
          0,
          0,
          0,
          0,
          0.5889185591529994,
          0,
          0,
          0,
          0,
          0,
          0,
          0,
          0,
          0,
          0,
          0,
          0,
          0,
          0,
          0,
          0,
          0,
          0,
          0,
          0,
          1.282315689929202,
          0,
          0,
          0.4301906424763677,
          0,
          0,
          0,
          0,
          0,
          0,
          0,
          0,
          0,
          0.7175027072123537,
          0,
          0,
          0.9443539218018592,
          0,
          0,
          0,
          0,
          0,
          0,
          0,
          0.7825150421597699,
          0,
          0,
          0,
          0,
          0,
          0,
          0,
          0,
          0,
          0,
          0,
          0,
          0,
          0,
          0,
          0,
          0,
          0,
          0,
          0
         ],
         "yaxis": "y"
        },
        {
         "customdata": [
          [
           "AFF1"
          ],
          [
           "ARID1B"
          ],
          [
           "ARID3A"
          ],
          [
           "ATF4"
          ],
          [
           "BCOR"
          ],
          [
           "BHLHE40"
          ],
          [
           "BRD4"
          ],
          [
           "BRD9"
          ],
          [
           "CBX1"
          ],
          [
           "CBX5"
          ],
          [
           "CEBPB"
          ],
          [
           "CUX1"
          ],
          [
           "CXXC5"
          ],
          [
           "DMBX1"
          ],
          [
           "DPF2"
          ],
          [
           "E2F1"
          ],
          [
           "E4F1"
          ],
          [
           "EP300"
          ],
          [
           "FOXK2"
          ],
          [
           "GABPB1"
          ],
          [
           "HBP1"
          ],
          [
           "HCFC1"
          ],
          [
           "HDGF"
          ],
          [
           "HES1"
          ],
          [
           "HMG20A"
          ],
          [
           "HMGXB4"
          ],
          [
           "IKZF1"
          ],
          [
           "JUND"
          ],
          [
           "KAT7"
          ],
          [
           "KDM1A"
          ],
          [
           "KLF6"
          ],
          [
           "LCOR"
          ],
          [
           "MAZ"
          ],
          [
           "MECOM"
          ],
          [
           "MLX"
          ],
          [
           "MXI1"
          ],
          [
           "NBN"
          ],
          [
           "NR2F1"
          ],
          [
           "NR2F2"
          ],
          [
           "PHB2"
          ],
          [
           "PML"
          ],
          [
           "PRMT5"
          ],
          [
           "RBFOX2"
          ],
          [
           "RCOR1"
          ],
          [
           "RFX5"
          ],
          [
           "SETDB1"
          ],
          [
           "SMAD3"
          ],
          [
           "SMAD4"
          ],
          [
           "SMARCA4"
          ],
          [
           "SMARCA5"
          ],
          [
           "SMARCC2"
          ],
          [
           "SMARCE1"
          ],
          [
           "STAG1"
          ],
          [
           "STAT6"
          ],
          [
           "TBL1XR1"
          ],
          [
           "TCF3"
          ],
          [
           "TEAD1"
          ],
          [
           "TFAP4"
          ],
          [
           "WHSC1"
          ],
          [
           "ZBTB17"
          ],
          [
           "ZMIZ1"
          ],
          [
           "ZNF124"
          ],
          [
           "ZNF23"
          ],
          [
           "ZNF239"
          ],
          [
           "ZNF24"
          ],
          [
           "ZNF281"
          ],
          [
           "ZNF317"
          ],
          [
           "ZNF384"
          ],
          [
           "ZNF592"
          ]
         ],
         "hovertemplate": "sign=True<br>log(enhancer / silencer)=%{x}<br>-log10(pvalue)=%{y}<br>mark=%{customdata[0]}<extra></extra>",
         "legendgroup": "True",
         "marker": {
          "color": "#EF553B",
          "opacity": 0.5,
          "symbol": "circle"
         },
         "mode": "markers",
         "name": "True",
         "orientation": "v",
         "showlegend": true,
         "type": "scatter",
         "x": [
          0.09045966941910615,
          1.0293728277312584,
          0.4842652334699772,
          0.552628128200164,
          0.27268728304421697,
          0.7684569440422286,
          0.22993124014862917,
          0.07806351495430948,
          -0.26329693982537516,
          -0.3665959947333256,
          0.793168585562072,
          0.21437045680197006,
          0.4781879112724349,
          0.3254700874605011,
          0.5372603615093987,
          0.17462582833117535,
          -0.025738402322969024,
          0.9086800408023069,
          0.4049449393268152,
          0.1038185117370136,
          0.1997230910217116,
          0.04185190261343607,
          0.31660153426306414,
          0.2072786516611398,
          0.13671055799866816,
          0.25082446194141766,
          0.4352446890135125,
          0.7320601437455272,
          0.17270772403125423,
          0.2952417744416252,
          0.16235386869937307,
          0.22953692175844453,
          0.6096099382113883,
          0.25855465014883844,
          0.18888295468838368,
          0.40031175866085333,
          0.22448632313911027,
          0.41100274739060555,
          0.5496027490466631,
          0.23037265207925178,
          0.5074029729589289,
          -0.1824556725253089,
          0.657656738847327,
          0.7155586263938001,
          0.25613462414898946,
          -0.28504106032627474,
          0.14471809759451137,
          0.29670149864952167,
          0.33478747301810535,
          0.10078860956093985,
          0.29341654450294297,
          0.48310672554888767,
          -0.15202898288132385,
          0.3075521163798293,
          0.4518481153558792,
          0.980077176506164,
          0.2670975246370616,
          0.6002736532082459,
          0.2594842927736712,
          0.22633826785951874,
          0.403107219026332,
          -0.1915846137747702,
          0.14070371914859403,
          0.3844058619780772,
          0.21781382003396363,
          0.9153864931742701,
          0.3718592518085676,
          0.7295484109140521,
          0.2932098403900443
         ],
         "xaxis": "x",
         "y": [
          1.5844871646826744,
          4.956708506041491,
          5.17538261834952,
          2.05011450850562,
          3.3173170480105716,
          2.4072706731329174,
          2.1287275897045275,
          3.715306806093626,
          2.110398303712279,
          4.208125628815147,
          2.590753018273014,
          3.1685106845746414,
          2.6684338294044867,
          1.9413499381309602,
          4.537777886408955,
          6.542316907592051,
          2.99145534263774,
          6.205153030924103,
          2.334153275313669,
          1.8554778815997135,
          1.8174030550865026,
          1.3038939512455732,
          6.901047304336995,
          1.374070063168451,
          1.3502938316098536,
          4.951355233141309,
          5.792151089765362,
          4.737818716270362,
          2.3435815720472366,
          1.472985544474744,
          1.4077024414090278,
          1.5839021816528451,
          3.5550838226267603,
          1.4577881335016944,
          3.708377634161413,
          2.7573365530750955,
          2.5289460464493443,
          2.2879910462545543,
          2.987139107219824,
          1.6957813841545233,
          2.1873002941998325,
          3.9776731118844566,
          4.037610462567796,
          5.885855982998605,
          1.4363662397170822,
          1.7985169107982606,
          2.8024818724287544,
          3.8291589237559793,
          3.048952980967722,
          2.2010836163146394,
          2.7693805973712937,
          4.538915163854583,
          2.2731175738111755,
          5.771739049166173,
          2.875839841010513,
          4.782027396082955,
          2.673956197088625,
          1.8990357014296333,
          1.8050381241627635,
          2.5369500932952915,
          1.9600828192173643,
          4.28338903910225,
          1.4094609885028937,
          2.4323993940526067,
          2.2082060101341328,
          6.319706799726663,
          4.71439403763204,
          4.642148476455266,
          2.3220629458948814
         ],
         "yaxis": "y"
        }
       ],
       "layout": {
        "autosize": true,
        "legend": {
         "title": {
          "text": "sign"
         },
         "tracegroupgap": 0
        },
        "margin": {
         "t": 60
        },
        "template": {
         "data": {
          "bar": [
           {
            "error_x": {
             "color": "#2a3f5f"
            },
            "error_y": {
             "color": "#2a3f5f"
            },
            "marker": {
             "line": {
              "color": "#E5ECF6",
              "width": 0.5
             },
             "pattern": {
              "fillmode": "overlay",
              "size": 10,
              "solidity": 0.2
             }
            },
            "type": "bar"
           }
          ],
          "barpolar": [
           {
            "marker": {
             "line": {
              "color": "#E5ECF6",
              "width": 0.5
             },
             "pattern": {
              "fillmode": "overlay",
              "size": 10,
              "solidity": 0.2
             }
            },
            "type": "barpolar"
           }
          ],
          "carpet": [
           {
            "aaxis": {
             "endlinecolor": "#2a3f5f",
             "gridcolor": "white",
             "linecolor": "white",
             "minorgridcolor": "white",
             "startlinecolor": "#2a3f5f"
            },
            "baxis": {
             "endlinecolor": "#2a3f5f",
             "gridcolor": "white",
             "linecolor": "white",
             "minorgridcolor": "white",
             "startlinecolor": "#2a3f5f"
            },
            "type": "carpet"
           }
          ],
          "choropleth": [
           {
            "colorbar": {
             "outlinewidth": 0,
             "ticks": ""
            },
            "type": "choropleth"
           }
          ],
          "contour": [
           {
            "colorbar": {
             "outlinewidth": 0,
             "ticks": ""
            },
            "colorscale": [
             [
              0,
              "#0d0887"
             ],
             [
              0.1111111111111111,
              "#46039f"
             ],
             [
              0.2222222222222222,
              "#7201a8"
             ],
             [
              0.3333333333333333,
              "#9c179e"
             ],
             [
              0.4444444444444444,
              "#bd3786"
             ],
             [
              0.5555555555555556,
              "#d8576b"
             ],
             [
              0.6666666666666666,
              "#ed7953"
             ],
             [
              0.7777777777777778,
              "#fb9f3a"
             ],
             [
              0.8888888888888888,
              "#fdca26"
             ],
             [
              1,
              "#f0f921"
             ]
            ],
            "type": "contour"
           }
          ],
          "contourcarpet": [
           {
            "colorbar": {
             "outlinewidth": 0,
             "ticks": ""
            },
            "type": "contourcarpet"
           }
          ],
          "heatmap": [
           {
            "colorbar": {
             "outlinewidth": 0,
             "ticks": ""
            },
            "colorscale": [
             [
              0,
              "#0d0887"
             ],
             [
              0.1111111111111111,
              "#46039f"
             ],
             [
              0.2222222222222222,
              "#7201a8"
             ],
             [
              0.3333333333333333,
              "#9c179e"
             ],
             [
              0.4444444444444444,
              "#bd3786"
             ],
             [
              0.5555555555555556,
              "#d8576b"
             ],
             [
              0.6666666666666666,
              "#ed7953"
             ],
             [
              0.7777777777777778,
              "#fb9f3a"
             ],
             [
              0.8888888888888888,
              "#fdca26"
             ],
             [
              1,
              "#f0f921"
             ]
            ],
            "type": "heatmap"
           }
          ],
          "heatmapgl": [
           {
            "colorbar": {
             "outlinewidth": 0,
             "ticks": ""
            },
            "colorscale": [
             [
              0,
              "#0d0887"
             ],
             [
              0.1111111111111111,
              "#46039f"
             ],
             [
              0.2222222222222222,
              "#7201a8"
             ],
             [
              0.3333333333333333,
              "#9c179e"
             ],
             [
              0.4444444444444444,
              "#bd3786"
             ],
             [
              0.5555555555555556,
              "#d8576b"
             ],
             [
              0.6666666666666666,
              "#ed7953"
             ],
             [
              0.7777777777777778,
              "#fb9f3a"
             ],
             [
              0.8888888888888888,
              "#fdca26"
             ],
             [
              1,
              "#f0f921"
             ]
            ],
            "type": "heatmapgl"
           }
          ],
          "histogram": [
           {
            "marker": {
             "pattern": {
              "fillmode": "overlay",
              "size": 10,
              "solidity": 0.2
             }
            },
            "type": "histogram"
           }
          ],
          "histogram2d": [
           {
            "colorbar": {
             "outlinewidth": 0,
             "ticks": ""
            },
            "colorscale": [
             [
              0,
              "#0d0887"
             ],
             [
              0.1111111111111111,
              "#46039f"
             ],
             [
              0.2222222222222222,
              "#7201a8"
             ],
             [
              0.3333333333333333,
              "#9c179e"
             ],
             [
              0.4444444444444444,
              "#bd3786"
             ],
             [
              0.5555555555555556,
              "#d8576b"
             ],
             [
              0.6666666666666666,
              "#ed7953"
             ],
             [
              0.7777777777777778,
              "#fb9f3a"
             ],
             [
              0.8888888888888888,
              "#fdca26"
             ],
             [
              1,
              "#f0f921"
             ]
            ],
            "type": "histogram2d"
           }
          ],
          "histogram2dcontour": [
           {
            "colorbar": {
             "outlinewidth": 0,
             "ticks": ""
            },
            "colorscale": [
             [
              0,
              "#0d0887"
             ],
             [
              0.1111111111111111,
              "#46039f"
             ],
             [
              0.2222222222222222,
              "#7201a8"
             ],
             [
              0.3333333333333333,
              "#9c179e"
             ],
             [
              0.4444444444444444,
              "#bd3786"
             ],
             [
              0.5555555555555556,
              "#d8576b"
             ],
             [
              0.6666666666666666,
              "#ed7953"
             ],
             [
              0.7777777777777778,
              "#fb9f3a"
             ],
             [
              0.8888888888888888,
              "#fdca26"
             ],
             [
              1,
              "#f0f921"
             ]
            ],
            "type": "histogram2dcontour"
           }
          ],
          "mesh3d": [
           {
            "colorbar": {
             "outlinewidth": 0,
             "ticks": ""
            },
            "type": "mesh3d"
           }
          ],
          "parcoords": [
           {
            "line": {
             "colorbar": {
              "outlinewidth": 0,
              "ticks": ""
             }
            },
            "type": "parcoords"
           }
          ],
          "pie": [
           {
            "automargin": true,
            "type": "pie"
           }
          ],
          "scatter": [
           {
            "fillpattern": {
             "fillmode": "overlay",
             "size": 10,
             "solidity": 0.2
            },
            "type": "scatter"
           }
          ],
          "scatter3d": [
           {
            "line": {
             "colorbar": {
              "outlinewidth": 0,
              "ticks": ""
             }
            },
            "marker": {
             "colorbar": {
              "outlinewidth": 0,
              "ticks": ""
             }
            },
            "type": "scatter3d"
           }
          ],
          "scattercarpet": [
           {
            "marker": {
             "colorbar": {
              "outlinewidth": 0,
              "ticks": ""
             }
            },
            "type": "scattercarpet"
           }
          ],
          "scattergeo": [
           {
            "marker": {
             "colorbar": {
              "outlinewidth": 0,
              "ticks": ""
             }
            },
            "type": "scattergeo"
           }
          ],
          "scattergl": [
           {
            "marker": {
             "colorbar": {
              "outlinewidth": 0,
              "ticks": ""
             }
            },
            "type": "scattergl"
           }
          ],
          "scattermapbox": [
           {
            "marker": {
             "colorbar": {
              "outlinewidth": 0,
              "ticks": ""
             }
            },
            "type": "scattermapbox"
           }
          ],
          "scatterpolar": [
           {
            "marker": {
             "colorbar": {
              "outlinewidth": 0,
              "ticks": ""
             }
            },
            "type": "scatterpolar"
           }
          ],
          "scatterpolargl": [
           {
            "marker": {
             "colorbar": {
              "outlinewidth": 0,
              "ticks": ""
             }
            },
            "type": "scatterpolargl"
           }
          ],
          "scatterternary": [
           {
            "marker": {
             "colorbar": {
              "outlinewidth": 0,
              "ticks": ""
             }
            },
            "type": "scatterternary"
           }
          ],
          "surface": [
           {
            "colorbar": {
             "outlinewidth": 0,
             "ticks": ""
            },
            "colorscale": [
             [
              0,
              "#0d0887"
             ],
             [
              0.1111111111111111,
              "#46039f"
             ],
             [
              0.2222222222222222,
              "#7201a8"
             ],
             [
              0.3333333333333333,
              "#9c179e"
             ],
             [
              0.4444444444444444,
              "#bd3786"
             ],
             [
              0.5555555555555556,
              "#d8576b"
             ],
             [
              0.6666666666666666,
              "#ed7953"
             ],
             [
              0.7777777777777778,
              "#fb9f3a"
             ],
             [
              0.8888888888888888,
              "#fdca26"
             ],
             [
              1,
              "#f0f921"
             ]
            ],
            "type": "surface"
           }
          ],
          "table": [
           {
            "cells": {
             "fill": {
              "color": "#EBF0F8"
             },
             "line": {
              "color": "white"
             }
            },
            "header": {
             "fill": {
              "color": "#C8D4E3"
             },
             "line": {
              "color": "white"
             }
            },
            "type": "table"
           }
          ]
         },
         "layout": {
          "annotationdefaults": {
           "arrowcolor": "#2a3f5f",
           "arrowhead": 0,
           "arrowwidth": 1
          },
          "autotypenumbers": "strict",
          "coloraxis": {
           "colorbar": {
            "outlinewidth": 0,
            "ticks": ""
           }
          },
          "colorscale": {
           "diverging": [
            [
             0,
             "#8e0152"
            ],
            [
             0.1,
             "#c51b7d"
            ],
            [
             0.2,
             "#de77ae"
            ],
            [
             0.3,
             "#f1b6da"
            ],
            [
             0.4,
             "#fde0ef"
            ],
            [
             0.5,
             "#f7f7f7"
            ],
            [
             0.6,
             "#e6f5d0"
            ],
            [
             0.7,
             "#b8e186"
            ],
            [
             0.8,
             "#7fbc41"
            ],
            [
             0.9,
             "#4d9221"
            ],
            [
             1,
             "#276419"
            ]
           ],
           "sequential": [
            [
             0,
             "#0d0887"
            ],
            [
             0.1111111111111111,
             "#46039f"
            ],
            [
             0.2222222222222222,
             "#7201a8"
            ],
            [
             0.3333333333333333,
             "#9c179e"
            ],
            [
             0.4444444444444444,
             "#bd3786"
            ],
            [
             0.5555555555555556,
             "#d8576b"
            ],
            [
             0.6666666666666666,
             "#ed7953"
            ],
            [
             0.7777777777777778,
             "#fb9f3a"
            ],
            [
             0.8888888888888888,
             "#fdca26"
            ],
            [
             1,
             "#f0f921"
            ]
           ],
           "sequentialminus": [
            [
             0,
             "#0d0887"
            ],
            [
             0.1111111111111111,
             "#46039f"
            ],
            [
             0.2222222222222222,
             "#7201a8"
            ],
            [
             0.3333333333333333,
             "#9c179e"
            ],
            [
             0.4444444444444444,
             "#bd3786"
            ],
            [
             0.5555555555555556,
             "#d8576b"
            ],
            [
             0.6666666666666666,
             "#ed7953"
            ],
            [
             0.7777777777777778,
             "#fb9f3a"
            ],
            [
             0.8888888888888888,
             "#fdca26"
            ],
            [
             1,
             "#f0f921"
            ]
           ]
          },
          "colorway": [
           "#636efa",
           "#EF553B",
           "#00cc96",
           "#ab63fa",
           "#FFA15A",
           "#19d3f3",
           "#FF6692",
           "#B6E880",
           "#FF97FF",
           "#FECB52"
          ],
          "font": {
           "color": "#2a3f5f"
          },
          "geo": {
           "bgcolor": "white",
           "lakecolor": "white",
           "landcolor": "#E5ECF6",
           "showlakes": true,
           "showland": true,
           "subunitcolor": "white"
          },
          "hoverlabel": {
           "align": "left"
          },
          "hovermode": "closest",
          "mapbox": {
           "style": "light"
          },
          "paper_bgcolor": "white",
          "plot_bgcolor": "#E5ECF6",
          "polar": {
           "angularaxis": {
            "gridcolor": "white",
            "linecolor": "white",
            "ticks": ""
           },
           "bgcolor": "#E5ECF6",
           "radialaxis": {
            "gridcolor": "white",
            "linecolor": "white",
            "ticks": ""
           }
          },
          "scene": {
           "xaxis": {
            "backgroundcolor": "#E5ECF6",
            "gridcolor": "white",
            "gridwidth": 2,
            "linecolor": "white",
            "showbackground": true,
            "ticks": "",
            "zerolinecolor": "white"
           },
           "yaxis": {
            "backgroundcolor": "#E5ECF6",
            "gridcolor": "white",
            "gridwidth": 2,
            "linecolor": "white",
            "showbackground": true,
            "ticks": "",
            "zerolinecolor": "white"
           },
           "zaxis": {
            "backgroundcolor": "#E5ECF6",
            "gridcolor": "white",
            "gridwidth": 2,
            "linecolor": "white",
            "showbackground": true,
            "ticks": "",
            "zerolinecolor": "white"
           }
          },
          "shapedefaults": {
           "line": {
            "color": "#2a3f5f"
           }
          },
          "ternary": {
           "aaxis": {
            "gridcolor": "white",
            "linecolor": "white",
            "ticks": ""
           },
           "baxis": {
            "gridcolor": "white",
            "linecolor": "white",
            "ticks": ""
           },
           "bgcolor": "#E5ECF6",
           "caxis": {
            "gridcolor": "white",
            "linecolor": "white",
            "ticks": ""
           }
          },
          "title": {
           "x": 0.05
          },
          "xaxis": {
           "automargin": true,
           "gridcolor": "white",
           "linecolor": "white",
           "ticks": "",
           "title": {
            "standoff": 15
           },
           "zerolinecolor": "white",
           "zerolinewidth": 2
          },
          "yaxis": {
           "automargin": true,
           "gridcolor": "white",
           "linecolor": "white",
           "ticks": "",
           "title": {
            "standoff": 15
           },
           "zerolinecolor": "white",
           "zerolinewidth": 2
          }
         }
        },
        "xaxis": {
         "anchor": "y",
         "autorange": true,
         "domain": [
          0,
          1
         ],
         "range": [
          -1.3355175715442387,
          2.158018042779614
         ],
         "title": {
          "text": "log(enhancer / silencer)"
         },
         "type": "linear"
        },
        "yaxis": {
         "anchor": "x",
         "autorange": true,
         "domain": [
          0,
          1
         ],
         "range": [
          -0.5343330589972214,
          7.435380363334216
         ],
         "title": {
          "text": "-log10(pvalue)"
         },
         "type": "linear"
        }
       }
      },
      "image/png": "[encoded data removed]",
      "text/html": [
       "<div>                            <div id=\"8735cb25-2c39-481a-ada0-d0bb9aaec336\" class=\"plotly-graph-div\" style=\"height:525px; width:100%;\"></div>            <script type=\"text/javascript\">                require([\"plotly\"], function(Plotly) {                    window.PLOTLYENV=window.PLOTLYENV || {};                                    if (document.getElementById(\"8735cb25-2c39-481a-ada0-d0bb9aaec336\")) {                    Plotly.newPlot(                        \"8735cb25-2c39-481a-ada0-d0bb9aaec336\",                        [{\"customdata\":[[\"ADNP\"],[\"AFF4\"],[\"AGO1\"],[\"ARHGAP35\"],[\"ARID2\"],[\"ARID3B\"],[\"ARID4B\"],[\"ARNT\"],[\"ASH1L\"],[\"ATF1\"],[\"ATF2\"],[\"ATF3\"],[\"ATF6\"],[\"ATF7\"],[\"BACH1\"],[\"BCL6\"],[\"BCLAF1\"],[\"BDP1\"],[\"BMI1\"],[\"BRCA1\"],[\"BRF1\"],[\"BRF2\"],[\"C11orf30\"],[\"CAMTA2\"],[\"CBFA2T2\"],[\"CBFA2T3\"],[\"CBFB\"],[\"CBX2\"],[\"CBX3\"],[\"CBX8\"],[\"CC2D1A\"],[\"CCAR2\"],[\"CCNT2\"],[\"CDC5L\"],[\"CEBPG\"],[\"CEBPZ\"],[\"CGGBP1\"],[\"CHAMP1\"],[\"CHCHD3\"],[\"CHD1\"],[\"CHD2\"],[\"CHD4\"],[\"CHD7\"],[\"CLOCK\"],[\"COPS2\"],[\"CREB1\"],[\"CREB3\"],[\"CREB3L1\"],[\"CREB5\"],[\"CREBBP\"],[\"CREM\"],[\"CSDE1\"],[\"CTBP1\"],[\"CTCF\"],[\"CTCFL\"],[\"DACH1\"],[\"DDIT3\"],[\"DDX20\"],[\"DEAF1\"],[\"DIDO1\"],[\"DLX4\"],[\"DMTF1\"],[\"DNMT1\"],[\"E2F3\"],[\"E2F4\"],[\"E2F5\"],[\"E2F6\"],[\"E2F7\"],[\"E2F8\"],[\"EGR1\"],[\"EHMT2\"],[\"ELF1\"],[\"ELF2\"],[\"ELF4\"],[\"ELK1\"],[\"ELK3\"],[\"EP400\"],[\"ERF\"],[\"ESRRA\"],[\"ESRRB\"],[\"ETS1\"],[\"ETS2\"],[\"ETV1\"],[\"ETV5\"],[\"ETV6\"],[\"EWSR1\"],[\"EZH2\"],[\"FIP1L1\"],[\"FOS\"],[\"FOSL1\"],[\"FOXA1\"],[\"FOXA3\"],[\"FOXJ2\"],[\"FOXJ3\"],[\"FOXK1\"],[\"FOXM1\"],[\"FOXO4\"],[\"FOXP1\"],[\"FOXP4\"],[\"FUS\"],[\"GABPA\"],[\"GABPB2\"],[\"GATA1\"],[\"GATA2\"],[\"GATAD2A\"],[\"GATAD2B\"],[\"GMEB1\"],[\"GTF2A2\"],[\"GTF2B\"],[\"GTF2E2\"],[\"GTF2F1\"],[\"GTF2I\"],[\"GTF3C2\"],[\"HDAC1\"],[\"HDAC2\"],[\"HDAC3\"],[\"HDAC6\"],[\"HDAC8\"],[\"HEY1\"],[\"HINFP\"],[\"HIVEP1\"],[\"HLTF\"],[\"HMBOX1\"],[\"HMG20B\"],[\"HMGN3\"],[\"HNRNPH1\"],[\"HNRNPK\"],[\"HNRNPL\"],[\"HNRNPLL\"],[\"HNRNPUL1\"],[\"HOMEZ\"],[\"HOXB6\"],[\"HSF4\"],[\"ID3\"],[\"IFI16\"],[\"ILF3\"],[\"ILK\"],[\"IRF1\"],[\"IRF2\"],[\"IRF9\"],[\"JUN\"],[\"JUNB\"],[\"KAT2B\"],[\"KAT8\"],[\"KDM2B\"],[\"KDM4B\"],[\"KDM5B\"],[\"KHSRP\"],[\"KLF1\"],[\"KLF10\"],[\"KLF13\"],[\"KLF16\"],[\"L3MBTL2\"],[\"LARP7\"],[\"LEF1\"],[\"MAFF\"],[\"MAFG\"],[\"MAFK\"],[\"MAX\"],[\"MBD1\"],[\"MBD2\"],[\"MCM2\"],[\"MCM3\"],[\"MCM5\"],[\"MCM7\"],[\"MED1\"],[\"MEF2A\"],[\"MEF2D\"],[\"MEIS2\"],[\"MGA\"],[\"MIER1\"],[\"MITF\"],[\"MLLT1\"],[\"MNT\"],[\"MTA1\"],[\"MTA2\"],[\"MTA3\"],[\"MTF1\"],[\"MXD1\"],[\"MYBL2\"],[\"MYC\"],[\"MYNN\"],[\"NCOA1\"],[\"NCOA2\"],[\"NCOA4\"],[\"NCOA6\"],[\"NCOR1\"],[\"NELFE\"],[\"NEUROD1\"],[\"NFATC3\"],[\"NFE2\"],[\"NFE2L1\"],[\"NFIC\"],[\"NFIX\"],[\"NFRKB\"],[\"NFXL1\"],[\"NFYA\"],[\"NFYB\"],[\"NKRF\"],[\"NONO\"],[\"NR0B1\"],[\"NR1H2\"],[\"NR2C1\"],[\"NR2C2\"],[\"NR2F6\"],[\"NR3C1\"],[\"NR4A1\"],[\"NRF1\"],[\"NUFIP1\"],[\"OTX1\"],[\"PATZ1\"],[\"PBX2\"],[\"PCBP1\"],[\"PCBP2\"],[\"PHB\"],[\"PHF20\"],[\"PHF21A\"],[\"PHF8\"],[\"PHTF2\"],[\"PKNOX1\"],[\"POLR2A\"],[\"POLR2AphosphoS2\"],[\"POLR2AphosphoS5\"],[\"POLR2B\"],[\"POLR2G\"],[\"POLR2H\"],[\"POLR3A\"],[\"POLR3G\"],[\"POU5F1\"],[\"PPARD\"],[\"PRDM10\"],[\"PREB\"],[\"PRPF4\"],[\"PTBP1\"],[\"PTRF\"],[\"PTTG1\"],[\"PURB\"],[\"PYGO2\"],[\"RAD21\"],[\"RAD51\"],[\"RB1\"],[\"RBBP5\"],[\"RBM14\"],[\"RBM15\"],[\"RBM17\"],[\"RBM22\"],[\"RBM25\"],[\"RBM34\"],[\"RBM39\"],[\"RBPJ\"],[\"RELA\"],[\"RERE\"],[\"REST\"],[\"RFX1\"],[\"RFX7\"],[\"RHOXF2B\"],[\"RLF\"],[\"RNF2\"],[\"RNF219\"],[\"RREB1\"],[\"RUNX1\"],[\"SAFB\"],[\"SAFB2\"],[\"SAP30\"],[\"SFPQ\"],[\"SIN3A\"],[\"SIN3B\"],[\"SIRT6\"],[\"SIX5\"],[\"SKIL\"],[\"SLC30A9\"],[\"SMAD1\"],[\"SMAD2\"],[\"SMAD5\"],[\"SMARCB1\"],[\"SMC3\"],[\"SNAPC5\"],[\"SNIP1\"],[\"SNRNP70\"],[\"SOX6\"],[\"SP1\"],[\"SP2\"],[\"SPI1\"],[\"SREBF1\"],[\"SREBF2\"],[\"SRF\"],[\"SRSF1\"],[\"SRSF3\"],[\"SRSF7\"],[\"SRSF9\"],[\"STAT5A\"],[\"STAT5B\"],[\"SUPT5H\"],[\"SUZ12\"],[\"TAF1\"],[\"TAF15\"],[\"TAF7\"],[\"TAF9B\"],[\"TAL1\"],[\"TARDBP\"],[\"TBP\"],[\"TBPL1\"],[\"TBX18\"],[\"TCF12\"],[\"TCF15\"],[\"TCF7\"],[\"TCF7L2\"],[\"TCFL5\"],[\"TEAD2\"],[\"TEAD4\"],[\"TFAM\"],[\"TFCP2\"],[\"TFDP1\"],[\"TFE3\"],[\"TGIF2\"],[\"THAP1\"],[\"THAP12\"],[\"THAP7\"],[\"THRA\"],[\"THRAP3\"],[\"THRB\"],[\"TOE1\"],[\"TRIM24\"],[\"TRIM25\"],[\"TRIM28\"],[\"TRIP13\"],[\"TSC22D4\"],[\"TSHZ1\"],[\"U2AF1\"],[\"U2AF2\"],[\"UBTF\"],[\"USF1\"],[\"USF2\"],[\"VEZF1\"],[\"XRCC3\"],[\"XRCC4\"],[\"XRCC5\"],[\"YBX1\"],[\"YBX3\"],[\"YY1\"],[\"ZBED1\"],[\"ZBTB1\"],[\"ZBTB11\"],[\"ZBTB12\"],[\"ZBTB2\"],[\"ZBTB26\"],[\"ZBTB33\"],[\"ZBTB34\"],[\"ZBTB40\"],[\"ZBTB43\"],[\"ZBTB49\"],[\"ZBTB5\"],[\"ZBTB7A\"],[\"ZBTB8A\"],[\"ZBTB9\"],[\"ZC3H11A\"],[\"ZC3H4\"],[\"ZC3H8\"],[\"ZEB2\"],[\"ZFP1\"],[\"ZFP30\"],[\"ZFP36\"],[\"ZFP91\"],[\"ZFPM2\"],[\"ZFX\"],[\"ZHX1\"],[\"ZKSCAN1\"],[\"ZKSCAN3\"],[\"ZKSCAN8\"],[\"ZMYM3\"],[\"ZNF12\"],[\"ZNF121\"],[\"ZNF133\"],[\"ZNF134\"],[\"ZNF140\"],[\"ZNF143\"],[\"ZNF146\"],[\"ZNF148\"],[\"ZNF165\"],[\"ZNF174\"],[\"ZNF175\"],[\"ZNF184\"],[\"ZNF197\"],[\"ZNF212\"],[\"ZNF215\"],[\"ZNF217\"],[\"ZNF224\"],[\"ZNF232\"],[\"ZNF253\"],[\"ZNF257\"],[\"ZNF263\"],[\"ZNF274\"],[\"ZNF277\"],[\"ZNF280A\"],[\"ZNF280B\"],[\"ZNF282\"],[\"ZNF3\"],[\"ZNF311\"],[\"ZNF316\"],[\"ZNF318\"],[\"ZNF319\"],[\"ZNF324\"],[\"ZNF347\"],[\"ZNF354B\"],[\"ZNF354C\"],[\"ZNF395\"],[\"ZNF397\"],[\"ZNF398\"],[\"ZNF407\"],[\"ZNF408\"],[\"ZNF41\"],[\"ZNF431\"],[\"ZNF436\"],[\"ZNF444\"],[\"ZNF445\"],[\"ZNF449\"],[\"ZNF507\"],[\"ZNF511\"],[\"ZNF512\"],[\"ZNF518B\"],[\"ZNF551\"],[\"ZNF561\"],[\"ZNF57\"],[\"ZNF583\"],[\"ZNF584\"],[\"ZNF586\"],[\"ZNF589\"],[\"ZNF609\"],[\"ZNF639\"],[\"ZNF644\"],[\"ZNF655\"],[\"ZNF668\"],[\"ZNF695\"],[\"ZNF696\"],[\"ZNF699\"],[\"ZNF7\"],[\"ZNF700\"],[\"ZNF707\"],[\"ZNF717\"],[\"ZNF740\"],[\"ZNF75A\"],[\"ZNF76\"],[\"ZNF764\"],[\"ZNF766\"],[\"ZNF77\"],[\"ZNF778\"],[\"ZNF780A\"],[\"ZNF785\"],[\"ZNF79\"],[\"ZNF83\"],[\"ZNF830\"],[\"ZNF84\"],[\"ZSCAN29\"],[\"ZSCAN32\"],[\"ZZZ3\"]],\"hovertemplate\":\"sign=False\\u003cbr\\u003elog(enhancer \\u002f silencer)=%{x}\\u003cbr\\u003e-log10(pvalue)=%{y}\\u003cbr\\u003emark=%{customdata[0]}\\u003cextra\\u003e\\u003c\\u002fextra\\u003e\",\"legendgroup\":\"False\",\"marker\":{\"color\":\"#636efa\",\"opacity\":0.5,\"symbol\":\"circle\"},\"mode\":\"markers\",\"name\":\"False\",\"orientation\":\"v\",\"showlegend\":true,\"x\":[0.04806076727164953,0.10746823889763031,-0.29159046072726263,0.0026476305373618293,0.09040558234412467,0.08383003970977426,0.1211296099094798,0.11957051952337971,0.1905541800337699,-0.026311256276217675,-0.011808326356374176,0.25720992376331775,0.10935878396820589,0.4243050614881823,0.21534020006016455,0.043009038351783664,0.044234280090228686,-0.0675694464348491,0.11788715019418529,-0.08282281496111708,-0.12404463447792165,-0.10019804831704308,0.4258454646132709,0.06906586934496535,1.096150145701561,1.555879155737368,0.07052591794974211,-0.015315695742913053,-0.2322704099887677,0.004968361278512198,0.226993773560377,0.09839076791542709,0.45764252056946825,0.1451149108314416,0.4389031561965036,0.0684779884103378,0.1164053043355738,0.061850560240515454,0.07882324991446238,0.2724713075752423,0.16680864013392974,0.1748301257067342,0.0847148483459453,0.06700561654048508,-0.10269819259265633,0.15307336816438596,0.04326661716329191,-0.02515202448226472,-0.017726275881508685,0.043602184052977395,0.3362015927976473,0.07434033950389293,0.30561220204360384,0.47132278089123425,-0.0556700334425055,0.11859927008226247,0.1594095313320783,0.12157811994920295,0.1149193200572505,0.09879210296654747,0.004600215206456872,0.030836029318142732,0.07010287273914315,0.10620340523118205,0.2614625778563382,0.12887558573736632,0.5051552661798971,0.27879425661783724,0.6075563349215537,0.41880383302537016,0.05764207555251096,0.3467095649705586,0.07099264069873519,0.05988446832459827,0.0361232991753883,0.101832169435195,0.13203154454421842,0.07434442167546343,0.5023973410112332,-0.015095731340824314,0.1320514672539287,0.004677944828382224,0.4430095597476974,0.32010276205959587,0.030131148921879312,-0.05743396390599165,0.05662422196847346,0.04120563630594607,0.32620233898822554,0.19423489889596587,-0.07332654949239882,0.19213523638702953,0.25348913860645866,-0.06832556455034045,0.060371817995581126,0.1992893312427435,0.10109729873702065,0.157246510388096,0.0713934989924057,0.0007918935634321621,0.28851612026544554,0.08124538411799063,0.4132155412148251,0.5165942014456324,0.08851111040332878,0.09410447251556091,-0.21603329228381196,0.034256735621954415,-0.09843580812910677,0.10859172355337808,0.04040238163820461,-0.03193869102162254,0.07878757440895023,0.36130052383728284,0.2979795652550339,0.17101044860736223,-0.07469216294460732,0.11005157945254283,0.08733585587605845,0.026066550172093753,0.10316491918701383,0.13752165474082662,0.3731861142754508,-0.017150667606701666,0.2936255962997896,-0.04867477987328482,0.11423355560738527,0.14391733638384116,0.2049316594881288,0.0500949549728934,0.07158186615344576,0.09798022449921835,0.12442049527978054,0.1445549479374381,0.11433544254932389,0.015217347652330201,0.003135466162300271,0.16817365242352605,0.29251794634057776,0.1410501177284399,0.3085449237864043,0.20180966261318847,-0.028303438352122172,0.05988669865630292,0.036549843538902914,0.043222830060574424,0.40294234264318274,0.08477054055449834,0.06654766971436937,0.014082615160447086,0.20588429851356946,0.4367081561089863,0.09219002837609687,0.1113887485062594,0.11205930197078247,0.49382476777937445,0.5247973063235004,0.46066997063013243,0.48161242989243364,0.039063414541369544,0.18073057292426015,-0.06794540380243252,-0.07391116566490398,-0.07774918328056868,-0.002505334091125767,-0.10060798421228288,0.07759116764418819,0.10015940486738181,0.4619003786271842,-0.008119355210927623,0.10850955950575464,0.28725790587752514,0.20108666124197153,0.5907931522765296,0.15522305090249858,0.39432359684220863,0.07879827063215554,0.09673966322615818,0.056825180991536,-0.10613279474601126,0.3614461576341991,0.021718589488610437,0.20678200542801173,0.013691204407686754,0.021217364720912207,-0.018869261308179796,0.4135952812749947,-0.15663430169841866,0.6168373075323769,0.12362901348423509,0.3005875464581583,0.0014738364050579328,0.14594883049155585,-0.06019289643146035,0.08843530793446093,0.0796470736115076,0.04524025428820697,0.16134632173404198,0.2585599488081114,0.14818507493813673,-0.012782023265668525,0.07917550428437006,0.06184712525175386,0.031486037271547244,0.12695361125638469,-0.026483934472109182,0.1111485891990401,0.5629800136359654,-0.03803791158735668,0.12808324341010155,0.017036990696784077,0.08965192676609843,0.11807033061764931,0.02113527580482474,0.017380859544721617,-0.06378294163964596,-0.026812495060771924,0.40092978235799287,0.012467245326507071,-0.04924529972623937,0.4475123388220822,0.09840766766199065,0.6048977170663588,0.0660240226558217,0.48651622238200687,0.18925263102777032,-0.10359554407131503,-0.058776849753588246,0.07964231664434554,0.03768451774112886,1.9690858120593795,0.01974373293997905,0.014780378489178906,0.11695362479402853,0.006405963480731291,0.036489843984291136,-0.065964019270497,0.07310775277166814,0.36567531401652076,0.3653805509338787,0.03350905677632982,0.4800357262665422,0.03215668407719146,-0.013820191093669776,0.002821100080688209,0.036737344722904346,0.1724631838667831,0.014958002958668868,0.08571478290838179,-0.015219361245457476,0.17834720740263754,-0.029294090525288693,0.03896892456988719,1.02283171267389,0.09166530172138347,0.15681261214824938,0.01411889269509939,0.13250885241147262,0.03951240964712474,0.18922222231598726,0.0068832929169511435,-0.11535306244370204,-0.08368901232324351,0.3981260431965638,-0.022424724388227586,0.245028779614506,-0.03207056061698473,0.02519406553281406,-0.16363138180326162,-0.09942711986879517,-0.02641823106837967,0.2613656350557908,0.0786135510751555,0.27280425616200066,0.11980765696762737,0.3149786862071109,0.005911806171671566,0.022599483403685536,-0.02939227355078317,0.23862579590815572,0.2066620735028532,0.2567692653138124,0.6431762254370103,0.12938856474733323,0.0899264668048047,0.21193556871471678,-0.026839872564748853,0.0609914404629827,-0.03187657557597493,-0.034245409200639614,0.420801763737585,0.016789757728054848,0.17788532405014634,-0.04532704977978587,0.3944769557921789,0.061623048524504766,-0.06317060668595016,0.13489163187815606,1.2454429601871635,0.08600431477146649,0.4234235822944523,0.1271703779035069,0.09263613856293232,0.8858883311992749,0.08048315955907448,0.006020186274588263,0.25368296637037113,0.08002276191931508,-0.0509012068213815,0.5122587515676066,-0.05499328147494002,0.24391190905706603,0.13871597721779863,0.3795850258775512,-0.05012205139306826,-0.08665283361937565,0.12893340911483653,0.02440127752998286,-0.006141131015859398,0.02292412714512907,0.1407102602197407,0.16570017204910098,0.27754259712608964,0.13487704679495505,-0.32346106182649864,-0.017749617852265566,-0.0035584336662653512,0.08748300448892372,0.02253371152041418,-0.10623399958611647,0.3681200594287851,0.30142832995777974,0.22643581995540832,0.5296960658138598,-0.25020237131138134,-0.11009779417190876,0.08928142344278356,0.008647974116112045,0.06448952598395077,0.3400517405527021,0.06568720014904982,0.0684626514538853,0.07520402661119607,0.10498517259830023,0.19219804363937598,0.145845782603473,0.10784650527849801,0.02826220452909381,0.35190901736612185,0.1104381808992939,-0.004175635177930905,0.01664883273064676,0.3663804390774896,-0.06448617039205234,0.24446061190113813,0.1443400077286917,-0.09194837733729098,0.08796876919292979,0.26889593350003305,0.06393482320173771,0.016079956314317037,0.14821266497852226,0.07908951645096123,0.11856614779514926,0.3037410256671252,0.03510178057110659,0.3056945841709441,0.01336902702678317,0.1073809106662091,0.2139976835458785,0.14305729314183557,0.05444084757207017,0.034395484863060675,0.38804106933127236,0.02320463642064506,-0.1123416363670646,0.05133487891845298,0.2360880197987844,0.11808342918059599,0.07466426276216864,0.20061348661999628,-0.08223157282381784,0.03860204906608093,0.13227393122889072,0.19587078303037347,-0.05212474166350357,-0.008818046863240298,0.015593275506333201,0.03370617312780665,0.1570626312975628,0.1427084222294125,-0.9685999016517526,0.006047688413400083,-0.46357568965231,-0.1347433838275714,0.01342752112279469,0.02536585788991917,0.1499246705588949,0.37057460715074775,0.07365826865745692,0.07537424286687468,-0.04726831367923683,0.03679897050268089,0.04262549019779529,-0.04863467419811203,0.23837589479828725,0.07951863060482176,0.014169543929293175,0.08733345952293516,-0.010827329203740464,0.13621737301255232,0.04597964742187598,0.06556662378812306,0.1390159915553342,0.049963240782468825,0.0893332940117348,0.0563729389434344,-0.003014500955536747,0.08811287687927191,0.009815822163796749,0.020293256842456846,0.09371969711077204,0.0864086489262868,0.18549753176549408,0.10798387856125263,0.09857199189090378,0.23370375021024503,0.0737866809634638,0.11306158220695862,0.12531806290143974,-0.0450053895504432,0.07148612543047747,0.12476820248777591,0.05759221992086425,-0.08938603511510856,0.19969795639449794,0.04535782149293199,0.0746016963184118,0.04563188941949092,0.15644281101949975,-1.146585340824004,0.15806826003412544,0.14728608835486887,0.18664761242959646,-0.02699721206190457,0.004198268295046606,-0.021698102376367587,0.00568952553884159,0.10478997552065808,0.08388765625059229,0.010997892657606648,0.11342721914935293,0.3534881027625595,0.13592824136692983,0.10478528087718383],\"xaxis\":\"x\",\"y\":[-0.0,-0.0,-0.0,-0.0,-0.0,-0.0,-0.0,0.21641438171287802,-0.0,-0.0,-0.0,1.212704403386765,-0.0,-0.0,-0.0,-0.0,-0.0,-0.0,-0.0,0.0804209564987459,-0.0,-0.0,-0.0,-0.0,-0.0,-0.0,-0.0,-0.0,-0.0,-0.0,0.5505639908968325,-0.0,-0.0,0.4908444988679039,-0.0,-0.0,-0.0,-0.0,-0.0,-0.0,-0.0,0.691774148351904,-0.0,-0.0,0.22754840106584143,-0.0,-0.0,-0.0,-0.0,-0.0,1.2518768150265556,-0.0,0.2878811132392797,0.38892260198662354,-0.0,-0.0,0.7022314736149768,1.2546203602129131,-0.0,-0.0,-0.0,-0.0,-0.0,-0.0,-0.0,0.07812119920174605,-0.0,-0.0,-0.0,-0.0,-0.0,0.32028605936022747,-0.0,-0.0,-0.0,0.2676850162196647,0.8121683880016735,-0.0,-0.0,-0.0,-0.0,-0.0,-0.0,0.9844652874046325,-0.0,-0.0,-0.0,-0.0,-0.0,-0.0,-0.0,-0.0,-0.0,-0.0,-0.0,0.9974695856937948,0.12120346589154568,-0.0,-0.0,-0.0,-0.0,-0.0,-0.0,-0.0,-0.0,-0.0,0.8015025191400922,-0.0,-0.0,-0.0,-0.0,-0.0,-0.0,1.0095886944613577,0.16635918718301665,-0.0,-0.0,-0.0,-0.0,-0.0,-0.0,-0.0,-0.0,-0.0,-0.0,-0.0,-0.0,-0.0,-0.0,-0.0,-0.0,-0.0,-0.0,-0.0,0.44219559100714567,-0.0,-0.0,-0.0,-0.0,-0.0,0.7192281110525257,0.2416079791343307,-0.0,-0.0,-0.0,-0.0,0.6397886040450662,-0.0,-0.0,-0.0,-0.0,-0.0,-0.0,-0.0,-0.0,0.8769035470211057,-0.0,1.1029505353065157,-0.0,-0.0,-0.0,-0.0,-0.0,-0.0,-0.0,-0.0,-0.0,-0.0,-0.0,-0.0,-0.0,-0.0,0.9650802324718797,0.6481853542187754,-0.0,1.2769953601443742,-0.0,0.3933645894054672,-0.0,1.2252606704830522,0.9315024776449021,-0.0,1.184931615886015,-0.0,-0.0,-0.0,0.5741073040073532,0.34938741038855015,0.7222356006571783,0.023463773161961753,-0.0,-0.0,-0.0,-0.0,-0.0,-0.0,-0.0,-0.0,-0.0,-0.0,-0.0,-0.0,-0.0,-0.0,-0.0,-0.0,-0.0,-0.0,-0.0,0.2783744410472648,-0.0,-0.0,-0.0,-0.0,-0.0,-0.0,-0.0,-0.0,-0.0,0.5115305457951128,0.3569580619999283,-0.0,0.3160473923220358,-0.0,-0.0,-0.0,-0.0,-0.0,-0.0,-0.0,0.8669419883347027,-0.0,-0.0,-0.0,-0.0,-0.0,-0.0,-0.0,-0.0,1.1556807892048453,-0.0,0.5792443322047023,-0.0,-0.0,-0.0,-0.0,-0.0,-0.0,-0.0,-0.0,0.3748876231418181,-0.0,-0.0,-0.0,-0.0,0.13618766001999796,-0.0,-0.0,-0.0,0.9028326488206349,-0.0,-0.0,-0.0,-0.0,-0.0,-0.0,-0.0,-0.0,-0.0,-0.0,-0.0,-0.0,-0.0,-0.0,-0.0,-0.0,-0.0,-0.0,-0.0,-0.0,0.7231016386665683,-0.0,-0.0,-0.0,-0.0,-0.0,-0.0,-0.0,-0.0,-0.0,-0.0,-0.0,-0.0,-0.0,-0.0,-0.0,-0.0,-0.0,0.2935853226416283,-0.0,-0.0,-0.0,-0.0,-0.0,-0.0,-0.0,-0.0,-0.0,-0.0,-0.0,-0.0,-0.0,0.4372331810341257,-0.0,-0.0,-0.0,-0.0,-0.0,-0.0,-0.0,-0.0,0.2044773362507058,-0.0,1.0639685969344361,-0.0,-0.0,-0.0,0.33170586207742186,-0.0,-0.0,0.7524134668324055,-0.0,-0.0,-0.0,-0.0,-0.0,-0.0,-0.0,-0.0,-0.0,-0.0,-0.0,-0.0,-0.0,1.0277769558514844,0.8523978272706483,-0.0,-0.0,0.3988071079243285,-0.0,-0.0,-0.0,-0.0,-0.0,0.5107717289761784,-0.0,-0.0,-0.0,0.7923225197767249,-0.0,-0.0,-0.0,-0.0,-0.0,-0.0,-0.0,-0.0,-0.0,0.5135208827092611,-0.0,-0.0,-0.0,-0.0,0.2416388069898094,-0.0,-0.0,-0.0,-0.0,-0.0,-0.0,-0.0,-0.0,-0.0,0.5914734917454656,1.0155666801287355,-0.0,-0.0,-0.0,-0.0,0.5889185591529994,-0.0,-0.0,-0.0,-0.0,-0.0,-0.0,-0.0,-0.0,-0.0,-0.0,-0.0,-0.0,-0.0,-0.0,-0.0,-0.0,-0.0,-0.0,-0.0,-0.0,1.282315689929202,-0.0,-0.0,0.4301906424763677,-0.0,-0.0,-0.0,-0.0,-0.0,-0.0,-0.0,-0.0,-0.0,0.7175027072123537,-0.0,-0.0,0.9443539218018592,-0.0,-0.0,-0.0,-0.0,-0.0,-0.0,-0.0,0.7825150421597699,-0.0,-0.0,-0.0,-0.0,-0.0,-0.0,-0.0,-0.0,-0.0,-0.0,-0.0,-0.0,-0.0,-0.0,-0.0,-0.0,-0.0,-0.0,-0.0,-0.0],\"yaxis\":\"y\",\"type\":\"scatter\"},{\"customdata\":[[\"AFF1\"],[\"ARID1B\"],[\"ARID3A\"],[\"ATF4\"],[\"BCOR\"],[\"BHLHE40\"],[\"BRD4\"],[\"BRD9\"],[\"CBX1\"],[\"CBX5\"],[\"CEBPB\"],[\"CUX1\"],[\"CXXC5\"],[\"DMBX1\"],[\"DPF2\"],[\"E2F1\"],[\"E4F1\"],[\"EP300\"],[\"FOXK2\"],[\"GABPB1\"],[\"HBP1\"],[\"HCFC1\"],[\"HDGF\"],[\"HES1\"],[\"HMG20A\"],[\"HMGXB4\"],[\"IKZF1\"],[\"JUND\"],[\"KAT7\"],[\"KDM1A\"],[\"KLF6\"],[\"LCOR\"],[\"MAZ\"],[\"MECOM\"],[\"MLX\"],[\"MXI1\"],[\"NBN\"],[\"NR2F1\"],[\"NR2F2\"],[\"PHB2\"],[\"PML\"],[\"PRMT5\"],[\"RBFOX2\"],[\"RCOR1\"],[\"RFX5\"],[\"SETDB1\"],[\"SMAD3\"],[\"SMAD4\"],[\"SMARCA4\"],[\"SMARCA5\"],[\"SMARCC2\"],[\"SMARCE1\"],[\"STAG1\"],[\"STAT6\"],[\"TBL1XR1\"],[\"TCF3\"],[\"TEAD1\"],[\"TFAP4\"],[\"WHSC1\"],[\"ZBTB17\"],[\"ZMIZ1\"],[\"ZNF124\"],[\"ZNF23\"],[\"ZNF239\"],[\"ZNF24\"],[\"ZNF281\"],[\"ZNF317\"],[\"ZNF384\"],[\"ZNF592\"]],\"hovertemplate\":\"sign=True\\u003cbr\\u003elog(enhancer \\u002f silencer)=%{x}\\u003cbr\\u003e-log10(pvalue)=%{y}\\u003cbr\\u003emark=%{customdata[0]}\\u003cextra\\u003e\\u003c\\u002fextra\\u003e\",\"legendgroup\":\"True\",\"marker\":{\"color\":\"#EF553B\",\"opacity\":0.5,\"symbol\":\"circle\"},\"mode\":\"markers\",\"name\":\"True\",\"orientation\":\"v\",\"showlegend\":true,\"x\":[0.09045966941910615,1.0293728277312584,0.4842652334699772,0.552628128200164,0.27268728304421697,0.7684569440422286,0.22993124014862917,0.07806351495430948,-0.26329693982537516,-0.3665959947333256,0.793168585562072,0.21437045680197006,0.4781879112724349,0.3254700874605011,0.5372603615093987,0.17462582833117535,-0.025738402322969024,0.9086800408023069,0.4049449393268152,0.1038185117370136,0.1997230910217116,0.04185190261343607,0.31660153426306414,0.2072786516611398,0.13671055799866816,0.25082446194141766,0.4352446890135125,0.7320601437455272,0.17270772403125423,0.2952417744416252,0.16235386869937307,0.22953692175844453,0.6096099382113883,0.25855465014883844,0.18888295468838368,0.40031175866085333,0.22448632313911027,0.41100274739060555,0.5496027490466631,0.23037265207925178,0.5074029729589289,-0.1824556725253089,0.657656738847327,0.7155586263938001,0.25613462414898946,-0.28504106032627474,0.14471809759451137,0.29670149864952167,0.33478747301810535,0.10078860956093985,0.29341654450294297,0.48310672554888767,-0.15202898288132385,0.3075521163798293,0.4518481153558792,0.980077176506164,0.2670975246370616,0.6002736532082459,0.2594842927736712,0.22633826785951874,0.403107219026332,-0.1915846137747702,0.14070371914859403,0.3844058619780772,0.21781382003396363,0.9153864931742701,0.3718592518085676,0.7295484109140521,0.2932098403900443],\"xaxis\":\"x\",\"y\":[1.5844871646826744,4.956708506041491,5.17538261834952,2.05011450850562,3.3173170480105716,2.4072706731329174,2.1287275897045275,3.715306806093626,2.110398303712279,4.208125628815147,2.590753018273014,3.1685106845746414,2.6684338294044867,1.9413499381309602,4.537777886408955,6.542316907592051,2.99145534263774,6.205153030924103,2.334153275313669,1.8554778815997135,1.8174030550865026,1.3038939512455732,6.901047304336995,1.374070063168451,1.3502938316098536,4.951355233141309,5.792151089765362,4.737818716270362,2.3435815720472366,1.472985544474744,1.4077024414090278,1.5839021816528451,3.5550838226267603,1.4577881335016944,3.708377634161413,2.7573365530750955,2.5289460464493443,2.2879910462545543,2.987139107219824,1.6957813841545233,2.1873002941998325,3.9776731118844566,4.037610462567796,5.885855982998605,1.4363662397170822,1.7985169107982606,2.8024818724287544,3.8291589237559793,3.048952980967722,2.2010836163146394,2.7693805973712937,4.538915163854583,2.2731175738111755,5.771739049166173,2.875839841010513,4.782027396082955,2.673956197088625,1.8990357014296333,1.8050381241627635,2.5369500932952915,1.9600828192173643,4.28338903910225,1.4094609885028937,2.4323993940526067,2.2082060101341328,6.319706799726663,4.71439403763204,4.642148476455266,2.3220629458948814],\"yaxis\":\"y\",\"type\":\"scatter\"}],                        {\"template\":{\"data\":{\"histogram2dcontour\":[{\"type\":\"histogram2dcontour\",\"colorbar\":{\"outlinewidth\":0,\"ticks\":\"\"},\"colorscale\":[[0.0,\"#0d0887\"],[0.1111111111111111,\"#46039f\"],[0.2222222222222222,\"#7201a8\"],[0.3333333333333333,\"#9c179e\"],[0.4444444444444444,\"#bd3786\"],[0.5555555555555556,\"#d8576b\"],[0.6666666666666666,\"#ed7953\"],[0.7777777777777778,\"#fb9f3a\"],[0.8888888888888888,\"#fdca26\"],[1.0,\"#f0f921\"]]}],\"choropleth\":[{\"type\":\"choropleth\",\"colorbar\":{\"outlinewidth\":0,\"ticks\":\"\"}}],\"histogram2d\":[{\"type\":\"histogram2d\",\"colorbar\":{\"outlinewidth\":0,\"ticks\":\"\"},\"colorscale\":[[0.0,\"#0d0887\"],[0.1111111111111111,\"#46039f\"],[0.2222222222222222,\"#7201a8\"],[0.3333333333333333,\"#9c179e\"],[0.4444444444444444,\"#bd3786\"],[0.5555555555555556,\"#d8576b\"],[0.6666666666666666,\"#ed7953\"],[0.7777777777777778,\"#fb9f3a\"],[0.8888888888888888,\"#fdca26\"],[1.0,\"#f0f921\"]]}],\"heatmap\":[{\"type\":\"heatmap\",\"colorbar\":{\"outlinewidth\":0,\"ticks\":\"\"},\"colorscale\":[[0.0,\"#0d0887\"],[0.1111111111111111,\"#46039f\"],[0.2222222222222222,\"#7201a8\"],[0.3333333333333333,\"#9c179e\"],[0.4444444444444444,\"#bd3786\"],[0.5555555555555556,\"#d8576b\"],[0.6666666666666666,\"#ed7953\"],[0.7777777777777778,\"#fb9f3a\"],[0.8888888888888888,\"#fdca26\"],[1.0,\"#f0f921\"]]}],\"heatmapgl\":[{\"type\":\"heatmapgl\",\"colorbar\":{\"outlinewidth\":0,\"ticks\":\"\"},\"colorscale\":[[0.0,\"#0d0887\"],[0.1111111111111111,\"#46039f\"],[0.2222222222222222,\"#7201a8\"],[0.3333333333333333,\"#9c179e\"],[0.4444444444444444,\"#bd3786\"],[0.5555555555555556,\"#d8576b\"],[0.6666666666666666,\"#ed7953\"],[0.7777777777777778,\"#fb9f3a\"],[0.8888888888888888,\"#fdca26\"],[1.0,\"#f0f921\"]]}],\"contourcarpet\":[{\"type\":\"contourcarpet\",\"colorbar\":{\"outlinewidth\":0,\"ticks\":\"\"}}],\"contour\":[{\"type\":\"contour\",\"colorbar\":{\"outlinewidth\":0,\"ticks\":\"\"},\"colorscale\":[[0.0,\"#0d0887\"],[0.1111111111111111,\"#46039f\"],[0.2222222222222222,\"#7201a8\"],[0.3333333333333333,\"#9c179e\"],[0.4444444444444444,\"#bd3786\"],[0.5555555555555556,\"#d8576b\"],[0.6666666666666666,\"#ed7953\"],[0.7777777777777778,\"#fb9f3a\"],[0.8888888888888888,\"#fdca26\"],[1.0,\"#f0f921\"]]}],\"surface\":[{\"type\":\"surface\",\"colorbar\":{\"outlinewidth\":0,\"ticks\":\"\"},\"colorscale\":[[0.0,\"#0d0887\"],[0.1111111111111111,\"#46039f\"],[0.2222222222222222,\"#7201a8\"],[0.3333333333333333,\"#9c179e\"],[0.4444444444444444,\"#bd3786\"],[0.5555555555555556,\"#d8576b\"],[0.6666666666666666,\"#ed7953\"],[0.7777777777777778,\"#fb9f3a\"],[0.8888888888888888,\"#fdca26\"],[1.0,\"#f0f921\"]]}],\"mesh3d\":[{\"type\":\"mesh3d\",\"colorbar\":{\"outlinewidth\":0,\"ticks\":\"\"}}],\"scatter\":[{\"fillpattern\":{\"fillmode\":\"overlay\",\"size\":10,\"solidity\":0.2},\"type\":\"scatter\"}],\"parcoords\":[{\"type\":\"parcoords\",\"line\":{\"colorbar\":{\"outlinewidth\":0,\"ticks\":\"\"}}}],\"scatterpolargl\":[{\"type\":\"scatterpolargl\",\"marker\":{\"colorbar\":{\"outlinewidth\":0,\"ticks\":\"\"}}}],\"bar\":[{\"error_x\":{\"color\":\"#2a3f5f\"},\"error_y\":{\"color\":\"#2a3f5f\"},\"marker\":{\"line\":{\"color\":\"#E5ECF6\",\"width\":0.5},\"pattern\":{\"fillmode\":\"overlay\",\"size\":10,\"solidity\":0.2}},\"type\":\"bar\"}],\"scattergeo\":[{\"type\":\"scattergeo\",\"marker\":{\"colorbar\":{\"outlinewidth\":0,\"ticks\":\"\"}}}],\"scatterpolar\":[{\"type\":\"scatterpolar\",\"marker\":{\"colorbar\":{\"outlinewidth\":0,\"ticks\":\"\"}}}],\"histogram\":[{\"marker\":{\"pattern\":{\"fillmode\":\"overlay\",\"size\":10,\"solidity\":0.2}},\"type\":\"histogram\"}],\"scattergl\":[{\"type\":\"scattergl\",\"marker\":{\"colorbar\":{\"outlinewidth\":0,\"ticks\":\"\"}}}],\"scatter3d\":[{\"type\":\"scatter3d\",\"line\":{\"colorbar\":{\"outlinewidth\":0,\"ticks\":\"\"}},\"marker\":{\"colorbar\":{\"outlinewidth\":0,\"ticks\":\"\"}}}],\"scattermapbox\":[{\"type\":\"scattermapbox\",\"marker\":{\"colorbar\":{\"outlinewidth\":0,\"ticks\":\"\"}}}],\"scatterternary\":[{\"type\":\"scatterternary\",\"marker\":{\"colorbar\":{\"outlinewidth\":0,\"ticks\":\"\"}}}],\"scattercarpet\":[{\"type\":\"scattercarpet\",\"marker\":{\"colorbar\":{\"outlinewidth\":0,\"ticks\":\"\"}}}],\"carpet\":[{\"aaxis\":{\"endlinecolor\":\"#2a3f5f\",\"gridcolor\":\"white\",\"linecolor\":\"white\",\"minorgridcolor\":\"white\",\"startlinecolor\":\"#2a3f5f\"},\"baxis\":{\"endlinecolor\":\"#2a3f5f\",\"gridcolor\":\"white\",\"linecolor\":\"white\",\"minorgridcolor\":\"white\",\"startlinecolor\":\"#2a3f5f\"},\"type\":\"carpet\"}],\"table\":[{\"cells\":{\"fill\":{\"color\":\"#EBF0F8\"},\"line\":{\"color\":\"white\"}},\"header\":{\"fill\":{\"color\":\"#C8D4E3\"},\"line\":{\"color\":\"white\"}},\"type\":\"table\"}],\"barpolar\":[{\"marker\":{\"line\":{\"color\":\"#E5ECF6\",\"width\":0.5},\"pattern\":{\"fillmode\":\"overlay\",\"size\":10,\"solidity\":0.2}},\"type\":\"barpolar\"}],\"pie\":[{\"automargin\":true,\"type\":\"pie\"}]},\"layout\":{\"autotypenumbers\":\"strict\",\"colorway\":[\"#636efa\",\"#EF553B\",\"#00cc96\",\"#ab63fa\",\"#FFA15A\",\"#19d3f3\",\"#FF6692\",\"#B6E880\",\"#FF97FF\",\"#FECB52\"],\"font\":{\"color\":\"#2a3f5f\"},\"hovermode\":\"closest\",\"hoverlabel\":{\"align\":\"left\"},\"paper_bgcolor\":\"white\",\"plot_bgcolor\":\"#E5ECF6\",\"polar\":{\"bgcolor\":\"#E5ECF6\",\"angularaxis\":{\"gridcolor\":\"white\",\"linecolor\":\"white\",\"ticks\":\"\"},\"radialaxis\":{\"gridcolor\":\"white\",\"linecolor\":\"white\",\"ticks\":\"\"}},\"ternary\":{\"bgcolor\":\"#E5ECF6\",\"aaxis\":{\"gridcolor\":\"white\",\"linecolor\":\"white\",\"ticks\":\"\"},\"baxis\":{\"gridcolor\":\"white\",\"linecolor\":\"white\",\"ticks\":\"\"},\"caxis\":{\"gridcolor\":\"white\",\"linecolor\":\"white\",\"ticks\":\"\"}},\"coloraxis\":{\"colorbar\":{\"outlinewidth\":0,\"ticks\":\"\"}},\"colorscale\":{\"sequential\":[[0.0,\"#0d0887\"],[0.1111111111111111,\"#46039f\"],[0.2222222222222222,\"#7201a8\"],[0.3333333333333333,\"#9c179e\"],[0.4444444444444444,\"#bd3786\"],[0.5555555555555556,\"#d8576b\"],[0.6666666666666666,\"#ed7953\"],[0.7777777777777778,\"#fb9f3a\"],[0.8888888888888888,\"#fdca26\"],[1.0,\"#f0f921\"]],\"sequentialminus\":[[0.0,\"#0d0887\"],[0.1111111111111111,\"#46039f\"],[0.2222222222222222,\"#7201a8\"],[0.3333333333333333,\"#9c179e\"],[0.4444444444444444,\"#bd3786\"],[0.5555555555555556,\"#d8576b\"],[0.6666666666666666,\"#ed7953\"],[0.7777777777777778,\"#fb9f3a\"],[0.8888888888888888,\"#fdca26\"],[1.0,\"#f0f921\"]],\"diverging\":[[0,\"#8e0152\"],[0.1,\"#c51b7d\"],[0.2,\"#de77ae\"],[0.3,\"#f1b6da\"],[0.4,\"#fde0ef\"],[0.5,\"#f7f7f7\"],[0.6,\"#e6f5d0\"],[0.7,\"#b8e186\"],[0.8,\"#7fbc41\"],[0.9,\"#4d9221\"],[1,\"#276419\"]]},\"xaxis\":{\"gridcolor\":\"white\",\"linecolor\":\"white\",\"ticks\":\"\",\"title\":{\"standoff\":15},\"zerolinecolor\":\"white\",\"automargin\":true,\"zerolinewidth\":2},\"yaxis\":{\"gridcolor\":\"white\",\"linecolor\":\"white\",\"ticks\":\"\",\"title\":{\"standoff\":15},\"zerolinecolor\":\"white\",\"automargin\":true,\"zerolinewidth\":2},\"scene\":{\"xaxis\":{\"backgroundcolor\":\"#E5ECF6\",\"gridcolor\":\"white\",\"linecolor\":\"white\",\"showbackground\":true,\"ticks\":\"\",\"zerolinecolor\":\"white\",\"gridwidth\":2},\"yaxis\":{\"backgroundcolor\":\"#E5ECF6\",\"gridcolor\":\"white\",\"linecolor\":\"white\",\"showbackground\":true,\"ticks\":\"\",\"zerolinecolor\":\"white\",\"gridwidth\":2},\"zaxis\":{\"backgroundcolor\":\"#E5ECF6\",\"gridcolor\":\"white\",\"linecolor\":\"white\",\"showbackground\":true,\"ticks\":\"\",\"zerolinecolor\":\"white\",\"gridwidth\":2}},\"shapedefaults\":{\"line\":{\"color\":\"#2a3f5f\"}},\"annotationdefaults\":{\"arrowcolor\":\"#2a3f5f\",\"arrowhead\":0,\"arrowwidth\":1},\"geo\":{\"bgcolor\":\"white\",\"landcolor\":\"#E5ECF6\",\"subunitcolor\":\"white\",\"showland\":true,\"showlakes\":true,\"lakecolor\":\"white\"},\"title\":{\"x\":0.05},\"mapbox\":{\"style\":\"light\"}}},\"xaxis\":{\"anchor\":\"y\",\"domain\":[0.0,1.0],\"title\":{\"text\":\"log(enhancer \\u002f silencer)\"}},\"yaxis\":{\"anchor\":\"x\",\"domain\":[0.0,1.0],\"title\":{\"text\":\"-log10(pvalue)\"}},\"legend\":{\"title\":{\"text\":\"sign\"},\"tracegroupgap\":0},\"margin\":{\"t\":60}},                        {\"responsive\": true}                    ).then(function(){\n",
       "                            \n",
       "var gd = document.getElementById('8735cb25-2c39-481a-ada0-d0bb9aaec336');\n",
       "var x = new MutationObserver(function (mutations, observer) {{\n",
       "        var display = window.getComputedStyle(gd).display;\n",
       "        if (!display || display === 'none') {{\n",
       "            console.log([gd, 'removed!']);\n",
       "            Plotly.purge(gd);\n",
       "            observer.disconnect();\n",
       "        }}\n",
       "}});\n",
       "\n",
       "// Listen for the removal of the full notebook cells\n",
       "var notebookContainer = gd.closest('#notebook-container');\n",
       "if (notebookContainer) {{\n",
       "    x.observe(notebookContainer, {childList: true});\n",
       "}}\n",
       "\n",
       "// Listen for the clearing of the current output cell\n",
       "var outputEl = gd.closest('.output');\n",
       "if (outputEl) {{\n",
       "    x.observe(outputEl, {childList: true});\n",
       "}}\n",
       "\n",
       "                        })                };                });            </script>        </div>"
      ]
     },
     "metadata": {},
     "output_type": "display_data"
    }
   ],
   "source": [
    "px.scatter(data_frame=df, x='log(enhancer / silencer)', y='-log10(pvalue)', color='sign', hover_data='mark', opacity=0.5)\n"
   ]
  },
  {
   "cell_type": "markdown",
   "id": "62190222-5307-4e23-9f3a-e5c409c3548b",
   "metadata": {},
   "source": [
    "# UMAP"
   ]
  },
  {
   "cell_type": "code",
   "execution_count": 40,
   "id": "db1c435f-1e27-47c9-91a0-e71fa99f38ed",
   "metadata": {},
   "outputs": [],
   "source": [
    "significant_tfs = df[df['sign']]\n"
   ]
  },
  {
   "cell_type": "code",
   "execution_count": 63,
   "id": "338406d7-d73f-445c-bd3c-6e2d6bb61b52",
   "metadata": {},
   "outputs": [],
   "source": [
    "significant_tf_df = []\n",
    "for mark, one_mark_df in unique_tf_df.groupby('epigenetic mark'):\n",
    "    if (mark in significant_tfs['mark'].values) and (significant_tfs[significant_tfs['mark']==mark]['log(enhancer / silencer)'].values > 0.3):\n",
    "        significant_tf_df.append(one_mark_df)\n",
    "significant_tf_df = pd.concat(significant_tf_df)"
   ]
  },
  {
   "cell_type": "code",
   "execution_count": 64,
   "id": "e3efd94b-0229-4f02-972b-dac5dbbf5d8d",
   "metadata": {},
   "outputs": [
    {
     "data": {
      "text/plain": [
       "Series([], Name: log(enhancer / silencer), dtype: object)"
      ]
     },
     "execution_count": 64,
     "metadata": {},
     "output_type": "execute_result"
    }
   ],
   "source": [
    "significant_tfs[significant_tfs['mark']==mark]['log(enhancer / silencer)']"
   ]
  },
  {
   "cell_type": "code",
   "execution_count": 69,
   "id": "1696b419-fc4a-4880-af43-c58dbf4eed99",
   "metadata": {},
   "outputs": [
    {
     "name": "stderr",
     "output_type": "stream",
     "text": [
      "/home/toneyan/.conda/envs/tf/lib/python3.9/site-packages/umap/umap_.py:1943: UserWarning:\n",
      "\n",
      "n_jobs value -1 overridden to 1 by setting random_state. Use no seed for parallelism.\n",
      "\n"
     ]
    },
    {
     "name": "stdout",
     "output_type": "stream",
     "text": [
      "(296, 2)\n"
     ]
    },
    {
     "data": {
      "image/png": "[encoded data removed]",
      "text/plain": [
       "<Figure size 640x480 with 1 Axes>"
      ]
     },
     "metadata": {},
     "output_type": "display_data"
    }
   ],
   "source": [
    "for cell_line in ['K562']:#, 'GM12878', 'PC-3']:\n",
    "    enh_sil_features = []\n",
    "    for cre_type in ['Enhancer', 'Silencer']:\n",
    "        feature_set = []\n",
    "        for df in [unique_histone_df]:#, unique_histone_df, unique_acc_df]:\n",
    "            df = df[(df['cell line'] == cell_line) & (df['CRE type']==cre_type)].pivot(columns='epigenetic mark', \n",
    "                                                                                        index='CRE id', values='Mean coverage')\n",
    "            feature_set.append(df)\n",
    "        feature_set = pd.concat(feature_set, axis=1)\n",
    "        feature_set['CRE_type'] = cre_type\n",
    "        enh_sil_features.append(feature_set)\n",
    "    enh_sil_features = pd.concat(enh_sil_features)\n",
    "    plot_umap(enh_sil_features.iloc[:,:-1].values, enh_sil_features.iloc[:,-1])\n",
    "    plt.show()"
   ]
  },
  {
   "cell_type": "code",
   "execution_count": 22,
   "id": "eb1de0ae-52ae-4d36-87ae-4ef07dc6df78",
   "metadata": {},
   "outputs": [
    {
     "data": {
      "text/plain": [
       "array(['AFF1', 'AFF4', 'ARID1B', 'ARID2', 'ARID3A', 'ARNT', 'ATF3',\n",
       "       'ATF4', 'ATF6', 'BACH1', 'BCOR', 'BHLHE40', 'BMI1', 'BRD4', 'BRD9',\n",
       "       'CC2D1A', 'CDC5L', 'CEBPB', 'CGGBP1', 'CHD4', 'CTCF', 'CUX1',\n",
       "       'CXXC5', 'DDIT3', 'DDX20', 'DEAF1', 'DMBX1', 'DMTF1', 'DNMT1',\n",
       "       'DPF2', 'E2F1', 'E2F5', 'E2F8', 'E4F1', 'ELF1', 'ELK3', 'EP300',\n",
       "       'EP400', 'ETV1', 'ETV5', 'ETV6', 'FOXA3', 'FOXK2', 'FOXM1',\n",
       "       'FOXP4', 'GABPB1', 'HBP1', 'HCFC1', 'HDAC1', 'HDAC2', 'HDGF',\n",
       "       'HES1', 'HINFP', 'HLTF', 'HMBOX1', 'HMG20A', 'HMGXB4', 'ID3',\n",
       "       'IFI16', 'IKZF1', 'IRF1', 'JUN', 'JUND', 'KAT7', 'KAT8', 'KDM1A',\n",
       "       'KHSRP', 'KLF6', 'LARP7', 'LCOR', 'LEF1', 'MAFF', 'MAFG', 'MAFK',\n",
       "       'MAZ', 'MECOM', 'MIER1', 'MITF', 'MLLT1', 'MLX', 'MNT', 'MTA1',\n",
       "       'MTA2', 'MTF1', 'MXI1', 'MYC', 'NBN', 'NCOA1', 'NCOR1', 'NFATC3',\n",
       "       'NFRKB', 'NFXL1', 'NKRF', 'NR1H2', 'NR2C1', 'NR2F1', 'NR2F2',\n",
       "       'NRF1', 'PHB2', 'PKNOX1', 'PML', 'PRDM10', 'PYGO2', 'RAD51',\n",
       "       'RBFOX2', 'RCOR1', 'RELA', 'RFX5', 'RFX7', 'RHOXF2B', 'SMAD1',\n",
       "       'SMAD3', 'SMAD4', 'SMARCA4', 'SMARCA5', 'SMARCB1', 'SMARCC2',\n",
       "       'SMARCE1', 'SP1', 'SREBF2', 'STAT6', 'TBL1XR1', 'TBPL1', 'TCF12',\n",
       "       'TCF15', 'TCF3', 'TCFL5', 'TEAD1', 'TFAP4', 'TFDP1', 'TFE3',\n",
       "       'TOE1', 'TRIM24', 'TRIM25', 'TSHZ1', 'UBTF', 'WHSC1', 'YBX3',\n",
       "       'ZBTB17', 'ZBTB2', 'ZBTB26', 'ZBTB40', 'ZBTB43', 'ZBTB9',\n",
       "       'ZC3H11A', 'ZC3H8', 'ZEB2', 'ZFP91', 'ZKSCAN8', 'ZNF12', 'ZNF134',\n",
       "       'ZNF174', 'ZNF175', 'ZNF212', 'ZNF215', 'ZNF23', 'ZNF239', 'ZNF24',\n",
       "       'ZNF257', 'ZNF281', 'ZNF316', 'ZNF317', 'ZNF384', 'ZNF407',\n",
       "       'ZNF41', 'ZNF431', 'ZNF444', 'ZNF449', 'ZNF512', 'ZNF561', 'ZNF57',\n",
       "       'ZNF586', 'ZNF589', 'ZNF592', 'ZNF609', 'ZNF696', 'ZNF700',\n",
       "       'ZNF707', 'ZNF76', 'ZNF79', 'ZNF84', 'ZSCAN32'], dtype=object)"
      ]
     },
     "execution_count": 22,
     "metadata": {},
     "output_type": "execute_result"
    }
   ],
   "source": [
    "df[df['sign']]['mark'].values"
   ]
  },
  {
   "cell_type": "code",
   "execution_count": 211,
   "id": "7e436cf0-6ed7-4d9e-915f-27d517a70af4",
   "metadata": {},
   "outputs": [],
   "source": []
  },
  {
   "cell_type": "code",
   "execution_count": null,
   "id": "3641e49c-4ede-4527-ac1b-ddc07a68ee37",
   "metadata": {},
   "outputs": [],
   "source": []
  },
  {
   "cell_type": "code",
   "execution_count": 212,
   "id": "0fe7a1e9-6efe-44c1-a2a3-54071bd6905d",
   "metadata": {},
   "outputs": [],
   "source": [
    "\n"
   ]
  },
  {
   "cell_type": "code",
   "execution_count": 213,
   "id": "11229687-a378-4f42-894d-8220c970ff1b",
   "metadata": {},
   "outputs": [],
   "source": []
  },
  {
   "cell_type": "code",
   "execution_count": 214,
   "id": "21447553-4b5d-4896-8c11-495294416301",
   "metadata": {},
   "outputs": [
    {
     "data": {
      "image/png": "[encoded data removed]",
      "text/plain": [
       "<Figure size 640x480 with 1 Axes>"
      ]
     },
     "metadata": {},
     "output_type": "display_data"
    }
   ],
   "source": []
  },
  {
   "cell_type": "code",
   "execution_count": 2,
   "id": "4e2904b2-41fe-482a-918b-49a638b8a597",
   "metadata": {},
   "outputs": [
    {
     "ename": "NameError",
     "evalue": "name 'df' is not defined",
     "output_type": "error",
     "traceback": [
      "\u001b[0;31m---------------------------------------------------------------------------\u001b[0m",
      "\u001b[0;31mNameError\u001b[0m                                 Traceback (most recent call last)",
      "Cell \u001b[0;32mIn[2], line 1\u001b[0m\n\u001b[0;32m----> 1\u001b[0m px\u001b[38;5;241m.\u001b[39mscatter(data\u001b[38;5;241m=\u001b[39m\u001b[43mdf\u001b[49m, x\u001b[38;5;241m=\u001b[39m\u001b[38;5;124m'\u001b[39m\u001b[38;5;124mlog(enhancer / silencer)\u001b[39m\u001b[38;5;124m'\u001b[39m, y\u001b[38;5;241m=\u001b[39m\u001b[38;5;124m'\u001b[39m\u001b[38;5;124m-log10(pvalue)\u001b[39m\u001b[38;5;124m'\u001b[39m, alpha\u001b[38;5;241m=\u001b[39m\u001b[38;5;241m0.3\u001b[39m, color\u001b[38;5;241m=\u001b[39m\u001b[38;5;124m'\u001b[39m\u001b[38;5;124msign\u001b[39m\u001b[38;5;124m'\u001b[39m, edgecolor\u001b[38;5;241m=\u001b[39m\u001b[38;5;28;01mNone\u001b[39;00m)\n",
      "\u001b[0;31mNameError\u001b[0m: name 'df' is not defined"
     ]
    }
   ],
   "source": []
  },
  {
   "cell_type": "code",
   "execution_count": 221,
   "id": "b7163c3e-cfa1-48af-80cf-4f510395a9b7",
   "metadata": {},
   "outputs": [
    {
     "data": {
      "text/plain": [
       "array(['PYGO2', 'ETV6', 'DMTF1', 'HINFP', 'ZNF707', 'ZNF512', 'MTF1',\n",
       "       'DEAF1', 'CGGBP1', 'ARID2', 'ZNF79', 'DDIT3', 'NFXL1', 'LEF1',\n",
       "       'SREBF2', 'NR2C1', 'ID3', 'TSHZ1', 'ZKSCAN8', 'TBPL1', 'ZNF449',\n",
       "       'NR1H2', 'FOXP4', 'ZBTB43', 'YBX3', 'EP400', 'TCFL5', 'ZNF84',\n",
       "       'ZFP91', 'ZNF696', 'KAT8', 'ELK3', 'IFI16', 'ZNF700', 'ZNF561',\n",
       "       'LARP7', 'ZNF57', 'SMAD3', 'ZNF257', 'ZNF174', 'ZNF212', 'ZNF431',\n",
       "       'KHSRP', 'IRF1', 'FOXA3', 'RFX7', 'TFE3', 'ZNF41', 'E4F1',\n",
       "       'ZNF407', 'TCF15', 'ZC3H8', 'SP1', 'E2F5', 'BMI1', 'BACH1',\n",
       "       'TFDP1', 'ZSCAN32', 'TRIM24', 'ZBTB26', 'ZNF316', 'MITF', 'HMG20A',\n",
       "       'ZNF609', 'ARNT', 'ZNF76', 'MIER1', 'DNMT1', 'ZNF134', 'ZNF12',\n",
       "       'AFF4', 'HBP1', 'DDX20', 'CDC5L', 'HLTF', 'ZNF586', 'TRIM25',\n",
       "       'HES1', 'RHOXF2B', 'ZNF175', 'CUX1', 'ATF3', 'NCOA1', 'PHB2',\n",
       "       'ZNF589', 'ZNF24', 'NFATC3', 'SMARCA5', 'MTA1', 'TOE1', 'ATF6',\n",
       "       'CC2D1A', 'RFX5', 'TEAD1', 'RELA', 'NFRKB', 'MLLT1', 'ZBTB40',\n",
       "       'AFF1', 'GABPB1', 'PKNOX1', 'MAFG', 'JUN', 'NKRF', 'BRD9', 'E2F1',\n",
       "       'ZC3H11A', 'LCOR', 'RAD51', 'ZNF444', 'HMBOX1', 'FOXM1', 'BRD4',\n",
       "       'CHD4', 'MLX', 'HCFC1', 'MECOM', 'ZEB2', 'ELF1', 'ZNF23', 'FOXK2',\n",
       "       'NCOR1', 'KDM1A', 'KLF6', 'ETV1', 'E2F8', 'SMAD1', 'NBN', 'KAT7',\n",
       "       'MTA2', 'ETV5', 'ZBTB17', 'SMARCB1', 'ZBTB9', 'HDAC1', 'ZBTB2',\n",
       "       'ZNF239', 'TCF12', 'BCOR', 'MXI1', 'MAFK', 'PML', 'MAFF',\n",
       "       'SMARCC2', 'NRF1', 'MNT', 'CTCF', 'ATF4', 'SMAD4', 'MYC', 'ZNF215',\n",
       "       'NR2F1', 'NR2F2', 'HDAC2', 'UBTF', 'TBL1XR1', 'DMBX1', 'HMGXB4',\n",
       "       'SMARCA4', 'CEBPB', 'CXXC5', 'ZNF592', 'HDGF', 'WHSC1', 'SMARCE1',\n",
       "       'BHLHE40', 'TFAP4', 'ZNF384', 'IKZF1', 'ZNF317', 'ARID3A',\n",
       "       'ARID1B', 'STAT6', 'MAZ', 'DPF2', 'EP300', 'TCF3', 'JUND', 'RCOR1',\n",
       "       'RBFOX2', 'ZNF281', 'PRDM10'], dtype=object)"
      ]
     },
     "execution_count": 221,
     "metadata": {},
     "output_type": "execute_result"
    }
   ],
   "source": [
    "df[df['sign']].sort_values('log(enhancer / silencer)')['mark'].values"
   ]
  },
  {
   "cell_type": "code",
   "execution_count": null,
   "id": "0f2a372e-a77c-44d0-aca4-b883371984ef",
   "metadata": {},
   "outputs": [],
   "source": []
  }
 ],
 "metadata": {
  "kernelspec": {
   "display_name": "Python 3 (ipykernel)",
   "language": "python",
   "name": "python3"
  },
  "language_info": {
   "codemirror_mode": {
    "name": "ipython",
    "version": 3
   },
   "file_extension": ".py",
   "mimetype": "text/x-python",
   "name": "python",
   "nbconvert_exporter": "python",
   "pygments_lexer": "ipython3",
   "version": "3.9.16"
  }
 },
 "nbformat": 4,
 "nbformat_minor": 5
}
