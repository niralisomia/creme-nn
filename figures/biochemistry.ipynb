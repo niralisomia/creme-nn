{
 "cells": [
  {
   "cell_type": "code",
   "execution_count": 1,
   "id": "a124605e-bc17-4fe6-8f6b-1760b1d56039",
   "metadata": {},
   "outputs": [
    {
     "name": "stderr",
     "output_type": "stream",
     "text": [
      "2023-11-21 13:38:19.189479: I tensorflow/core/platform/cpu_feature_guard.cc:193] This TensorFlow binary is optimized with oneAPI Deep Neural Network Library (oneDNN) to use the following CPU instructions in performance-critical operations:  SSE4.1 SSE4.2 AVX AVX2 FMA\n",
      "To enable them in other operations, rebuild TensorFlow with the appropriate compiler flags.\n"
     ]
    }
   ],
   "source": [
    "%load_ext autoreload\n",
    "%autoreload 2\n",
    "import pandas as pd\n",
    "import numpy as np\n",
    "import sys\n",
    "sys.path.append('../creme/')\n",
    "import custom_model\n",
    "import creme\n",
    "import utils\n",
    "import glob\n",
    "from tqdm import tqdm\n",
    "import matplotlib.pyplot as plt\n",
    "import seaborn as sns\n",
    "import pyranges as pr\n",
    "import shutil\n",
    "import pickle\n",
    "import kipoiseq\n",
    "from itertools import combinations\n",
    "import scipy\n",
    "import pyBigWig\n",
    "import os\n",
    "from statannotations.Annotator import Annotator"
   ]
  },
  {
   "cell_type": "code",
   "execution_count": 2,
   "id": "544f1899-3ac5-4a1e-a523-915188bad41a",
   "metadata": {},
   "outputs": [],
   "source": [
    "cre_size = 5000"
   ]
  },
  {
   "cell_type": "code",
   "execution_count": 3,
   "id": "ed07a1bd-9513-42da-8432-a75fb5fa1623",
   "metadata": {},
   "outputs": [
    {
     "name": "stderr",
     "output_type": "stream",
     "text": [
      "2023-11-21 13:39:01.629239: I tensorflow/core/platform/cpu_feature_guard.cc:193] This TensorFlow binary is optimized with oneAPI Deep Neural Network Library (oneDNN) to use the following CPU instructions in performance-critical operations:  SSE4.1 SSE4.2 AVX AVX2 FMA\n",
      "To enable them in other operations, rebuild TensorFlow with the appropriate compiler flags.\n",
      "2023-11-21 13:39:02.581809: I tensorflow/core/common_runtime/gpu/gpu_device.cc:1613] Created device /job:localhost/replica:0/task:0/device:GPU:0 with 69493 MB memory:  -> device: 0, name: NVIDIA A100 80GB PCIe, pci bus id: 0000:85:00.0, compute capability: 8.0\n"
     ]
    }
   ],
   "source": [
    "model = custom_model.Enformer()"
   ]
  },
  {
   "cell_type": "code",
   "execution_count": 4,
   "id": "2d78170c-8d75-41d8-b3f0-70deb4c32367",
   "metadata": {},
   "outputs": [],
   "source": [
    "cell_line_data = {'K562': {'ENCFF413AHU': 'DNase', 'ENCFF381NDD': 'H3K27ac'}}"
   ]
  },
  {
   "cell_type": "code",
   "execution_count": 5,
   "id": "bec0730d-33b1-4e21-83fc-b53807f1f9dd",
   "metadata": {},
   "outputs": [],
   "source": [
    "cres = pd.read_csv('../results/sufficiency_test//enformer_selected_cres.csv')"
   ]
  },
  {
   "cell_type": "code",
   "execution_count": 6,
   "id": "24f71b36-cf97-4fc5-92f3-1fc527a899fc",
   "metadata": {},
   "outputs": [],
   "source": [
    "def convert_pvalue_to_asterisks(pvalue):\n",
    "    if pvalue <= 0.0001:\n",
    "        return \"****\"\n",
    "    elif pvalue <= 0.001:\n",
    "        return \"***\"\n",
    "    elif pvalue <= 0.01:\n",
    "        return \"**\"\n",
    "    elif pvalue <= 0.05:\n",
    "        return \"*\"\n",
    "    return \"ns\""
   ]
  },
  {
   "cell_type": "code",
   "execution_count": 12,
   "id": "222e0d1f-8440-45dc-8038-fc7a99f517d3",
   "metadata": {},
   "outputs": [
    {
     "name": "stdout",
     "output_type": "stream",
     "text": [
      "p-value annotation legend:\n",
      "      ns: p <= 1.00e+00\n",
      "       *: 1.00e-02 < p <= 5.00e-02\n",
      "      **: 1.00e-03 < p <= 1.00e-02\n",
      "     ***: 1.00e-04 < p <= 1.00e-03\n",
      "    ****: p <= 1.00e-04\n",
      "\n",
      "Silencer vs. Enhancer: Mann-Whitney-Wilcoxon test two-sided, P_val:2.881e-09 U_stat=1.831e+05\n"
     ]
    },
    {
     "data": {
      "image/png": "[encoded data removed]",
      "text/plain": [
       "<Figure size 640x480 with 1 Axes>"
      ]
     },
     "metadata": {},
     "output_type": "display_data"
    },
    {
     "name": "stdout",
     "output_type": "stream",
     "text": [
      "p-value annotation legend:\n",
      "      ns: p <= 1.00e+00\n",
      "       *: 1.00e-02 < p <= 5.00e-02\n",
      "      **: 1.00e-03 < p <= 1.00e-02\n",
      "     ***: 1.00e-04 < p <= 1.00e-03\n",
      "    ****: p <= 1.00e-04\n",
      "\n",
      "Silencer vs. Enhancer: Mann-Whitney-Wilcoxon test two-sided, P_val:5.963e-09 U_stat=1.839e+05\n"
     ]
    },
    {
     "data": {
      "image/png": "[encoded data removed]",
      "text/plain": [
       "<Figure size 640x480 with 1 Axes>"
      ]
     },
     "metadata": {},
     "output_type": "display_data"
    }
   ],
   "source": [
    "x='cre'\n",
    "y='mean'\n",
    "for cell, data_ids in cell_line_data.items():\n",
    "    cell_df = cres[cres['cell_line']==cell]\n",
    "\n",
    "    for bw_id, label in data_ids.items():\n",
    "        bw = pyBigWig.open(f'../data/{bw_id}.bigWig')\n",
    "        chromatin_marks = []\n",
    "        for cre_type, df in cell_df.groupby('tile class'): \n",
    "            vals = []\n",
    "            for i, row in df.iterrows():\n",
    "                chrom, tss = row['seq_id'].split('_')[1:3]\n",
    "                seq_start = int(tss) - model.seq_length//2\n",
    "                cre_start = seq_start + row['tile_start']\n",
    "                cre_end = cre_start + cre_size\n",
    "        \n",
    "                vals.append(bw.values(chrom, cre_start, cre_end))\n",
    "            chromatin_marks_per_cre = pd.DataFrame.from_dict({y: np.array(vals).mean(axis=-1)})\n",
    "            chromatin_marks_per_cre[x] = cre_type\n",
    "            chromatin_marks.append(chromatin_marks_per_cre)\n",
    "            \n",
    "        chromatin_marks = pd.concat(chromatin_marks)\n",
    "        pairs = ['Enhancer', 'Silencer']\n",
    "        order = ['Silencer', 'Enhancer']\n",
    "        \n",
    "        ax = sns.boxplot(data=chromatin_marks, x=x, y=y, order=order, showfliers=False, palette={'Enhancer':'g', 'Silencer':'r'})\n",
    "        ax.spines['top'].set_visible(False)\n",
    "        ax.spines['right'].set_visible(False)\n",
    "        pairs=[(\"Enhancer\", \"Silencer\")]\n",
    "        \n",
    "        annotator = Annotator(ax, pairs, data=chromatin_marks, x=x, y=y, order=order)\n",
    "        annotator.configure(test='Mann-Whitney', text_format='star', loc='outside')\n",
    "        annotator.apply_and_annotate()\n",
    "        plt.show()\n",
    "        \n",
    "        "
   ]
  },
  {
   "cell_type": "code",
   "execution_count": null,
   "id": "63038a7a-1b18-402c-b966-87a650a31d9b",
   "metadata": {},
   "outputs": [],
   "source": []
  }
 ],
 "metadata": {
  "kernelspec": {
   "display_name": "Python 3 (ipykernel)",
   "language": "python",
   "name": "python3"
  },
  "language_info": {
   "codemirror_mode": {
    "name": "ipython",
    "version": 3
   },
   "file_extension": ".py",
   "mimetype": "text/x-python",
   "name": "python",
   "nbconvert_exporter": "python",
   "pygments_lexer": "ipython3",
   "version": "3.9.16"
  }
 },
 "nbformat": 4,
 "nbformat_minor": 5
}
