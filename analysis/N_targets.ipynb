{
 "cells": [
  {
   "cell_type": "code",
   "execution_count": 2,
   "id": "24ad77aa-647c-4617-a1ef-e30876118f54",
   "metadata": {},
   "outputs": [
    {
     "name": "stderr",
     "output_type": "stream",
     "text": [
      "2023-10-24 14:25:39.202455: I tensorflow/core/platform/cpu_feature_guard.cc:193] This TensorFlow binary is optimized with oneAPI Deep Neural Network Library (oneDNN) to use the following CPU instructions in performance-critical operations:  SSE4.1 SSE4.2 AVX AVX2 FMA\n",
      "To enable them in other operations, rebuild TensorFlow with the appropriate compiler flags.\n"
     ]
    }
   ],
   "source": [
    "%load_ext autoreload\n",
    "%autoreload 2\n",
    "import pandas as pd\n",
    "import numpy as np\n",
    "import sys\n",
    "sys.path.append('../creme/')\n",
    "import custom_model\n",
    "import creme\n",
    "import utils\n",
    "import glob\n",
    "from tqdm import tqdm\n",
    "import matplotlib.pyplot as plt\n",
    "import seaborn as sns"
   ]
  },
  {
   "cell_type": "code",
   "execution_count": 8,
   "id": "0fd8e602-281e-4c97-acb8-82478d876b10",
   "metadata": {},
   "outputs": [],
   "source": [
    "target_df = pd.read_csv('../data/borzoi_targets_human.txt', sep='\\t', index_col='Unnamed: 0')\n",
    "cage_rna_tracks = [i for i, t in enumerate(target_df['description']) if 'CAGE' in t or 'RNA' in t]"
   ]
  },
  {
   "cell_type": "code",
   "execution_count": 9,
   "id": "6f9110fc-f6b8-4fd5-bc9f-eade41a76865",
   "metadata": {},
   "outputs": [
    {
     "data": {
      "text/html": [
       "<div>\n",
       "<style scoped>\n",
       "    .dataframe tbody tr th:only-of-type {\n",
       "        vertical-align: middle;\n",
       "    }\n",
       "\n",
       "    .dataframe tbody tr th {\n",
       "        vertical-align: top;\n",
       "    }\n",
       "\n",
       "    .dataframe thead th {\n",
       "        text-align: right;\n",
       "    }\n",
       "</style>\n",
       "<table border=\"1\" class=\"dataframe\">\n",
       "  <thead>\n",
       "    <tr style=\"text-align: right;\">\n",
       "      <th></th>\n",
       "      <th>identifier</th>\n",
       "      <th>file</th>\n",
       "      <th>clip</th>\n",
       "      <th>clip_soft</th>\n",
       "      <th>scale</th>\n",
       "      <th>sum_stat</th>\n",
       "      <th>strand_pair</th>\n",
       "      <th>description</th>\n",
       "    </tr>\n",
       "  </thead>\n",
       "  <tbody>\n",
       "    <tr>\n",
       "      <th>0</th>\n",
       "      <td>CNhs10608+</td>\n",
       "      <td>/home/drk/tillage/datasets/human/cage/fantom/C...</td>\n",
       "      <td>768</td>\n",
       "      <td>384</td>\n",
       "      <td>1.00</td>\n",
       "      <td>sum</td>\n",
       "      <td>1</td>\n",
       "      <td>CAGE:Clontech Human Universal Reference Total ...</td>\n",
       "    </tr>\n",
       "    <tr>\n",
       "      <th>1</th>\n",
       "      <td>CNhs10608-</td>\n",
       "      <td>/home/drk/tillage/datasets/human/cage/fantom/C...</td>\n",
       "      <td>768</td>\n",
       "      <td>384</td>\n",
       "      <td>1.00</td>\n",
       "      <td>sum</td>\n",
       "      <td>0</td>\n",
       "      <td>CAGE:Clontech Human Universal Reference Total ...</td>\n",
       "    </tr>\n",
       "    <tr>\n",
       "      <th>2</th>\n",
       "      <td>CNhs10610+</td>\n",
       "      <td>/home/drk/tillage/datasets/human/cage/fantom/C...</td>\n",
       "      <td>768</td>\n",
       "      <td>384</td>\n",
       "      <td>1.00</td>\n",
       "      <td>sum</td>\n",
       "      <td>3</td>\n",
       "      <td>CAGE:SABiosciences XpressRef Human Universal T...</td>\n",
       "    </tr>\n",
       "    <tr>\n",
       "      <th>3</th>\n",
       "      <td>CNhs10610-</td>\n",
       "      <td>/home/drk/tillage/datasets/human/cage/fantom/C...</td>\n",
       "      <td>768</td>\n",
       "      <td>384</td>\n",
       "      <td>1.00</td>\n",
       "      <td>sum</td>\n",
       "      <td>2</td>\n",
       "      <td>CAGE:SABiosciences XpressRef Human Universal T...</td>\n",
       "    </tr>\n",
       "    <tr>\n",
       "      <th>4</th>\n",
       "      <td>CNhs10612+</td>\n",
       "      <td>/home/drk/tillage/datasets/human/cage/fantom/C...</td>\n",
       "      <td>768</td>\n",
       "      <td>384</td>\n",
       "      <td>1.00</td>\n",
       "      <td>sum</td>\n",
       "      <td>5</td>\n",
       "      <td>CAGE:Universal RNA - Human Normal Tissues Bioc...</td>\n",
       "    </tr>\n",
       "    <tr>\n",
       "      <th>...</th>\n",
       "      <td>...</td>\n",
       "      <td>...</td>\n",
       "      <td>...</td>\n",
       "      <td>...</td>\n",
       "      <td>...</td>\n",
       "      <td>...</td>\n",
       "      <td>...</td>\n",
       "      <td>...</td>\n",
       "    </tr>\n",
       "    <tr>\n",
       "      <th>7606</th>\n",
       "      <td>GTEX-13FTX-1026-SM-5J2O5.1</td>\n",
       "      <td>/home/drk/tillage/datasets/human/rna/recount3/...</td>\n",
       "      <td>768</td>\n",
       "      <td>384</td>\n",
       "      <td>0.01</td>\n",
       "      <td>sum_sqrt</td>\n",
       "      <td>7606</td>\n",
       "      <td>RNA:uterus</td>\n",
       "    </tr>\n",
       "    <tr>\n",
       "      <th>7607</th>\n",
       "      <td>GTEX-1MA7W-1526-SM-DHXKS.1</td>\n",
       "      <td>/home/drk/tillage/datasets/human/rna/recount3/...</td>\n",
       "      <td>768</td>\n",
       "      <td>384</td>\n",
       "      <td>0.01</td>\n",
       "      <td>sum_sqrt</td>\n",
       "      <td>7607</td>\n",
       "      <td>RNA:uterus</td>\n",
       "    </tr>\n",
       "    <tr>\n",
       "      <th>7608</th>\n",
       "      <td>GTEX-11EMC-1926-SM-5A5JU.1</td>\n",
       "      <td>/home/drk/tillage/datasets/human/rna/recount3/...</td>\n",
       "      <td>768</td>\n",
       "      <td>384</td>\n",
       "      <td>0.01</td>\n",
       "      <td>sum_sqrt</td>\n",
       "      <td>7608</td>\n",
       "      <td>RNA:vagina</td>\n",
       "    </tr>\n",
       "    <tr>\n",
       "      <th>7609</th>\n",
       "      <td>GTEX-12WSB-2426-SM-5EGJC.1</td>\n",
       "      <td>/home/drk/tillage/datasets/human/rna/recount3/...</td>\n",
       "      <td>768</td>\n",
       "      <td>384</td>\n",
       "      <td>0.01</td>\n",
       "      <td>sum_sqrt</td>\n",
       "      <td>7609</td>\n",
       "      <td>RNA:vagina</td>\n",
       "    </tr>\n",
       "    <tr>\n",
       "      <th>7610</th>\n",
       "      <td>GTEX-W5WG-1026-SM-4LMIF.1</td>\n",
       "      <td>/home/drk/tillage/datasets/human/rna/recount3/...</td>\n",
       "      <td>768</td>\n",
       "      <td>384</td>\n",
       "      <td>0.01</td>\n",
       "      <td>sum_sqrt</td>\n",
       "      <td>7610</td>\n",
       "      <td>RNA:vagina</td>\n",
       "    </tr>\n",
       "  </tbody>\n",
       "</table>\n",
       "<p>2823 rows × 8 columns</p>\n",
       "</div>"
      ],
      "text/plain": [
       "                      identifier   \n",
       "0                     CNhs10608+  \\\n",
       "1                     CNhs10608-   \n",
       "2                     CNhs10610+   \n",
       "3                     CNhs10610-   \n",
       "4                     CNhs10612+   \n",
       "...                          ...   \n",
       "7606  GTEX-13FTX-1026-SM-5J2O5.1   \n",
       "7607  GTEX-1MA7W-1526-SM-DHXKS.1   \n",
       "7608  GTEX-11EMC-1926-SM-5A5JU.1   \n",
       "7609  GTEX-12WSB-2426-SM-5EGJC.1   \n",
       "7610   GTEX-W5WG-1026-SM-4LMIF.1   \n",
       "\n",
       "                                                   file  clip  clip_soft   \n",
       "0     /home/drk/tillage/datasets/human/cage/fantom/C...   768        384  \\\n",
       "1     /home/drk/tillage/datasets/human/cage/fantom/C...   768        384   \n",
       "2     /home/drk/tillage/datasets/human/cage/fantom/C...   768        384   \n",
       "3     /home/drk/tillage/datasets/human/cage/fantom/C...   768        384   \n",
       "4     /home/drk/tillage/datasets/human/cage/fantom/C...   768        384   \n",
       "...                                                 ...   ...        ...   \n",
       "7606  /home/drk/tillage/datasets/human/rna/recount3/...   768        384   \n",
       "7607  /home/drk/tillage/datasets/human/rna/recount3/...   768        384   \n",
       "7608  /home/drk/tillage/datasets/human/rna/recount3/...   768        384   \n",
       "7609  /home/drk/tillage/datasets/human/rna/recount3/...   768        384   \n",
       "7610  /home/drk/tillage/datasets/human/rna/recount3/...   768        384   \n",
       "\n",
       "      scale  sum_stat  strand_pair   \n",
       "0      1.00       sum            1  \\\n",
       "1      1.00       sum            0   \n",
       "2      1.00       sum            3   \n",
       "3      1.00       sum            2   \n",
       "4      1.00       sum            5   \n",
       "...     ...       ...          ...   \n",
       "7606   0.01  sum_sqrt         7606   \n",
       "7607   0.01  sum_sqrt         7607   \n",
       "7608   0.01  sum_sqrt         7608   \n",
       "7609   0.01  sum_sqrt         7609   \n",
       "7610   0.01  sum_sqrt         7610   \n",
       "\n",
       "                                            description  \n",
       "0     CAGE:Clontech Human Universal Reference Total ...  \n",
       "1     CAGE:Clontech Human Universal Reference Total ...  \n",
       "2     CAGE:SABiosciences XpressRef Human Universal T...  \n",
       "3     CAGE:SABiosciences XpressRef Human Universal T...  \n",
       "4     CAGE:Universal RNA - Human Normal Tissues Bioc...  \n",
       "...                                                 ...  \n",
       "7606                                         RNA:uterus  \n",
       "7607                                         RNA:uterus  \n",
       "7608                                         RNA:vagina  \n",
       "7609                                         RNA:vagina  \n",
       "7610                                         RNA:vagina  \n",
       "\n",
       "[2823 rows x 8 columns]"
      ]
     },
     "execution_count": 9,
     "metadata": {},
     "output_type": "execute_result"
    }
   ],
   "source": [
    "target_df.iloc[cage_rna_tracks]"
   ]
  },
  {
   "cell_type": "code",
   "execution_count": 5,
   "id": "3b3831f7-298a-4521-ac3b-dc921b57b068",
   "metadata": {},
   "outputs": [],
   "source": [
    "target_df = pd.read_csv('../data/enformer_targets_human.txt', sep='\\t')\n"
   ]
  },
  {
   "cell_type": "code",
   "execution_count": 19,
   "id": "81fa9c09-2609-481b-aa42-21e35baec146",
   "metadata": {},
   "outputs": [
    {
     "data": {
      "text/plain": [
       "1"
      ]
     },
     "execution_count": 19,
     "metadata": {},
     "output_type": "execute_result"
    }
   ],
   "source": [
    "np.sum([True if 'TM-31' in t else False for t in target_df['description']])"
   ]
  },
  {
   "cell_type": "code",
   "execution_count": 16,
   "id": "a911ee10-d059-4685-b2b0-83cdcf2d0c27",
   "metadata": {},
   "outputs": [
    {
     "data": {
      "text/plain": [
       "[[4852, 'CAGE:lung adenocarcinoma cell line:A549']]"
      ]
     },
     "execution_count": 16,
     "metadata": {},
     "output_type": "execute_result"
    }
   ],
   "source": [
    "[ [i,t] for i, t in enumerate(target_df['description']) if 'CAGE' in t and 'A549' in t]"
   ]
  },
  {
   "cell_type": "code",
   "execution_count": 14,
   "id": "6b8acdef-aa4f-4cfd-b462-31f33f090d40",
   "metadata": {},
   "outputs": [
    {
     "data": {
      "text/plain": [
       "['CAGE:prostate cancer cell line:PC-3']"
      ]
     },
     "execution_count": 14,
     "metadata": {},
     "output_type": "execute_result"
    }
   ],
   "source": [
    "[ t for t in target_df['description'] if 'CAGE' in t and 'PC-3' in t]"
   ]
  },
  {
   "cell_type": "code",
   "execution_count": 17,
   "id": "b1869aa4-f9a9-4ef5-a299-877859c511e9",
   "metadata": {},
   "outputs": [
    {
     "data": {
      "text/plain": [
       "['CAGE:epitheloid carcinoma cell line: HelaS3 ENCODE, biol_']"
      ]
     },
     "execution_count": 17,
     "metadata": {},
     "output_type": "execute_result"
    }
   ],
   "source": [
    "[ t for t in target_df['description'] if 'CAGE' in t and 'HelaS3' in t]"
   ]
  },
  {
   "cell_type": "code",
   "execution_count": null,
   "id": "1624c96d-a04a-4bf4-be2a-56635b62e873",
   "metadata": {},
   "outputs": [],
   "source": []
  }
 ],
 "metadata": {
  "kernelspec": {
   "display_name": "Python 3 (ipykernel)",
   "language": "python",
   "name": "python3"
  },
  "language_info": {
   "codemirror_mode": {
    "name": "ipython",
    "version": 3
   },
   "file_extension": ".py",
   "mimetype": "text/x-python",
   "name": "python",
   "nbconvert_exporter": "python",
   "pygments_lexer": "ipython3",
   "version": "3.9.16"
  }
 },
 "nbformat": 4,
 "nbformat_minor": 5
}
